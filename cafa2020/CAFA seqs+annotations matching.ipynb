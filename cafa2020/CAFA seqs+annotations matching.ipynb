{
 "cells": [
  {
   "cell_type": "code",
   "execution_count": null,
   "metadata": {},
   "outputs": [],
   "source": [
    "from pyfaidx import Faidx\n",
    "\n",
    "INPUT_FASTA_FILE_PATH = '/cs/phd/nadavb/cafa_project/data/uniref90.fasta'\n",
    "\n",
    "seqs_faidx = Faidx(INPUT_FASTA_FILE_PATH)"
   ]
  },
  {
   "cell_type": "code",
   "execution_count": 27,
   "metadata": {},
   "outputs": [
    {
     "name": "stdout",
     "output_type": "stream",
     "text": [
      "Loading 5000 GO annotations...\n"
     ]
    },
    {
     "ename": "AttributeError",
     "evalue": "module 'datetime' has no attribute 'now'",
     "output_type": "error",
     "traceback": [
      "\u001b[0;31m---------------------------------------------------------------------------\u001b[0m",
      "\u001b[0;31mAttributeError\u001b[0m                            Traceback (most recent call last)",
      "\u001b[0;32m<ipython-input-27-2115fb4f6be8>\u001b[0m in \u001b[0;36m<module>\u001b[0;34m\u001b[0m\n\u001b[1;32m     39\u001b[0m     \u001b[0;32mreturn\u001b[0m \u001b[0mloaded_seqs\u001b[0m\u001b[0;34m,\u001b[0m \u001b[0mloaded_annotations\u001b[0m\u001b[0;34m\u001b[0m\u001b[0;34m\u001b[0m\u001b[0m\n\u001b[1;32m     40\u001b[0m \u001b[0;34m\u001b[0m\u001b[0m\n\u001b[0;32m---> 41\u001b[0;31m \u001b[0mloaded_seqs\u001b[0m\u001b[0;34m,\u001b[0m \u001b[0mloaded_annotations\u001b[0m \u001b[0;34m=\u001b[0m \u001b[0mload_data\u001b[0m\u001b[0;34m(\u001b[0m\u001b[0;34m)\u001b[0m\u001b[0;34m\u001b[0m\u001b[0;34m\u001b[0m\u001b[0m\n\u001b[0m",
      "\u001b[0;32m<ipython-input-27-2115fb4f6be8>\u001b[0m in \u001b[0;36mload_data\u001b[0;34m()\u001b[0m\n\u001b[1;32m     11\u001b[0m     \u001b[0mprint\u001b[0m\u001b[0;34m(\u001b[0m\u001b[0;34m'Loading %s GO annotations...'\u001b[0m \u001b[0;34m%\u001b[0m \u001b[0mN_SEQS_TO_READ\u001b[0m\u001b[0;34m)\u001b[0m\u001b[0;34m\u001b[0m\u001b[0;34m\u001b[0m\u001b[0m\n\u001b[1;32m     12\u001b[0m     \u001b[0mcnx\u001b[0m \u001b[0;34m=\u001b[0m \u001b[0msqlite3\u001b[0m\u001b[0;34m.\u001b[0m\u001b[0mconnect\u001b[0m\u001b[0;34m(\u001b[0m\u001b[0mANNOTATIONS_SQLITE_FILE_PATH\u001b[0m\u001b[0;34m)\u001b[0m\u001b[0;34m\u001b[0m\u001b[0;34m\u001b[0m\u001b[0m\n\u001b[0;32m---> 13\u001b[0;31m     \u001b[0mprint\u001b[0m\u001b[0;34m(\u001b[0m\u001b[0mdatetime\u001b[0m\u001b[0;34m.\u001b[0m\u001b[0mnow\u001b[0m\u001b[0;34m(\u001b[0m\u001b[0;34m)\u001b[0m\u001b[0;34m)\u001b[0m\u001b[0;34m\u001b[0m\u001b[0;34m\u001b[0m\u001b[0m\n\u001b[0m\u001b[1;32m     14\u001b[0m     go_annots = pd.read_sql_query('SELECT * FROM protein_annotations' + ('' if N_SEQS_TO_READ is None else \\\n\u001b[1;32m     15\u001b[0m             (' ORDER BY RANDOM() LIMIT %d' % N_SEQS_TO_READ)), cnx)\n",
      "\u001b[0;31mAttributeError\u001b[0m: module 'datetime' has no attribute 'now'"
     ]
    }
   ],
   "source": [
    "import json\n",
    "import pandas as pd\n",
    "import sqlite3\n",
    "from datetime import datetime\n",
    "\n",
    "N_SEQS_TO_READ = 5000\n",
    "ANNOTATIONS_SQLITE_FILE_PATH = '/cs/phd/nadavb/cafa_project/data/protein_annotations.db'\n",
    "\n",
    "def load_data():\n",
    "\n",
    "    print('Loading %s GO annotations...' % N_SEQS_TO_READ)\n",
    "    cnx = sqlite3.connect(ANNOTATIONS_SQLITE_FILE_PATH)\n",
    "    print(datetime.now())\n",
    "    go_annots = pd.read_sql_query('SELECT * FROM protein_annotations' + ('' if N_SEQS_TO_READ is None else \\\n",
    "            (' ORDER BY RANDOM() LIMIT %d' % N_SEQS_TO_READ)), cnx)\n",
    "    print(datetime.now())\n",
    "    print('Loaded %d GO annotations (%d columns: %s)' % (go_annots.shape + (', '.join(go_annots.columns),)))\n",
    "\n",
    "    print('Loading Faidx (%s)...' % INPUT_FASTA_FILE_PATH)\n",
    "#     seqs_faidx = Faidx(INPUT_FASTA_FILE_PATH)\n",
    "    print('Finished loading Faidx.')\n",
    "\n",
    "    loaded_seqs = []\n",
    "    loaded_annotations = []\n",
    "\n",
    "    for _, (uniprot_id, raw_annotations) in go_annots[['uniprot_name', 'complete_go_annotation_indices']].iterrows():\n",
    "\n",
    "        seq_fasta_id = 'UniRef90_%s' % uniprot_id.split('_')[0]\n",
    "\n",
    "        try:\n",
    "            seq = str(seqs_faidx.fetch(seq_fasta_id, 1, seqs_faidx.index[seq_fasta_id].rlen))\n",
    "            loaded_seqs.append(seq)\n",
    "            loaded_annotations.append(json.loads(raw_annotations))\n",
    "        except KeyError:\n",
    "            print('Sequence ID %s was not found in the FASTA file.' % seq_fasta_id)\n",
    "\n",
    "    assert len(loaded_seqs) == len(loaded_annotations)\n",
    "    print('Successfully loaded %d sequences with annotations (of %d).' % (len(loaded_seqs), len(go_annots)))\n",
    "    return loaded_seqs, loaded_annotations\n",
    "\n",
    "loaded_seqs, loaded_annotations = load_data()"
   ]
  },
  {
   "cell_type": "code",
   "execution_count": 25,
   "metadata": {},
   "outputs": [
    {
     "data": {
      "text/plain": [
       "(array([1.000e+00, 2.000e+00, 0.000e+00, 0.000e+00, 0.000e+00, 1.000e+00,\n",
       "        0.000e+00, 0.000e+00, 1.200e+01, 4.978e+03]),\n",
       " array([2.161368  , 2.2263887 , 2.2914094 , 2.3564301 , 2.4214508 ,\n",
       "        2.4864715 , 2.5514922 , 2.6165129 , 2.68153361, 2.74655431,\n",
       "        2.81157501]),\n",
       " <a list of 10 Patch objects>)"
      ]
     },
     "execution_count": 25,
     "metadata": {},
     "output_type": "execute_result"
    },
    {
     "data": {
      "image/png": "[encoded data removed]",
      "text/plain": [
       "<Figure size 432x288 with 1 Axes>"
      ]
     },
     "metadata": {
      "needs_background": "light"
     },
     "output_type": "display_data"
    }
   ],
   "source": [
    "import numpy as np\n",
    "import matplotlib.pyplot as plt\n",
    "\n",
    "fig, ax = plt.subplots()\n",
    "ax.hist(np.log10(list(map(len, loaded_seqs))))"
   ]
  }
 ],
 "metadata": {
  "kernelspec": {
   "display_name": "Python 3",
   "language": "python",
   "name": "python3"
  },
  "language_info": {
   "codemirror_mode": {
    "name": "ipython",
    "version": 3
   },
   "file_extension": ".py",
   "mimetype": "text/x-python",
   "name": "python",
   "nbconvert_exporter": "python",
   "pygments_lexer": "ipython3",
   "version": "3.7.3"
  }
 },
 "nbformat": 4,
 "nbformat_minor": 2
}
