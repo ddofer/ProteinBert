{
 "cells": [
  {
   "cell_type": "markdown",
   "metadata": {},
   "source": [
    "# Setup"
   ]
  },
  {
   "cell_type": "code",
   "execution_count": 46,
   "metadata": {},
   "outputs": [],
   "source": [
    "import os\n",
    "import json\n",
    "from collections import Counter\n",
    "\n",
    "import numpy as np\n",
    "import pandas as pd\n",
    "import sqlite3\n",
    "import matplotlib.pyplot as plt\n",
    "\n",
    "from Bio import SeqIO\n",
    "\n",
    "from IPython.display import display"
   ]
  },
  {
   "cell_type": "code",
   "execution_count": 36,
   "metadata": {},
   "outputs": [],
   "source": [
    "SEQS_FASTA_FILE_PATH = '/cs/phd/nadavb/cafa_project/data/uniref90.fasta'\n",
    "ANNOTATIONS_SQLITE_FILE_PATH = '/cs/phd/nadavb/cafa_project/data/protein_annotations.db'\n",
    "SEQS_AND_ANNOTATIONS_CHUNKS_DIR = '/cs/phd/nadavb/cafa_project/data/seqs_and_annotations'"
   ]
  },
  {
   "cell_type": "markdown",
   "metadata": {},
   "source": [
    "# Load annotations"
   ]
  },
  {
   "cell_type": "code",
   "execution_count": 7,
   "metadata": {},
   "outputs": [
    {
     "data": {
      "text/html": [
       "<div>\n",
       "<style scoped>\n",
       "    .dataframe tbody tr th:only-of-type {\n",
       "        vertical-align: middle;\n",
       "    }\n",
       "\n",
       "    .dataframe tbody tr th {\n",
       "        vertical-align: top;\n",
       "    }\n",
       "\n",
       "    .dataframe thead th {\n",
       "        text-align: right;\n",
       "    }\n",
       "</style>\n",
       "<table border=\"1\" class=\"dataframe\">\n",
       "  <thead>\n",
       "    <tr style=\"text-align: right;\">\n",
       "      <th></th>\n",
       "      <th>uniprot_name</th>\n",
       "      <th>complete_go_annotation_indices</th>\n",
       "    </tr>\n",
       "  </thead>\n",
       "  <tbody>\n",
       "    <tr>\n",
       "      <th>0</th>\n",
       "      <td>A0A5A9P0L4_9TELE</td>\n",
       "      <td>[]</td>\n",
       "    </tr>\n",
       "    <tr>\n",
       "      <th>1</th>\n",
       "      <td>A0A410P257_9BACT</td>\n",
       "      <td>[]</td>\n",
       "    </tr>\n",
       "    <tr>\n",
       "      <th>2</th>\n",
       "      <td>A0A5A9Q4C1_9CETA</td>\n",
       "      <td>[]</td>\n",
       "    </tr>\n",
       "    <tr>\n",
       "      <th>3</th>\n",
       "      <td>UPI0011814A49</td>\n",
       "      <td>[]</td>\n",
       "    </tr>\n",
       "    <tr>\n",
       "      <th>4</th>\n",
       "      <td>UPI001186A1A9</td>\n",
       "      <td>[]</td>\n",
       "    </tr>\n",
       "    <tr>\n",
       "      <th>...</th>\n",
       "      <td>...</td>\n",
       "      <td>...</td>\n",
       "    </tr>\n",
       "    <tr>\n",
       "      <th>106555988</th>\n",
       "      <td>W8CWT7_9HIV1</td>\n",
       "      <td>[]</td>\n",
       "    </tr>\n",
       "    <tr>\n",
       "      <th>106555989</th>\n",
       "      <td>A0A1D8QFB5_9HIV1</td>\n",
       "      <td>[]</td>\n",
       "    </tr>\n",
       "    <tr>\n",
       "      <th>106555990</th>\n",
       "      <td>W8CWU3_9HIV1</td>\n",
       "      <td>[]</td>\n",
       "    </tr>\n",
       "    <tr>\n",
       "      <th>106555991</th>\n",
       "      <td>F1AU43_9RETR</td>\n",
       "      <td>[]</td>\n",
       "    </tr>\n",
       "    <tr>\n",
       "      <th>106555992</th>\n",
       "      <td>K0JAJ8_9HIV1</td>\n",
       "      <td>[]</td>\n",
       "    </tr>\n",
       "  </tbody>\n",
       "</table>\n",
       "<p>106555993 rows × 2 columns</p>\n",
       "</div>"
      ],
      "text/plain": [
       "               uniprot_name complete_go_annotation_indices\n",
       "0          A0A5A9P0L4_9TELE                             []\n",
       "1          A0A410P257_9BACT                             []\n",
       "2          A0A5A9Q4C1_9CETA                             []\n",
       "3             UPI0011814A49                             []\n",
       "4             UPI001186A1A9                             []\n",
       "...                     ...                            ...\n",
       "106555988      W8CWT7_9HIV1                             []\n",
       "106555989  A0A1D8QFB5_9HIV1                             []\n",
       "106555990      W8CWU3_9HIV1                             []\n",
       "106555991      F1AU43_9RETR                             []\n",
       "106555992      K0JAJ8_9HIV1                             []\n",
       "\n",
       "[106555993 rows x 2 columns]"
      ]
     },
     "metadata": {},
     "output_type": "display_data"
    }
   ],
   "source": [
    "cnx = sqlite3.connect(ANNOTATIONS_SQLITE_FILE_PATH)\n",
    "go_annots = pd.read_sql_query('SELECT uniprot_name, complete_go_annotation_indices FROM protein_annotations', cnx)\n",
    "display(go_annots)"
   ]
  },
  {
   "cell_type": "markdown",
   "metadata": {},
   "source": [
    "# Count unique annotations"
   ]
  },
  {
   "cell_type": "code",
   "execution_count": 43,
   "metadata": {},
   "outputs": [
    {
     "data": {
      "text/plain": [
       "10019    14077131\n",
       "4205      4645778\n",
       "2706      3605141\n",
       "4396      2874126\n",
       "24685     2413000\n",
       "           ...   \n",
       "44088           1\n",
       "1871            1\n",
       "11143           1\n",
       "43873           1\n",
       "11461           1\n",
       "Length: 26032, dtype: int64"
      ]
     },
     "metadata": {},
     "output_type": "display_data"
    }
   ],
   "source": [
    "annotation_index_counter = Counter()\n",
    "\n",
    "for raw_annotation_indices in go_annots['complete_go_annotation_indices']:\n",
    "    annotation_index_counter.update(json.loads(raw_annotation_indices))\n",
    "    \n",
    "annotation_index_counter = pd.Series(annotation_index_counter).sort_values(ascending = False)\n",
    "display(annotation_index_counter)"
   ]
  },
  {
   "cell_type": "code",
   "execution_count": 47,
   "metadata": {},
   "outputs": [
    {
     "data": {
      "text/plain": [
       "(array([4.846e+03, 7.013e+03, 6.299e+03, 3.559e+03, 2.174e+03, 1.591e+03,\n",
       "        4.180e+02, 1.050e+02, 2.300e+01, 4.000e+00]),\n",
       " array([0.        , 0.71485142, 1.42970283, 2.14455425, 2.85940566,\n",
       "        3.57425708, 4.28910849, 5.00395991, 5.71881132, 6.43366274,\n",
       "        7.14851415]),\n",
       " <a list of 10 Patch objects>)"
      ]
     },
     "execution_count": 47,
     "metadata": {},
     "output_type": "execute_result"
    },
    {
     "data": {
      "image/png": "[encoded data removed]",
      "text/plain": [
       "<Figure size 432x216 with 1 Axes>"
      ]
     },
     "metadata": {
      "needs_background": "light"
     },
     "output_type": "display_data"
    }
   ],
   "source": [
    "fig, ax = plt.subplots(figsize = (6, 3))\n",
    "ax.hist(np.log10(annotation_index_counter))"
   ]
  },
  {
   "cell_type": "code",
   "execution_count": 52,
   "metadata": {},
   "outputs": [
    {
     "data": {
      "text/plain": [
       "5955"
      ]
     },
     "execution_count": 52,
     "metadata": {},
     "output_type": "execute_result"
    }
   ],
   "source": [
    "(annotation_index_counter >= 300).sum()"
   ]
  },
  {
   "cell_type": "code",
   "execution_count": 54,
   "metadata": {},
   "outputs": [],
   "source": [
    "annotation_index_counter.to_csv('/cs/phd/nadavb/cafa_project/data/unique_annotations_counts.csv', header = False)"
   ]
  },
  {
   "cell_type": "markdown",
   "metadata": {},
   "source": [
    "# Combine the annotations with the sequences"
   ]
  },
  {
   "cell_type": "code",
   "execution_count": 12,
   "metadata": {},
   "outputs": [
    {
     "data": {
      "text/html": [
       "<div>\n",
       "<style scoped>\n",
       "    .dataframe tbody tr th:only-of-type {\n",
       "        vertical-align: middle;\n",
       "    }\n",
       "\n",
       "    .dataframe tbody tr th {\n",
       "        vertical-align: top;\n",
       "    }\n",
       "\n",
       "    .dataframe thead th {\n",
       "        text-align: right;\n",
       "    }\n",
       "</style>\n",
       "<table border=\"1\" class=\"dataframe\">\n",
       "  <thead>\n",
       "    <tr style=\"text-align: right;\">\n",
       "      <th></th>\n",
       "      <th>uniprot_name</th>\n",
       "      <th>complete_go_annotation_indices</th>\n",
       "    </tr>\n",
       "    <tr>\n",
       "      <th>expected_uniref_id</th>\n",
       "      <th></th>\n",
       "      <th></th>\n",
       "    </tr>\n",
       "  </thead>\n",
       "  <tbody>\n",
       "    <tr>\n",
       "      <th>UniRef90_A0A5A9P0L4</th>\n",
       "      <td>A0A5A9P0L4_9TELE</td>\n",
       "      <td>[]</td>\n",
       "    </tr>\n",
       "    <tr>\n",
       "      <th>UniRef90_A0A410P257</th>\n",
       "      <td>A0A410P257_9BACT</td>\n",
       "      <td>[]</td>\n",
       "    </tr>\n",
       "    <tr>\n",
       "      <th>UniRef90_A0A5A9Q4C1</th>\n",
       "      <td>A0A5A9Q4C1_9CETA</td>\n",
       "      <td>[]</td>\n",
       "    </tr>\n",
       "    <tr>\n",
       "      <th>UniRef90_UPI0011814A49</th>\n",
       "      <td>UPI0011814A49</td>\n",
       "      <td>[]</td>\n",
       "    </tr>\n",
       "    <tr>\n",
       "      <th>UniRef90_UPI001186A1A9</th>\n",
       "      <td>UPI001186A1A9</td>\n",
       "      <td>[]</td>\n",
       "    </tr>\n",
       "    <tr>\n",
       "      <th>...</th>\n",
       "      <td>...</td>\n",
       "      <td>...</td>\n",
       "    </tr>\n",
       "    <tr>\n",
       "      <th>UniRef90_W8CWT7</th>\n",
       "      <td>W8CWT7_9HIV1</td>\n",
       "      <td>[]</td>\n",
       "    </tr>\n",
       "    <tr>\n",
       "      <th>UniRef90_A0A1D8QFB5</th>\n",
       "      <td>A0A1D8QFB5_9HIV1</td>\n",
       "      <td>[]</td>\n",
       "    </tr>\n",
       "    <tr>\n",
       "      <th>UniRef90_W8CWU3</th>\n",
       "      <td>W8CWU3_9HIV1</td>\n",
       "      <td>[]</td>\n",
       "    </tr>\n",
       "    <tr>\n",
       "      <th>UniRef90_F1AU43</th>\n",
       "      <td>F1AU43_9RETR</td>\n",
       "      <td>[]</td>\n",
       "    </tr>\n",
       "    <tr>\n",
       "      <th>UniRef90_K0JAJ8</th>\n",
       "      <td>K0JAJ8_9HIV1</td>\n",
       "      <td>[]</td>\n",
       "    </tr>\n",
       "  </tbody>\n",
       "</table>\n",
       "<p>106555993 rows × 2 columns</p>\n",
       "</div>"
      ],
      "text/plain": [
       "                            uniprot_name complete_go_annotation_indices\n",
       "expected_uniref_id                                                     \n",
       "UniRef90_A0A5A9P0L4     A0A5A9P0L4_9TELE                             []\n",
       "UniRef90_A0A410P257     A0A410P257_9BACT                             []\n",
       "UniRef90_A0A5A9Q4C1     A0A5A9Q4C1_9CETA                             []\n",
       "UniRef90_UPI0011814A49     UPI0011814A49                             []\n",
       "UniRef90_UPI001186A1A9     UPI001186A1A9                             []\n",
       "...                                  ...                            ...\n",
       "UniRef90_W8CWT7             W8CWT7_9HIV1                             []\n",
       "UniRef90_A0A1D8QFB5     A0A1D8QFB5_9HIV1                             []\n",
       "UniRef90_W8CWU3             W8CWU3_9HIV1                             []\n",
       "UniRef90_F1AU43             F1AU43_9RETR                             []\n",
       "UniRef90_K0JAJ8             K0JAJ8_9HIV1                             []\n",
       "\n",
       "[106555993 rows x 2 columns]"
      ]
     },
     "execution_count": 12,
     "metadata": {},
     "output_type": "execute_result"
    }
   ],
   "source": [
    "go_annots['expected_uniref_id'] = go_annots['uniprot_name'].apply(lambda uniprot_name: 'UniRef90_%s' % \\\n",
    "        uniprot_name.split('_')[0])\n",
    "go_annots.set_index('expected_uniref_id', inplace = True)\n",
    "display(go_annots)"
   ]
  },
  {
   "cell_type": "code",
   "execution_count": 25,
   "metadata": {},
   "outputs": [],
   "source": [
    "uniref_id_to_annots_index = {uniref_id: i for i, uniref_id in enumerate(go_annots.index)}"
   ]
  },
  {
   "cell_type": "code",
   "execution_count": 38,
   "metadata": {},
   "outputs": [
    {
     "name": "stdout",
     "output_type": "stream",
     "text": [
      "Saving chunk 0. Current index: 1349007, total failed: 349008.\n",
      "Saving chunk 1. Current index: 2349007, total failed: 349008.\n",
      "Saving chunk 2. Current index: 3349007, total failed: 349008.\n",
      "Saving chunk 3. Current index: 4349007, total failed: 349008.\n",
      "Saving chunk 4. Current index: 5349007, total failed: 349008.\n",
      "Saving chunk 5. Current index: 6349007, total failed: 349008.\n",
      "Saving chunk 6. Current index: 7349007, total failed: 349008.\n",
      "Saving chunk 7. Current index: 8349007, total failed: 349008.\n",
      "Saving chunk 8. Current index: 9349007, total failed: 349008.\n",
      "Saving chunk 9. Current index: 10349007, total failed: 349008.\n",
      "Saving chunk 10. Current index: 11349007, total failed: 349008.\n",
      "Saving chunk 11. Current index: 12349007, total failed: 349008.\n",
      "Saving chunk 12. Current index: 13349007, total failed: 349008.\n",
      "Saving chunk 13. Current index: 14349007, total failed: 349008.\n",
      "Saving chunk 14. Current index: 15349007, total failed: 349008.\n",
      "Saving chunk 15. Current index: 16349007, total failed: 349008.\n",
      "Saving chunk 16. Current index: 17349007, total failed: 349008.\n",
      "Saving chunk 17. Current index: 18349007, total failed: 349008.\n",
      "Saving chunk 18. Current index: 19349007, total failed: 349008.\n",
      "Saving chunk 19. Current index: 20349007, total failed: 349008.\n",
      "Saving chunk 20. Current index: 21349007, total failed: 349008.\n",
      "Saving chunk 21. Current index: 22349007, total failed: 349008.\n",
      "Saving chunk 22. Current index: 23349007, total failed: 349008.\n",
      "Saving chunk 23. Current index: 24349007, total failed: 349008.\n",
      "Saving chunk 24. Current index: 25349007, total failed: 349008.\n",
      "Saving chunk 25. Current index: 26349007, total failed: 349008.\n",
      "Saving chunk 26. Current index: 27349007, total failed: 349008.\n",
      "Saving chunk 27. Current index: 28349007, total failed: 349008.\n",
      "Saving chunk 28. Current index: 29349007, total failed: 349008.\n",
      "Saving chunk 29. Current index: 30349007, total failed: 349008.\n",
      "Saving chunk 30. Current index: 31349007, total failed: 349008.\n",
      "Saving chunk 31. Current index: 32349007, total failed: 349008.\n",
      "Saving chunk 32. Current index: 33349007, total failed: 349008.\n",
      "Saving chunk 33. Current index: 34349007, total failed: 349008.\n",
      "Saving chunk 34. Current index: 35349007, total failed: 349008.\n",
      "Saving chunk 35. Current index: 36349007, total failed: 349008.\n",
      "Saving chunk 36. Current index: 37349007, total failed: 349008.\n",
      "Saving chunk 37. Current index: 38349007, total failed: 349008.\n",
      "Saving chunk 38. Current index: 39349007, total failed: 349008.\n",
      "Saving chunk 39. Current index: 40349007, total failed: 349008.\n",
      "Saving chunk 40. Current index: 41349007, total failed: 349008.\n",
      "Saving chunk 41. Current index: 42349007, total failed: 349008.\n",
      "Saving chunk 42. Current index: 43349007, total failed: 349008.\n",
      "Saving chunk 43. Current index: 44349007, total failed: 349008.\n",
      "Saving chunk 44. Current index: 45349007, total failed: 349008.\n",
      "Saving chunk 45. Current index: 46349007, total failed: 349008.\n",
      "Saving chunk 46. Current index: 47349007, total failed: 349008.\n",
      "Saving chunk 47. Current index: 48349007, total failed: 349008.\n",
      "Saving chunk 48. Current index: 49349007, total failed: 349008.\n",
      "Saving chunk 49. Current index: 50349007, total failed: 349008.\n",
      "Saving chunk 50. Current index: 51349007, total failed: 349008.\n",
      "Saving chunk 51. Current index: 52349007, total failed: 349008.\n",
      "Saving chunk 52. Current index: 53349007, total failed: 349008.\n",
      "Saving chunk 53. Current index: 54349007, total failed: 349008.\n",
      "Saving chunk 54. Current index: 55349007, total failed: 349008.\n",
      "Saving chunk 55. Current index: 56349007, total failed: 349008.\n",
      "Saving chunk 56. Current index: 57349007, total failed: 349008.\n",
      "Saving chunk 57. Current index: 58349007, total failed: 349008.\n",
      "Saving chunk 58. Current index: 59349007, total failed: 349008.\n",
      "Saving chunk 59. Current index: 60349007, total failed: 349008.\n",
      "Saving chunk 60. Current index: 61349007, total failed: 349008.\n",
      "Saving chunk 61. Current index: 62349007, total failed: 349008.\n",
      "Saving chunk 62. Current index: 63349007, total failed: 349008.\n",
      "Saving chunk 63. Current index: 64349007, total failed: 349008.\n",
      "Saving chunk 64. Current index: 65349007, total failed: 349008.\n",
      "Saving chunk 65. Current index: 66349007, total failed: 349008.\n",
      "Saving chunk 66. Current index: 67349007, total failed: 349008.\n",
      "Saving chunk 67. Current index: 68349007, total failed: 349008.\n",
      "Saving chunk 68. Current index: 69349007, total failed: 349008.\n",
      "Saving chunk 69. Current index: 70349007, total failed: 349008.\n",
      "Saving chunk 70. Current index: 71349007, total failed: 349008.\n",
      "Saving chunk 71. Current index: 72349007, total failed: 349008.\n",
      "Saving chunk 72. Current index: 73349007, total failed: 349008.\n",
      "Saving chunk 73. Current index: 74349007, total failed: 349008.\n",
      "Saving chunk 74. Current index: 75349007, total failed: 349008.\n",
      "Saving chunk 75. Current index: 76349007, total failed: 349008.\n",
      "Saving chunk 76. Current index: 77349007, total failed: 349008.\n",
      "Saving chunk 77. Current index: 78349007, total failed: 349008.\n",
      "Saving chunk 78. Current index: 79349007, total failed: 349008.\n",
      "Saving chunk 79. Current index: 80349007, total failed: 349008.\n",
      "Saving chunk 80. Current index: 81349007, total failed: 349008.\n",
      "Saving chunk 81. Current index: 82349007, total failed: 349008.\n",
      "Saving chunk 82. Current index: 83349007, total failed: 349008.\n",
      "Saving chunk 83. Current index: 84349007, total failed: 349008.\n",
      "Saving chunk 84. Current index: 85349007, total failed: 349008.\n",
      "Saving chunk 85. Current index: 86349007, total failed: 349008.\n",
      "Saving chunk 86. Current index: 87349007, total failed: 349008.\n",
      "Saving chunk 87. Current index: 88349007, total failed: 349008.\n",
      "Saving chunk 88. Current index: 89349007, total failed: 349008.\n",
      "Saving chunk 89. Current index: 90349007, total failed: 349008.\n",
      "Saving chunk 90. Current index: 91349007, total failed: 349008.\n",
      "Saving chunk 91. Current index: 92349007, total failed: 349008.\n",
      "Saving chunk 92. Current index: 93349007, total failed: 349008.\n",
      "Saving chunk 93. Current index: 94349007, total failed: 349008.\n",
      "Saving chunk 94. Current index: 95349007, total failed: 349008.\n",
      "Saving chunk 95. Current index: 96349007, total failed: 349008.\n",
      "Saving chunk 96. Current index: 97349007, total failed: 349008.\n",
      "Saving chunk 97. Current index: 98349007, total failed: 349008.\n",
      "Saving chunk 98. Current index: 99349007, total failed: 349008.\n",
      "Saving chunk 99. Current index: 100349007, total failed: 349008.\n",
      "Saving chunk 100. Current index: 101349007, total failed: 349008.\n",
      "Saving chunk 101. Current index: 102349007, total failed: 349008.\n",
      "Saving chunk 102. Current index: 103349007, total failed: 349008.\n",
      "Saving chunk 103. Current index: 104349007, total failed: 349008.\n",
      "Saving chunk 104. Current index: 105349007, total failed: 349008.\n",
      "Saving chunk 105. Current index: 106349007, total failed: 349008.\n",
      "Saving chunk 106. Current index: 106555992, total failed: 349008.\n",
      "Done.\n"
     ]
    }
   ],
   "source": [
    "CHUNK_SIZE = 1e06\n",
    "\n",
    "current_chunk = []\n",
    "chunk_index = 0\n",
    "total_failed = 0\n",
    "\n",
    "def save_chunk(i):\n",
    "    global current_chunk, chunk_index, total_failed\n",
    "    print('Saving chunk %d. Current index: %d, total failed: %d.' % (chunk_index, i, total_failed))\n",
    "    pd.DataFrame(current_chunk, columns = ['annotation_index', 'uniref_id', 'uniprot_name', \\\n",
    "            'complete_go_annotation_indices', 'seq']).to_csv(os.path.join(SEQS_AND_ANNOTATIONS_CHUNKS_DIR, \\\n",
    "            'chunk_%d.csv' % chunk_index), index = False)\n",
    "    current_chunk = []\n",
    "    chunk_index += 1\n",
    "\n",
    "for i, record in enumerate(SeqIO.parse(SEQS_FASTA_FILE_PATH, 'fasta')):\n",
    "    \n",
    "    try:\n",
    "        annots_index = uniref_id_to_annots_index[record.id]\n",
    "        uniprot_name, complete_go_annotation_indices = go_annots.iloc[annots_index]\n",
    "        current_chunk.append((annots_index, record.id, uniprot_name, complete_go_annotation_indices, str(record.seq)))\n",
    "    except KeyError:\n",
    "        total_failed += 1\n",
    "        \n",
    "    if len(current_chunk) >= CHUNK_SIZE:\n",
    "        save_chunk(i)\n",
    "        \n",
    "save_chunk(i)\n",
    "print('Done.')"
   ]
  }
 ],
 "metadata": {
  "kernelspec": {
   "display_name": "Python 3",
   "language": "python",
   "name": "python3"
  },
  "language_info": {
   "codemirror_mode": {
    "name": "ipython",
    "version": 3
   },
   "file_extension": ".py",
   "mimetype": "text/x-python",
   "name": "python",
   "nbconvert_exporter": "python",
   "pygments_lexer": "ipython3",
   "version": "3.7.3"
  }
 },
 "nbformat": 4,
 "nbformat_minor": 2
}
