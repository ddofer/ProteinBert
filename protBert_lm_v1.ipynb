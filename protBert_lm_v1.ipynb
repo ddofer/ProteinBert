{
 "cells": [
  {
   "cell_type": "markdown",
   "metadata": {},
   "source": [
    "## language model using a bert model\n",
    "* take 1\n",
    "\n",
    "* Try 1 : keras based [bert-for-tf2], https://github.com/kpe/bert-for-tf2 "
   ]
  },
  {
   "cell_type": "code",
   "execution_count": 2,
   "metadata": {},
   "outputs": [
    {
     "name": "stdout",
     "output_type": "stream",
     "text": [
      "Collecting sentencepiece\n",
      "  Downloading https://files.pythonhosted.org/packages/ce/16/17838ebf03ee21daa3b4da0ca5c344bd060bc2963a7567a071cd7008e996/sentencepiece-0.1.83-cp37-cp37m-win_amd64.whl (1.2MB)\n",
      "Installing collected packages: sentencepiece\n",
      "Successfully installed sentencepiece-0.1.83\n",
      "Collecting pytorch_transformers\n",
      "  Downloading https://files.pythonhosted.org/packages/a3/b7/d3d18008a67e0b968d1ab93ad444fc05699403fa662f634b2f2c318a508b/pytorch_transformers-1.2.0-py3-none-any.whl (176kB)\n",
      "Requirement already satisfied: sentencepiece in c:\\users\\dan ofer\\anaconda3\\lib\\site-packages (from pytorch_transformers) (0.1.83)\n",
      "Requirement already satisfied: tqdm in c:\\users\\dan ofer\\anaconda3\\lib\\site-packages (from pytorch_transformers) (4.40.0)\n",
      "Requirement already satisfied: requests in c:\\users\\dan ofer\\anaconda3\\lib\\site-packages (from pytorch_transformers) (2.22.0)\n",
      "Requirement already satisfied: boto3 in c:\\users\\dan ofer\\anaconda3\\lib\\site-packages (from pytorch_transformers) (1.9.224)\n",
      "Collecting regex\n",
      "  Downloading https://files.pythonhosted.org/packages/48/df/59b662e220472b680ccac13e78c9714d48f14a64814ecdc5000e87536893/regex-2019.12.9-cp37-none-win_amd64.whl (314kB)\n",
      "Requirement already satisfied: torch>=1.0.0 in c:\\users\\dan ofer\\anaconda3\\lib\\site-packages (from pytorch_transformers) (1.0.1)\n",
      "Collecting sacremoses\n",
      "  Downloading https://files.pythonhosted.org/packages/1f/8e/ed5364a06a9ba720fddd9820155cc57300d28f5f43a6fd7b7e817177e642/sacremoses-0.0.35.tar.gz (859kB)\n",
      "Requirement already satisfied: numpy in c:\\users\\dan ofer\\anaconda3\\lib\\site-packages (from pytorch_transformers) (1.17.4)\n",
      "Requirement already satisfied: certifi>=2017.4.17 in c:\\users\\dan ofer\\anaconda3\\lib\\site-packages (from requests->pytorch_transformers) (2019.11.28)\n",
      "Requirement already satisfied: chardet<3.1.0,>=3.0.2 in c:\\users\\dan ofer\\anaconda3\\lib\\site-packages (from requests->pytorch_transformers) (3.0.4)\n",
      "Requirement already satisfied: urllib3!=1.25.0,!=1.25.1,<1.26,>=1.21.1 in c:\\users\\dan ofer\\anaconda3\\lib\\site-packages (from requests->pytorch_transformers) (1.25.7)\n",
      "Requirement already satisfied: idna<2.9,>=2.5 in c:\\users\\dan ofer\\anaconda3\\lib\\site-packages (from requests->pytorch_transformers) (2.8)\n",
      "Requirement already satisfied: s3transfer<0.3.0,>=0.2.0 in c:\\users\\dan ofer\\anaconda3\\lib\\site-packages (from boto3->pytorch_transformers) (0.2.1)\n",
      "Requirement already satisfied: jmespath<1.0.0,>=0.7.1 in c:\\users\\dan ofer\\anaconda3\\lib\\site-packages (from boto3->pytorch_transformers) (0.9.4)\n",
      "Requirement already satisfied: botocore<1.13.0,>=1.12.224 in c:\\users\\dan ofer\\anaconda3\\lib\\site-packages (from boto3->pytorch_transformers) (1.12.224)\n",
      "Requirement already satisfied: six in c:\\users\\dan ofer\\anaconda3\\lib\\site-packages (from sacremoses->pytorch_transformers) (1.13.0)\n",
      "Requirement already satisfied: click in c:\\users\\dan ofer\\anaconda3\\lib\\site-packages (from sacremoses->pytorch_transformers) (7.0)\n",
      "Requirement already satisfied: joblib in c:\\users\\dan ofer\\anaconda3\\lib\\site-packages (from sacremoses->pytorch_transformers) (0.14.0)\n",
      "Requirement already satisfied: python-dateutil<3.0.0,>=2.1; python_version >= \"2.7\" in c:\\users\\dan ofer\\anaconda3\\lib\\site-packages (from botocore<1.13.0,>=1.12.224->boto3->pytorch_transformers) (2.8.1)\n",
      "Requirement already satisfied: docutils<0.16,>=0.10 in c:\\users\\dan ofer\\anaconda3\\lib\\site-packages (from botocore<1.13.0,>=1.12.224->boto3->pytorch_transformers) (0.15.2)\n",
      "Building wheels for collected packages: sacremoses\n",
      "  Building wheel for sacremoses (setup.py): started\n",
      "  Building wheel for sacremoses (setup.py): finished with status 'done'\n",
      "  Created wheel for sacremoses: filename=sacremoses-0.0.35-cp37-none-any.whl size=884004 sha256=649cc9b2ce307eb2f82f4ebe05e7fd115a57f9d5793cdc9fcecea4fb70dec4f5\n",
      "  Stored in directory: C:\\Users\\Dan Ofer\\AppData\\Local\\pip\\Cache\\wheels\\63\\2a\\db\\63e2909042c634ef551d0d9ac825b2b0b32dede4a6d87ddc94\n",
      "Successfully built sacremoses\n",
      "Installing collected packages: regex, sacremoses, pytorch-transformers\n",
      "Successfully installed pytorch-transformers-1.2.0 regex-2019.12.9 sacremoses-0.0.35\n"
     ]
    }
   ],
   "source": [
    "# !pip install sentencepiece\n",
    "# ! pip install pytorch_transformers"
   ]
  },
  {
   "cell_type": "code",
   "execution_count": 1,
   "metadata": {},
   "outputs": [],
   "source": [
    "# import subprocess\n",
    "# import keras\n",
    "\n",
    "import numpy as np\n",
    "import pandas as pd\n",
    "\n",
    "import sentencepiece as spm\n",
    "\n",
    "%matplotlib inline"
   ]
  },
  {
   "cell_type": "code",
   "execution_count": 2,
   "metadata": {},
   "outputs": [],
   "source": [
    "sequences_file = \"./data/sample_seqs.csv\""
   ]
  },
  {
   "cell_type": "code",
   "execution_count": 4,
   "metadata": {},
   "outputs": [
    {
     "name": "stdout",
     "output_type": "stream",
     "text": [
      "(1000000, 6)\n"
     ]
    },
    {
     "data": {
      "text/html": [
       "<div>\n",
       "<style scoped>\n",
       "    .dataframe tbody tr th:only-of-type {\n",
       "        vertical-align: middle;\n",
       "    }\n",
       "\n",
       "    .dataframe tbody tr th {\n",
       "        vertical-align: top;\n",
       "    }\n",
       "\n",
       "    .dataframe thead th {\n",
       "        text-align: right;\n",
       "    }\n",
       "</style>\n",
       "<table border=\"1\" class=\"dataframe\">\n",
       "  <thead>\n",
       "    <tr style=\"text-align: right;\">\n",
       "      <th></th>\n",
       "      <th>tax_id</th>\n",
       "      <th>uniprot_name</th>\n",
       "      <th>seq</th>\n",
       "      <th>n_complete_go_annotations</th>\n",
       "      <th>complete_go_annotation_indices</th>\n",
       "      <th>seq_len</th>\n",
       "    </tr>\n",
       "  </thead>\n",
       "  <tbody>\n",
       "    <tr>\n",
       "      <th>0</th>\n",
       "      <td>1572043.0</td>\n",
       "      <td>A0A5A9P0L4_9TELE</td>\n",
       "      <td>MEEITQIKKRLSQTVRLEGKEDLLSKKDSITNLKTEEHVSVKKMVI...</td>\n",
       "      <td>0</td>\n",
       "      <td>[]</td>\n",
       "      <td>45354</td>\n",
       "    </tr>\n",
       "    <tr>\n",
       "      <th>1</th>\n",
       "      <td>1930593.0</td>\n",
       "      <td>A0A410P257_9BACT</td>\n",
       "      <td>MKAIAWLIVLTFLPEQVAWAVDYNLRGALHGAVAPLVSAATVATDG...</td>\n",
       "      <td>0</td>\n",
       "      <td>[]</td>\n",
       "      <td>39677</td>\n",
       "    </tr>\n",
       "    <tr>\n",
       "      <th>2</th>\n",
       "      <td>72004.0</td>\n",
       "      <td>A0A5A9Q4C1_9CETA</td>\n",
       "      <td>MSSQESPAVEFSTTTVSSVAVQAGDSKIVIAVIKCGKWIQLQLAES...</td>\n",
       "      <td>0</td>\n",
       "      <td>[]</td>\n",
       "      <td>38354</td>\n",
       "    </tr>\n",
       "    <tr>\n",
       "      <th>3</th>\n",
       "      <td>375764.0</td>\n",
       "      <td>UPI0011814A49</td>\n",
       "      <td>MSTQAPSFTQPLQSVVALEGSAATFQAQVSGSPVPEVSWFRDGQVL...</td>\n",
       "      <td>0</td>\n",
       "      <td>[]</td>\n",
       "      <td>38182</td>\n",
       "    </tr>\n",
       "    <tr>\n",
       "      <th>4</th>\n",
       "      <td>1415580.0</td>\n",
       "      <td>UPI001186A1A9</td>\n",
       "      <td>MTTEAPKFLQPLQSVVALEGSAATFEARISGFPVPEVSWFRDGQVL...</td>\n",
       "      <td>0</td>\n",
       "      <td>[]</td>\n",
       "      <td>38163</td>\n",
       "    </tr>\n",
       "  </tbody>\n",
       "</table>\n",
       "</div>"
      ],
      "text/plain": [
       "      tax_id      uniprot_name  \\\n",
       "0  1572043.0  A0A5A9P0L4_9TELE   \n",
       "1  1930593.0  A0A410P257_9BACT   \n",
       "2    72004.0  A0A5A9Q4C1_9CETA   \n",
       "3   375764.0     UPI0011814A49   \n",
       "4  1415580.0     UPI001186A1A9   \n",
       "\n",
       "                                                 seq  \\\n",
       "0  MEEITQIKKRLSQTVRLEGKEDLLSKKDSITNLKTEEHVSVKKMVI...   \n",
       "1  MKAIAWLIVLTFLPEQVAWAVDYNLRGALHGAVAPLVSAATVATDG...   \n",
       "2  MSSQESPAVEFSTTTVSSVAVQAGDSKIVIAVIKCGKWIQLQLAES...   \n",
       "3  MSTQAPSFTQPLQSVVALEGSAATFQAQVSGSPVPEVSWFRDGQVL...   \n",
       "4  MTTEAPKFLQPLQSVVALEGSAATFEARISGFPVPEVSWFRDGQVL...   \n",
       "\n",
       "   n_complete_go_annotations complete_go_annotation_indices  seq_len  \n",
       "0                          0                             []    45354  \n",
       "1                          0                             []    39677  \n",
       "2                          0                             []    38354  \n",
       "3                          0                             []    38182  \n",
       "4                          0                             []    38163  "
      ]
     },
     "execution_count": 4,
     "metadata": {},
     "output_type": "execute_result"
    }
   ],
   "source": [
    "proteins = pd.read_csv('data/proteins.csv.gz')\n",
    "proteins[\"seq_len\"] = proteins[\"seq\"].str.len()\n",
    "print(proteins.shape)\n",
    "proteins.head()"
   ]
  },
  {
   "cell_type": "code",
   "execution_count": 8,
   "metadata": {},
   "outputs": [
    {
     "data": {
      "text/html": [
       "<div>\n",
       "<style scoped>\n",
       "    .dataframe tbody tr th:only-of-type {\n",
       "        vertical-align: middle;\n",
       "    }\n",
       "\n",
       "    .dataframe tbody tr th {\n",
       "        vertical-align: top;\n",
       "    }\n",
       "\n",
       "    .dataframe thead th {\n",
       "        text-align: right;\n",
       "    }\n",
       "</style>\n",
       "<table border=\"1\" class=\"dataframe\">\n",
       "  <thead>\n",
       "    <tr style=\"text-align: right;\">\n",
       "      <th></th>\n",
       "      <th>tax_id</th>\n",
       "      <th>uniprot_name</th>\n",
       "      <th>seq</th>\n",
       "      <th>n_complete_go_annotations</th>\n",
       "      <th>complete_go_annotation_indices</th>\n",
       "      <th>seq_len</th>\n",
       "    </tr>\n",
       "  </thead>\n",
       "  <tbody>\n",
       "    <tr>\n",
       "      <th>0</th>\n",
       "      <td>1572043.0</td>\n",
       "      <td>A0A5A9P0L4_9TELE</td>\n",
       "      <td>MEEITQIKKRLSQTVRLEGKEDLLSKKDSITNLKTEEHVSVKKMVI...</td>\n",
       "      <td>0</td>\n",
       "      <td>[]</td>\n",
       "      <td>45354</td>\n",
       "    </tr>\n",
       "    <tr>\n",
       "      <th>1</th>\n",
       "      <td>1930593.0</td>\n",
       "      <td>A0A410P257_9BACT</td>\n",
       "      <td>MKAIAWLIVLTFLPEQVAWAVDYNLRGALHGAVAPLVSAATVATDG...</td>\n",
       "      <td>0</td>\n",
       "      <td>[]</td>\n",
       "      <td>39677</td>\n",
       "    </tr>\n",
       "    <tr>\n",
       "      <th>2</th>\n",
       "      <td>72004.0</td>\n",
       "      <td>A0A5A9Q4C1_9CETA</td>\n",
       "      <td>MSSQESPAVEFSTTTVSSVAVQAGDSKIVIAVIKCGKWIQLQLAES...</td>\n",
       "      <td>0</td>\n",
       "      <td>[]</td>\n",
       "      <td>38354</td>\n",
       "    </tr>\n",
       "    <tr>\n",
       "      <th>3</th>\n",
       "      <td>375764.0</td>\n",
       "      <td>UPI0011814A49</td>\n",
       "      <td>MSTQAPSFTQPLQSVVALEGSAATFQAQVSGSPVPEVSWFRDGQVL...</td>\n",
       "      <td>0</td>\n",
       "      <td>[]</td>\n",
       "      <td>38182</td>\n",
       "    </tr>\n",
       "    <tr>\n",
       "      <th>4</th>\n",
       "      <td>1415580.0</td>\n",
       "      <td>UPI001186A1A9</td>\n",
       "      <td>MTTEAPKFLQPLQSVVALEGSAATFEARISGFPVPEVSWFRDGQVL...</td>\n",
       "      <td>0</td>\n",
       "      <td>[]</td>\n",
       "      <td>38163</td>\n",
       "    </tr>\n",
       "  </tbody>\n",
       "</table>\n",
       "</div>"
      ],
      "text/plain": [
       "      tax_id      uniprot_name  \\\n",
       "0  1572043.0  A0A5A9P0L4_9TELE   \n",
       "1  1930593.0  A0A410P257_9BACT   \n",
       "2    72004.0  A0A5A9Q4C1_9CETA   \n",
       "3   375764.0     UPI0011814A49   \n",
       "4  1415580.0     UPI001186A1A9   \n",
       "\n",
       "                                                 seq  \\\n",
       "0  MEEITQIKKRLSQTVRLEGKEDLLSKKDSITNLKTEEHVSVKKMVI...   \n",
       "1  MKAIAWLIVLTFLPEQVAWAVDYNLRGALHGAVAPLVSAATVATDG...   \n",
       "2  MSSQESPAVEFSTTTVSSVAVQAGDSKIVIAVIKCGKWIQLQLAES...   \n",
       "3  MSTQAPSFTQPLQSVVALEGSAATFQAQVSGSPVPEVSWFRDGQVL...   \n",
       "4  MTTEAPKFLQPLQSVVALEGSAATFEARISGFPVPEVSWFRDGQVL...   \n",
       "\n",
       "   n_complete_go_annotations complete_go_annotation_indices  seq_len  \n",
       "0                          0                             []    45354  \n",
       "1                          0                             []    39677  \n",
       "2                          0                             []    38354  \n",
       "3                          0                             []    38182  \n",
       "4                          0                             []    38163  "
      ]
     },
     "execution_count": 8,
     "metadata": {},
     "output_type": "execute_result"
    }
   ],
   "source": [
    "proteins.head()"
   ]
  },
  {
   "cell_type": "code",
   "execution_count": 9,
   "metadata": {},
   "outputs": [
    {
     "data": {
      "text/html": [
       "<div>\n",
       "<style scoped>\n",
       "    .dataframe tbody tr th:only-of-type {\n",
       "        vertical-align: middle;\n",
       "    }\n",
       "\n",
       "    .dataframe tbody tr th {\n",
       "        vertical-align: top;\n",
       "    }\n",
       "\n",
       "    .dataframe thead th {\n",
       "        text-align: right;\n",
       "    }\n",
       "</style>\n",
       "<table border=\"1\" class=\"dataframe\">\n",
       "  <thead>\n",
       "    <tr style=\"text-align: right;\">\n",
       "      <th></th>\n",
       "      <th>tax_id</th>\n",
       "      <th>n_complete_go_annotations</th>\n",
       "      <th>seq_len</th>\n",
       "    </tr>\n",
       "  </thead>\n",
       "  <tbody>\n",
       "    <tr>\n",
       "      <th>count</th>\n",
       "      <td>9.999770e+05</td>\n",
       "      <td>1000000.000000</td>\n",
       "      <td>1000000.000000</td>\n",
       "    </tr>\n",
       "    <tr>\n",
       "      <th>mean</th>\n",
       "      <td>5.562390e+05</td>\n",
       "      <td>9.067817</td>\n",
       "      <td>2336.231343</td>\n",
       "    </tr>\n",
       "    <tr>\n",
       "      <th>std</th>\n",
       "      <td>7.443289e+05</td>\n",
       "      <td>17.448869</td>\n",
       "      <td>1427.527815</td>\n",
       "    </tr>\n",
       "    <tr>\n",
       "      <th>min</th>\n",
       "      <td>2.000000e+00</td>\n",
       "      <td>0.000000</td>\n",
       "      <td>11.000000</td>\n",
       "    </tr>\n",
       "    <tr>\n",
       "      <th>25%</th>\n",
       "      <td>1.014100e+04</td>\n",
       "      <td>0.000000</td>\n",
       "      <td>1687.000000</td>\n",
       "    </tr>\n",
       "    <tr>\n",
       "      <th>50%</th>\n",
       "      <td>1.258780e+05</td>\n",
       "      <td>0.000000</td>\n",
       "      <td>1958.000000</td>\n",
       "    </tr>\n",
       "    <tr>\n",
       "      <th>75%</th>\n",
       "      <td>1.037660e+06</td>\n",
       "      <td>12.000000</td>\n",
       "      <td>2486.000000</td>\n",
       "    </tr>\n",
       "    <tr>\n",
       "      <th>max</th>\n",
       "      <td>2.651628e+06</td>\n",
       "      <td>632.000000</td>\n",
       "      <td>45354.000000</td>\n",
       "    </tr>\n",
       "  </tbody>\n",
       "</table>\n",
       "</div>"
      ],
      "text/plain": [
       "             tax_id  n_complete_go_annotations         seq_len\n",
       "count  9.999770e+05             1000000.000000  1000000.000000\n",
       "mean   5.562390e+05                   9.067817     2336.231343\n",
       "std    7.443289e+05                  17.448869     1427.527815\n",
       "min    2.000000e+00                   0.000000       11.000000\n",
       "25%    1.014100e+04                   0.000000     1687.000000\n",
       "50%    1.258780e+05                   0.000000     1958.000000\n",
       "75%    1.037660e+06                  12.000000     2486.000000\n",
       "max    2.651628e+06                 632.000000    45354.000000"
      ]
     },
     "execution_count": 9,
     "metadata": {},
     "output_type": "execute_result"
    }
   ],
   "source": [
    "proteins.describe()"
   ]
  },
  {
   "cell_type": "code",
   "execution_count": 10,
   "metadata": {},
   "outputs": [
    {
     "data": {
      "text/plain": [
       "(928988, 6)"
      ]
     },
     "execution_count": 10,
     "metadata": {},
     "output_type": "execute_result"
    }
   ],
   "source": [
    "proteins.loc[proteins[\"seq_len\"]<4000].shape[0]"
   ]
  },
  {
   "cell_type": "markdown",
   "metadata": {},
   "source": [
    "### output sample of sequences for LM training\n",
    "* We run the sentence piece on this beforehand in the other notebok - sentencepiece \n",
    "* http://localhost:8888/notebooks/toyData_ProBERT.ipynb"
   ]
  },
  {
   "cell_type": "code",
   "execution_count": 12,
   "metadata": {},
   "outputs": [
    {
     "name": "stderr",
     "output_type": "stream",
     "text": [
      "C:\\Users\\Dan Ofer\\Anaconda3\\lib\\site-packages\\ipykernel_launcher.py:1: FutureWarning: The signature of `Series.to_csv` was aligned to that of `DataFrame.to_csv`, and argument 'header' will change its default value from False to True: please pass an explicit value to suppress this warning.\n",
      "  \"\"\"Entry point for launching an IPython kernel.\n"
     ]
    }
   ],
   "source": [
    "proteins.loc[proteins[\"seq_len\"]<5000].sample(n=30000)[\"seq\"].to_csv(\"./data/sample_seqs.csv\", index = False)"
   ]
  },
  {
   "cell_type": "code",
   "execution_count": null,
   "metadata": {},
   "outputs": [],
   "source": [
    "# # spm.SentencePieceTrainer.Train('--input=uniclust30_2016_1M_sampledSeq.fasta --model_prefix=m --vocab_size=1500')\n",
    "# spm.SentencePieceTrainer.Train('--input=%s --model_prefix=m --vocab_size=16000'%sequences_file)"
   ]
  },
  {
   "cell_type": "markdown",
   "metadata": {},
   "source": [
    "## tokenize using opreviuously trained sentence pioece"
   ]
  },
  {
   "cell_type": "code",
   "execution_count": 5,
   "metadata": {},
   "outputs": [
    {
     "data": {
      "text/plain": [
       "True"
      ]
     },
     "execution_count": 5,
     "metadata": {},
     "output_type": "execute_result"
    }
   ],
   "source": [
    "# makes segmenter instance and loads the model file (m.model)\n",
    "sp = spm.SentencePieceProcessor()\n",
    "sp.load('m.model')"
   ]
  },
  {
   "cell_type": "code",
   "execution_count": 6,
   "metadata": {},
   "outputs": [
    {
     "name": "stdout",
     "output_type": "stream",
     "text": [
      "['▁', 'MR', 'YTV', 'LIA', 'L', 'QGA', 'L', 'LLLLL', 'IDD', 'GQGQ', 'SPY', 'PYP', 'GMP', 'CNS', 'SRQ', 'CGL', 'GTC', 'VHS', 'RCA', 'HCS', 'SDGT', 'LCS', 'PED', 'PT', 'MV', 'WP', 'CCP', 'ES', 'SCQ', 'L', 'VVG', 'LPSL', 'VNH', 'YNC', 'LPN', 'QCT', 'DSS', 'QCP', 'GGFG', 'CM', 'TRR', 'SK', 'CELC', 'KAD', 'GEA', 'CNS', 'PYL', 'DWR', 'KDKE', 'CCS', 'GY', 'CH', 'TEA', 'RGLE', 'GVC', 'IDP', 'KKI', 'FCT', 'PKNP', 'WQ', 'LAP', 'YPP', 'SYH', 'QPT', 'TLR', 'PPTS', 'LYD', 'SWL', 'M', 'SGF', 'LVK', 'STTA', 'PST', 'QEEE', 'DDY']\n",
      "[0, 261, 3435, 2112, 3, 2866, 3, 7330, 1389, 9500, 3091, 4060, 5365, 6116, 2653, 5790, 5014, 3522, 6044, 6251, 7308, 3364, 1347, 165, 227, 606, 6383, 76, 5146, 3, 917, 8768, 6529, 11718, 2114, 8040, 498, 8400, 8666, 683, 2705, 70, 11787, 3365, 1052, 6116, 3694, 6163, 8661, 6444, 255, 503, 1356, 14930, 3704, 2768, 1160, 9902, 15766, 596, 1937, 6559, 6055, 2673, 989, 7826, 3396, 4156, 9, 2157, 1091, 7020, 618, 7252, 3213]\n"
     ]
    }
   ],
   "source": [
    "eg_seq = \"MRYTVLIALQGALLLLLLIDDGQGQSPYPYPGMPCNSSRQCGLGTCVHSRCAHCSSDGTLCSPEDPTMVWPCCPESSCQLVVGLPSLVNHYNCLPNQCTDSSQCPGGFGCMTRRSKCELCKADGEACNSPYLDWRKDKECCSGYCHTEARGLEGVCIDPKKIFCTPKNPWQLAPYPPSYHQPTTLRPPTSLYDSWLMSGFLVKSTTAPSTQEEEDDY\"\n",
    "print(sp.encode_as_pieces(eg_seq))\n",
    "print(sp.encode_as_ids(eg_seq))"
   ]
  },
  {
   "cell_type": "code",
   "execution_count": 26,
   "metadata": {},
   "outputs": [
    {
     "data": {
      "text/plain": [
       "2951.0       5161\n",
       "28450.0      3739\n",
       "2026739.0    3047\n",
       "8187.0       2750\n",
       "282301.0     2711\n",
       "             ... \n",
       "1567104.0       1\n",
       "178900.0        1\n",
       "1567484.0       1\n",
       "240167.0        1\n",
       "1618426.0       1\n",
       "Name: tax_id, Length: 41235, dtype: int64"
      ]
     },
     "execution_count": 26,
     "metadata": {},
     "output_type": "execute_result"
    }
   ],
   "source": [
    "proteins.tax_id.value_counts()"
   ]
  },
  {
   "cell_type": "code",
   "execution_count": 28,
   "metadata": {},
   "outputs": [],
   "source": [
    "proteins[\"taxon_count\"] = proteins.groupby(\"tax_id\")[\"n_complete_go_annotations\"].transform(\"size\")"
   ]
  },
  {
   "cell_type": "code",
   "execution_count": 8,
   "metadata": {},
   "outputs": [
    {
     "data": {
      "text/html": [
       "<div>\n",
       "<style scoped>\n",
       "    .dataframe tbody tr th:only-of-type {\n",
       "        vertical-align: middle;\n",
       "    }\n",
       "\n",
       "    .dataframe tbody tr th {\n",
       "        vertical-align: top;\n",
       "    }\n",
       "\n",
       "    .dataframe thead th {\n",
       "        text-align: right;\n",
       "    }\n",
       "</style>\n",
       "<table border=\"1\" class=\"dataframe\">\n",
       "  <thead>\n",
       "    <tr style=\"text-align: right;\">\n",
       "      <th></th>\n",
       "      <th>tax_id</th>\n",
       "      <th>uniprot_name</th>\n",
       "      <th>seq</th>\n",
       "      <th>n_complete_go_annotations</th>\n",
       "      <th>complete_go_annotation_indices</th>\n",
       "      <th>seq_len</th>\n",
       "      <th>seq_token_ids</th>\n",
       "      <th>seq_n_tokens</th>\n",
       "    </tr>\n",
       "  </thead>\n",
       "  <tbody>\n",
       "    <tr>\n",
       "      <th>302093</th>\n",
       "      <td>9606.0</td>\n",
       "      <td>Q9NYY6_HUMAN</td>\n",
       "      <td>GMQKCSHIPGRRELRMPCTLGWEAYTQPQAEGVGAARNACINWNQY...</td>\n",
       "      <td>0</td>\n",
       "      <td>[]</td>\n",
       "      <td>100</td>\n",
       "      <td>[0, 8346, 6522, 4027, 991, 1176, 12230, 47, 75...</td>\n",
       "      <td>34</td>\n",
       "    </tr>\n",
       "    <tr>\n",
       "      <th>323931</th>\n",
       "      <td>143630.0</td>\n",
       "      <td>A0A402EGU4_9SAUR</td>\n",
       "      <td>QNKGKDINTIKSLRVLRVLRPLKTIKRLPKLKAVFDCVVNSLKNVL...</td>\n",
       "      <td>0</td>\n",
       "      <td>[]</td>\n",
       "      <td>85</td>\n",
       "      <td>[0, 3655, 2204, 2194, 1626, 6809, 7528, 132, 1...</td>\n",
       "      <td>28</td>\n",
       "    </tr>\n",
       "    <tr>\n",
       "      <th>890102</th>\n",
       "      <td>61819.0</td>\n",
       "      <td>A0A3Q0SJF8_AMPCI</td>\n",
       "      <td>MESFPLSRASSRNMERDWENGSIASSITSNEYTGPKLFKEPSSKSN...</td>\n",
       "      <td>0</td>\n",
       "      <td>[]</td>\n",
       "      <td>169</td>\n",
       "      <td>[0, 2211, 4652, 12997, 232, 2777, 6351, 9626, ...</td>\n",
       "      <td>57</td>\n",
       "    </tr>\n",
       "    <tr>\n",
       "      <th>427780</th>\n",
       "      <td>55661.0</td>\n",
       "      <td>A0A091G8V2_9AVES</td>\n",
       "      <td>MCPRPPNIANGLHSGQSLNKFSRGATVYYSCKDGYQLLGNISISCS...</td>\n",
       "      <td>0</td>\n",
       "      <td>[]</td>\n",
       "      <td>175</td>\n",
       "      <td>[0, 429, 8608, 136, 969, 2365, 1611, 2887, 189...</td>\n",
       "      <td>60</td>\n",
       "    </tr>\n",
       "    <tr>\n",
       "      <th>546797</th>\n",
       "      <td>62062.0</td>\n",
       "      <td>A0A4W5LM95_9TELE</td>\n",
       "      <td>ELDLSNNDLKDSGVKLLSAGLGNPHCKLETLRLSGCLVTEEGCASL...</td>\n",
       "      <td>0</td>\n",
       "      <td>[]</td>\n",
       "      <td>85</td>\n",
       "      <td>[0, 1018, 3, 1713, 599, 13094, 8279, 825, 1989...</td>\n",
       "      <td>30</td>\n",
       "    </tr>\n",
       "  </tbody>\n",
       "</table>\n",
       "</div>"
      ],
      "text/plain": [
       "          tax_id      uniprot_name  \\\n",
       "302093    9606.0      Q9NYY6_HUMAN   \n",
       "323931  143630.0  A0A402EGU4_9SAUR   \n",
       "890102   61819.0  A0A3Q0SJF8_AMPCI   \n",
       "427780   55661.0  A0A091G8V2_9AVES   \n",
       "546797   62062.0  A0A4W5LM95_9TELE   \n",
       "\n",
       "                                                      seq  \\\n",
       "302093  GMQKCSHIPGRRELRMPCTLGWEAYTQPQAEGVGAARNACINWNQY...   \n",
       "323931  QNKGKDINTIKSLRVLRVLRPLKTIKRLPKLKAVFDCVVNSLKNVL...   \n",
       "890102  MESFPLSRASSRNMERDWENGSIASSITSNEYTGPKLFKEPSSKSN...   \n",
       "427780  MCPRPPNIANGLHSGQSLNKFSRGATVYYSCKDGYQLLGNISISCS...   \n",
       "546797  ELDLSNNDLKDSGVKLLSAGLGNPHCKLETLRLSGCLVTEEGCASL...   \n",
       "\n",
       "        n_complete_go_annotations complete_go_annotation_indices  seq_len  \\\n",
       "302093                          0                             []      100   \n",
       "323931                          0                             []       85   \n",
       "890102                          0                             []      169   \n",
       "427780                          0                             []      175   \n",
       "546797                          0                             []       85   \n",
       "\n",
       "                                            seq_token_ids  seq_n_tokens  \n",
       "302093  [0, 8346, 6522, 4027, 991, 1176, 12230, 47, 75...            34  \n",
       "323931  [0, 3655, 2204, 2194, 1626, 6809, 7528, 132, 1...            28  \n",
       "890102  [0, 2211, 4652, 12997, 232, 2777, 6351, 9626, ...            57  \n",
       "427780  [0, 429, 8608, 136, 969, 2365, 1611, 2887, 189...            60  \n",
       "546797  [0, 1018, 3, 1713, 599, 13094, 8279, 825, 1989...            30  "
      ]
     },
     "execution_count": 8,
     "metadata": {},
     "output_type": "execute_result"
    }
   ],
   "source": [
    "sample_proteins = proteins[proteins['seq_len'] < 200].sample(5000).copy()\n",
    "sample_proteins['seq_token_ids'] = sample_proteins['seq'].apply(sp.encode_as_ids)\n",
    "sample_proteins['seq_n_tokens'] = sample_proteins['seq_token_ids'].apply(len)\n",
    "sample_proteins.head()"
   ]
  },
  {
   "cell_type": "code",
   "execution_count": 37,
   "metadata": {},
   "outputs": [],
   "source": [
    "sample_proteins.to_csv('tokenized_sample.csv',index=False)"
   ]
  },
  {
   "cell_type": "code",
   "execution_count": 9,
   "metadata": {},
   "outputs": [
    {
     "data": {
      "text/plain": [
       "count    1000.000000\n",
       "mean      114.417000\n",
       "std        46.132931\n",
       "min        11.000000\n",
       "25%        79.000000\n",
       "50%       116.000000\n",
       "75%       153.000000\n",
       "max       199.000000\n",
       "Name: seq_len, dtype: float64"
      ]
     },
     "metadata": {},
     "output_type": "display_data"
    },
    {
     "data": {
      "text/plain": [
       "count    1000.00000\n",
       "mean       38.42600\n",
       "std        15.04037\n",
       "min         4.00000\n",
       "25%        27.00000\n",
       "50%        39.00000\n",
       "75%        51.00000\n",
       "max        69.00000\n",
       "Name: seq_n_tokens, dtype: float64"
      ]
     },
     "metadata": {},
     "output_type": "display_data"
    }
   ],
   "source": [
    "display(sample_proteins['seq_len'].describe())\n",
    "display(sample_proteins['seq_n_tokens'].describe())\n"
   ]
  },
  {
   "cell_type": "markdown",
   "metadata": {},
   "source": [
    "# Let's BERT!"
   ]
  },
  {
   "cell_type": "code",
   "execution_count": 10,
   "metadata": {},
   "outputs": [
    {
     "name": "stderr",
     "output_type": "stream",
     "text": [
      "C:\\Users\\Dan Ofer\\Anaconda3\\lib\\site-packages\\tensorflow\\python\\framework\\dtypes.py:516: FutureWarning: Passing (type, 1) or '1type' as a synonym of type is deprecated; in a future version of numpy, it will be understood as (type, (1,)) / '(1,)type'.\n",
      "  _np_qint8 = np.dtype([(\"qint8\", np.int8, 1)])\n",
      "C:\\Users\\Dan Ofer\\Anaconda3\\lib\\site-packages\\tensorflow\\python\\framework\\dtypes.py:517: FutureWarning: Passing (type, 1) or '1type' as a synonym of type is deprecated; in a future version of numpy, it will be understood as (type, (1,)) / '(1,)type'.\n",
      "  _np_quint8 = np.dtype([(\"quint8\", np.uint8, 1)])\n",
      "C:\\Users\\Dan Ofer\\Anaconda3\\lib\\site-packages\\tensorflow\\python\\framework\\dtypes.py:518: FutureWarning: Passing (type, 1) or '1type' as a synonym of type is deprecated; in a future version of numpy, it will be understood as (type, (1,)) / '(1,)type'.\n",
      "  _np_qint16 = np.dtype([(\"qint16\", np.int16, 1)])\n",
      "C:\\Users\\Dan Ofer\\Anaconda3\\lib\\site-packages\\tensorflow\\python\\framework\\dtypes.py:519: FutureWarning: Passing (type, 1) or '1type' as a synonym of type is deprecated; in a future version of numpy, it will be understood as (type, (1,)) / '(1,)type'.\n",
      "  _np_quint16 = np.dtype([(\"quint16\", np.uint16, 1)])\n",
      "C:\\Users\\Dan Ofer\\Anaconda3\\lib\\site-packages\\tensorflow\\python\\framework\\dtypes.py:520: FutureWarning: Passing (type, 1) or '1type' as a synonym of type is deprecated; in a future version of numpy, it will be understood as (type, (1,)) / '(1,)type'.\n",
      "  _np_qint32 = np.dtype([(\"qint32\", np.int32, 1)])\n",
      "C:\\Users\\Dan Ofer\\Anaconda3\\lib\\site-packages\\tensorflow\\python\\framework\\dtypes.py:525: FutureWarning: Passing (type, 1) or '1type' as a synonym of type is deprecated; in a future version of numpy, it will be understood as (type, (1,)) / '(1,)type'.\n",
      "  np_resource = np.dtype([(\"resource\", np.ubyte, 1)])\n",
      "C:\\Users\\Dan Ofer\\Anaconda3\\lib\\site-packages\\tensorboard\\compat\\tensorflow_stub\\dtypes.py:541: FutureWarning: Passing (type, 1) or '1type' as a synonym of type is deprecated; in a future version of numpy, it will be understood as (type, (1,)) / '(1,)type'.\n",
      "  _np_qint8 = np.dtype([(\"qint8\", np.int8, 1)])\n",
      "C:\\Users\\Dan Ofer\\Anaconda3\\lib\\site-packages\\tensorboard\\compat\\tensorflow_stub\\dtypes.py:542: FutureWarning: Passing (type, 1) or '1type' as a synonym of type is deprecated; in a future version of numpy, it will be understood as (type, (1,)) / '(1,)type'.\n",
      "  _np_quint8 = np.dtype([(\"quint8\", np.uint8, 1)])\n",
      "C:\\Users\\Dan Ofer\\Anaconda3\\lib\\site-packages\\tensorboard\\compat\\tensorflow_stub\\dtypes.py:543: FutureWarning: Passing (type, 1) or '1type' as a synonym of type is deprecated; in a future version of numpy, it will be understood as (type, (1,)) / '(1,)type'.\n",
      "  _np_qint16 = np.dtype([(\"qint16\", np.int16, 1)])\n",
      "C:\\Users\\Dan Ofer\\Anaconda3\\lib\\site-packages\\tensorboard\\compat\\tensorflow_stub\\dtypes.py:544: FutureWarning: Passing (type, 1) or '1type' as a synonym of type is deprecated; in a future version of numpy, it will be understood as (type, (1,)) / '(1,)type'.\n",
      "  _np_quint16 = np.dtype([(\"quint16\", np.uint16, 1)])\n",
      "C:\\Users\\Dan Ofer\\Anaconda3\\lib\\site-packages\\tensorboard\\compat\\tensorflow_stub\\dtypes.py:545: FutureWarning: Passing (type, 1) or '1type' as a synonym of type is deprecated; in a future version of numpy, it will be understood as (type, (1,)) / '(1,)type'.\n",
      "  _np_qint32 = np.dtype([(\"qint32\", np.int32, 1)])\n",
      "C:\\Users\\Dan Ofer\\Anaconda3\\lib\\site-packages\\tensorboard\\compat\\tensorflow_stub\\dtypes.py:550: FutureWarning: Passing (type, 1) or '1type' as a synonym of type is deprecated; in a future version of numpy, it will be understood as (type, (1,)) / '(1,)type'.\n",
      "  np_resource = np.dtype([(\"resource\", np.ubyte, 1)])\n"
     ]
    }
   ],
   "source": [
    "from tensorflow import keras\n",
    "from bert import BertModelLayer\n",
    "\n",
    "from tensorflow.keras.layers import Dense,Input,Flatten,concatenate,Dropout,Lambda\n",
    "from tensorflow.keras.models import Model\n",
    "import tensorflow.keras.backend as K"
   ]
  },
  {
   "cell_type": "code",
   "execution_count": null,
   "metadata": {},
   "outputs": [],
   "source": [
    "### https://github.com/ypeleg/CAFA/blob/master/prot_bert.py\n",
    "\n",
    "lr = 2e-5\n",
    "weight_decay = 0.001\n",
    "nb_epochs=10\n",
    "bsz = 5\n",
    "maxlen=166\n",
    "\n",
    "# decay_steps = int(nb_epochs*sample_proteins.shape[0]/bsz)\n",
    "# warmup_steps = int(0.1*decay_steps)\n",
    "\n",
    "# class AdamWarmup1(keras.optimizers.Optimizer):\n",
    "#     def __init__(self, decay_steps, warmup_steps, min_lr=0.0,\n",
    "#                  lr=0.001, beta_1=0.9, beta_2=0.999,\n",
    "#                  epsilon=None, kernel_weight_decay=0., bias_weight_decay=0.,\n",
    "#                  amsgrad=False, **kwargs):\n",
    "#         super(AdamWarmup1, self).__init__(**kwargs, name = 'something')\n",
    "#         with K.name_scope(self.__class__.__name__):\n",
    "#             self.decay_steps = K.variable(decay_steps, name='decay_steps')\n",
    "#             self.warmup_steps = K.variable(warmup_steps, name='warmup_steps')\n",
    "#             self.min_lr = K.variable(min_lr, name='min_lr')\n",
    "#             self.iterations = K.variable(0, dtype='int64', name='iterations')\n",
    "#             self.lr = K.variable(lr, name='lr')\n",
    "#             print(self.lr) # XXX\n",
    "#             self.beta_1 = K.variable(beta_1, name='beta_1')\n",
    "#             self.beta_2 = K.variable(beta_2, name='beta_2')\n",
    "#             self.kernel_weight_decay = K.variable(kernel_weight_decay, name='kernel_weight_decay')\n",
    "#             self.bias_weight_decay = K.variable(bias_weight_decay, name='bias_weight_decay')\n",
    "#         if epsilon is None:\n",
    "#             epsilon = K.epsilon()\n",
    "#         self.epsilon = epsilon\n",
    "#         self.initial_kernel_weight_decay = kernel_weight_decay\n",
    "#         self.initial_bias_weight_decay = bias_weight_decay\n",
    "#         self.amsgrad = amsgrad\n",
    "\n",
    "#     def get_updates(self, loss, params):\n",
    "#         grads = self.get_gradients(loss, params)\n",
    "#         self.updates = [K.update_add(self.iterations, 1)]\n",
    "\n",
    "#         t = K.cast(self.iterations, K.floatx()) + 1\n",
    "\n",
    "#         lr = K.switch(\n",
    "#             t <= self.warmup_steps,\n",
    "#             self.lr * (t / self.warmup_steps),\n",
    "#             self.lr * (1.0 - K.minimum(t, self.decay_steps) / self.decay_steps),\n",
    "#         )\n",
    "\n",
    "#         lr_t = lr * (K.sqrt(1. - K.pow(self.beta_2, t)) /\n",
    "#                      (1. - K.pow(self.beta_1, t)))\n",
    "\n",
    "#         ms = [K.zeros(K.int_shape(p), dtype=K.dtype(p)) for p in params]\n",
    "#         vs = [K.zeros(K.int_shape(p), dtype=K.dtype(p)) for p in params]\n",
    "#         if self.amsgrad:\n",
    "#             vhats = [K.zeros(K.int_shape(p), dtype=K.dtype(p)) for p in params]\n",
    "#         else:\n",
    "#             vhats = [K.zeros(1) for _ in params]\n",
    "#         self.weights = [self.iterations] + ms + vs + vhats\n",
    "\n",
    "#         for p, g, m, v, vhat in zip(params, grads, ms, vs, vhats):\n",
    "#             m_t = (self.beta_1 * m) + (1. - self.beta_1) * g\n",
    "#             v_t = (self.beta_2 * v) + (1. - self.beta_2) * K.square(g)\n",
    "#             if self.amsgrad:\n",
    "#                 vhat_t = K.maximum(vhat, v_t)\n",
    "#                 p_t = m_t / (K.sqrt(vhat_t) + self.epsilon)\n",
    "#                 self.updates.append(K.update(vhat, vhat_t))\n",
    "#             else:\n",
    "#                 p_t = m_t / (K.sqrt(v_t) + self.epsilon)\n",
    "\n",
    "#             if 'bias' in p.name or 'Norm' in p.name:\n",
    "#                 if self.initial_bias_weight_decay > 0.0:\n",
    "#                     p_t += self.bias_weight_decay * p\n",
    "#             else:\n",
    "#                 if self.initial_kernel_weight_decay > 0.0:\n",
    "#                     p_t += self.kernel_weight_decay * p\n",
    "#             p_t = p - lr_t * p_t\n",
    "\n",
    "#             self.updates.append(K.update(m, m_t))\n",
    "#             self.updates.append(K.update(v, v_t))\n",
    "#             new_p = p_t\n",
    "\n",
    "#             if getattr(p, 'constraint', None) is not None:\n",
    "#                 new_p = p.constraint(new_p)\n",
    "\n",
    "#             self.updates.append(K.update(p, new_p))\n",
    "#         return self.updates\n",
    "\n",
    "#     def get_config(self):\n",
    "#         config = {\n",
    "#             'decay_steps': float(K.get_value(self.decay_steps)),\n",
    "#             'warmup_steps': float(K.get_value(self.warmup_steps)),\n",
    "#             'min_lr': float(K.get_value(self.min_lr)),\n",
    "#             'lr': float(K.get_value(self.lr)),\n",
    "#             'beta_1': float(K.get_value(self.beta_1)),\n",
    "#             'beta_2': float(K.get_value(self.beta_2)),\n",
    "#             'epsilon': self.epsilon,\n",
    "#             'kernel_weight_decay': float(K.get_value(self.kernel_weight_decay)),\n",
    "#             'bias_weight_decay': float(K.get_value(self.bias_weight_decay)),\n",
    "#             'amsgrad': self.amsgrad,\n",
    "#         }\n",
    "#         base_config = super(AdamWarmup1, self).get_config()\n",
    "#         return dict(list(base_config.items()) + list(config.items()))\n",
    "\n",
    "\n",
    "# # As the Extract layer extracts only the first token where \"['CLS']\" used to be, we just take the layer and connect to the single neuron output.\n",
    "\n",
    "\n",
    "# adamwarm = AdamWarmup1(lr=lr,decay_steps = decay_steps, warmup_steps = warmup_steps,kernel_weight_decay = weight_decay)"
   ]
  },
  {
   "cell_type": "code",
   "execution_count": 15,
   "metadata": {},
   "outputs": [],
   "source": [
    "l_bert = BertModelLayer(**BertModelLayer.Params(\n",
    "  vocab_size               = 16000,        # embedding params\n",
    "  use_token_type           = True,\n",
    "  use_position_embeddings  = True,\n",
    "  token_type_vocab_size    = 2,\n",
    "    \n",
    "  num_heads = 12,\n",
    "  num_layers               = 12,           # transformer encoder params\n",
    "  hidden_size              = 768,\n",
    "  hidden_dropout           = 0.1,\n",
    "  intermediate_size        = 4*768,\n",
    "  intermediate_activation  = \"gelu\",\n",
    "\n",
    "  adapter_size             = None,         # see arXiv:1902.00751 (adapter-BERT)\n",
    "\n",
    "  shared_layer             = False,        # True for ALBERT (arXiv:1909.11942)\n",
    "  embedding_size           = None,         # None for BERT, wordpiece embedding size for ALBERT\n",
    "\n",
    "  name                     = \"bert\"        # any other Keras layer params\n",
    "))\n",
    "\n",
    "max_seq_len = 166"
   ]
  },
  {
   "cell_type": "code",
   "execution_count": 16,
   "metadata": {},
   "outputs": [
    {
     "name": "stdout",
     "output_type": "stream",
     "text": [
      "(1000, 166) int32\n",
      "[[   0 8346 6522 ...    0    0    0]\n",
      " [   0 3655 2204 ...    0    0    0]\n",
      " [   0 2211 4652 ...    0    0    0]\n",
      " ...\n",
      " [   0  310 3342 ...    0    0    0]\n",
      " [   0 6456 2631 ...    0    0    0]\n",
      " [   0 2343  955 ...    0    0    0]]\n"
     ]
    }
   ],
   "source": [
    "# TODO Need to use proper tokens!\n",
    "PAD_TOKEN = 0\n",
    "MASK_TOKEN = 1\n",
    "\n",
    "def token_ids_to_fixed_size_sentence(seq_token_ids):\n",
    "    global max_seq_len\n",
    "    return np.concatenate([np.array(seq_token_ids, dtype = np.int32), \\\n",
    "            PAD_TOKEN * np.ones(max_seq_len - len(seq_token_ids), dtype = np.int32)])\n",
    "\n",
    "data_tokens = np.array(sample_proteins['seq_token_ids'].apply(token_ids_to_fixed_size_sentence)\\\n",
    "        .tolist())\n",
    "print(data_tokens.shape, data_tokens.dtype)\n",
    "print(data_tokens)"
   ]
  },
  {
   "cell_type": "code",
   "execution_count": 34,
   "metadata": {},
   "outputs": [
    {
     "name": "stdout",
     "output_type": "stream",
     "text": [
      "(1000, 166, 16000)\n"
     ]
    }
   ],
   "source": [
    "# TODO Decide what it should be\n",
    "mask_freq = 0.15\n",
    "\n",
    "data_mask = np.zeros_like(data_tokens, dtype = np.int8).flatten()\n",
    "data_mask[:int((1 - mask_freq) * data_mask.size)] = 1\n",
    "np.random.shuffle(data_mask)\n",
    "data_mask = data_mask.reshape(data_tokens.shape)\n",
    "\n",
    "masked_data = np.where(data_mask, data_tokens, MASK_TOKEN)\n",
    "\n",
    "# See https://stackoverflow.com/questions/36960320/convert-a-2d-matrix-to-a-3d-one-hot-matrix-numpy/36960495\n",
    "data_tokens_1he = (np.arange(l_bert.params['vocab_size']) == data_tokens[...,None]-1).astype(np.int8)\n",
    "print(data_tokens_1he.shape)"
   ]
  },
  {
   "cell_type": "code",
   "execution_count": 18,
   "metadata": {
    "scrolled": true
   },
   "outputs": [
    {
     "name": "stdout",
     "output_type": "stream",
     "text": [
      "WARNING:tensorflow:Entity <bound method BertModelLayer.call of <bert.model.BertModelLayer object at 0x000002E3045E3A88>> could not be transformed and will be executed as-is. Please report this to the AutgoGraph team. When filing the bug, set the verbosity to 10 (on Linux, `export AUTOGRAPH_VERBOSITY=10`) and attach the full output. Cause: converting <bound method BertModelLayer.call of <bert.model.BertModelLayer object at 0x000002E3045E3A88>>: AssertionError: Bad argument number for Name: 3, expecting 4\n",
      "WARNING: Entity <bound method BertModelLayer.call of <bert.model.BertModelLayer object at 0x000002E3045E3A88>> could not be transformed and will be executed as-is. Please report this to the AutgoGraph team. When filing the bug, set the verbosity to 10 (on Linux, `export AUTOGRAPH_VERBOSITY=10`) and attach the full output. Cause: converting <bound method BertModelLayer.call of <bert.model.BertModelLayer object at 0x000002E3045E3A88>>: AssertionError: Bad argument number for Name: 3, expecting 4\n",
      "WARNING:tensorflow:From C:\\Users\\Dan Ofer\\Anaconda3\\lib\\site-packages\\tensorflow\\python\\keras\\initializers.py:119: calling RandomUniform.__init__ (from tensorflow.python.ops.init_ops) with dtype is deprecated and will be removed in a future version.\n",
      "Instructions for updating:\n",
      "Call initializer instance with the dtype argument instead of passing it to the constructor\n",
      "WARNING:tensorflow:Entity <bound method BertEmbeddingsLayer.call of <bert.embeddings.BertEmbeddingsLayer object at 0x000002E3044D7588>> could not be transformed and will be executed as-is. Please report this to the AutgoGraph team. When filing the bug, set the verbosity to 10 (on Linux, `export AUTOGRAPH_VERBOSITY=10`) and attach the full output. Cause: converting <bound method BertEmbeddingsLayer.call of <bert.embeddings.BertEmbeddingsLayer object at 0x000002E3044D7588>>: AttributeError: module 'gast' has no attribute 'Num'\n",
      "WARNING: Entity <bound method BertEmbeddingsLayer.call of <bert.embeddings.BertEmbeddingsLayer object at 0x000002E3044D7588>> could not be transformed and will be executed as-is. Please report this to the AutgoGraph team. When filing the bug, set the verbosity to 10 (on Linux, `export AUTOGRAPH_VERBOSITY=10`) and attach the full output. Cause: converting <bound method BertEmbeddingsLayer.call of <bert.embeddings.BertEmbeddingsLayer object at 0x000002E3044D7588>>: AttributeError: module 'gast' has no attribute 'Num'\n",
      "WARNING:tensorflow:From C:\\Users\\Dan Ofer\\Anaconda3\\lib\\site-packages\\bert\\layer.py:20: The name tf.keras.initializers.TruncatedNormal is deprecated. Please use tf.compat.v1.keras.initializers.TruncatedNormal instead.\n",
      "\n",
      "WARNING:tensorflow:From C:\\Users\\Dan Ofer\\Anaconda3\\lib\\site-packages\\tensorflow\\python\\keras\\initializers.py:94: calling TruncatedNormal.__init__ (from tensorflow.python.ops.init_ops) with dtype is deprecated and will be removed in a future version.\n",
      "Instructions for updating:\n",
      "Call initializer instance with the dtype argument instead of passing it to the constructor\n",
      "WARNING:tensorflow:Entity <bound method PositionEmbeddingLayer.call of <bert.embeddings.PositionEmbeddingLayer object at 0x000002E30443D188>> could not be transformed and will be executed as-is. Please report this to the AutgoGraph team. When filing the bug, set the verbosity to 10 (on Linux, `export AUTOGRAPH_VERBOSITY=10`) and attach the full output. Cause: converting <bound method PositionEmbeddingLayer.call of <bert.embeddings.PositionEmbeddingLayer object at 0x000002E30443D188>>: AssertionError: Bad argument number for Name: 3, expecting 4\n",
      "WARNING: Entity <bound method PositionEmbeddingLayer.call of <bert.embeddings.PositionEmbeddingLayer object at 0x000002E30443D188>> could not be transformed and will be executed as-is. Please report this to the AutgoGraph team. When filing the bug, set the verbosity to 10 (on Linux, `export AUTOGRAPH_VERBOSITY=10`) and attach the full output. Cause: converting <bound method PositionEmbeddingLayer.call of <bert.embeddings.PositionEmbeddingLayer object at 0x000002E30443D188>>: AssertionError: Bad argument number for Name: 3, expecting 4\n",
      "WARNING:tensorflow:Entity <bound method LayerNormalization.call of <params_flow.normalization.LayerNormalization object at 0x000002E3045D65C8>> could not be transformed and will be executed as-is. Please report this to the AutgoGraph team. When filing the bug, set the verbosity to 10 (on Linux, `export AUTOGRAPH_VERBOSITY=10`) and attach the full output. Cause: converting <bound method LayerNormalization.call of <params_flow.normalization.LayerNormalization object at 0x000002E3045D65C8>>: AssertionError: Bad argument number for Name: 3, expecting 4\n",
      "WARNING: Entity <bound method LayerNormalization.call of <params_flow.normalization.LayerNormalization object at 0x000002E3045D65C8>> could not be transformed and will be executed as-is. Please report this to the AutgoGraph team. When filing the bug, set the verbosity to 10 (on Linux, `export AUTOGRAPH_VERBOSITY=10`) and attach the full output. Cause: converting <bound method LayerNormalization.call of <params_flow.normalization.LayerNormalization object at 0x000002E3045D65C8>>: AssertionError: Bad argument number for Name: 3, expecting 4\n",
      "WARNING:tensorflow:Entity <bound method TransformerEncoderLayer.call of <bert.transformer.TransformerEncoderLayer object at 0x000002E30449E688>> could not be transformed and will be executed as-is. Please report this to the AutgoGraph team. When filing the bug, set the verbosity to 10 (on Linux, `export AUTOGRAPH_VERBOSITY=10`) and attach the full output. Cause: converting <bound method TransformerEncoderLayer.call of <bert.transformer.TransformerEncoderLayer object at 0x000002E30449E688>>: AttributeError: module 'gast' has no attribute 'Num'\n",
      "WARNING: Entity <bound method TransformerEncoderLayer.call of <bert.transformer.TransformerEncoderLayer object at 0x000002E30449E688>> could not be transformed and will be executed as-is. Please report this to the AutgoGraph team. When filing the bug, set the verbosity to 10 (on Linux, `export AUTOGRAPH_VERBOSITY=10`) and attach the full output. Cause: converting <bound method TransformerEncoderLayer.call of <bert.transformer.TransformerEncoderLayer object at 0x000002E30449E688>>: AttributeError: module 'gast' has no attribute 'Num'\n",
      "WARNING:tensorflow:Entity <bound method SingleTransformerEncoderLayer.call of <bert.transformer.SingleTransformerEncoderLayer object at 0x000002E3045D7C08>> could not be transformed and will be executed as-is. Please report this to the AutgoGraph team. When filing the bug, set the verbosity to 10 (on Linux, `export AUTOGRAPH_VERBOSITY=10`) and attach the full output. Cause: converting <bound method SingleTransformerEncoderLayer.call of <bert.transformer.SingleTransformerEncoderLayer object at 0x000002E3045D7C08>>: AssertionError: Bad argument number for Name: 3, expecting 4\n",
      "WARNING: Entity <bound method SingleTransformerEncoderLayer.call of <bert.transformer.SingleTransformerEncoderLayer object at 0x000002E3045D7C08>> could not be transformed and will be executed as-is. Please report this to the AutgoGraph team. When filing the bug, set the verbosity to 10 (on Linux, `export AUTOGRAPH_VERBOSITY=10`) and attach the full output. Cause: converting <bound method SingleTransformerEncoderLayer.call of <bert.transformer.SingleTransformerEncoderLayer object at 0x000002E3045D7C08>>: AssertionError: Bad argument number for Name: 3, expecting 4\n",
      "WARNING:tensorflow:Entity <bound method TransformerSelfAttentionLayer.call of <bert.transformer.TransformerSelfAttentionLayer object at 0x000002E304660348>> could not be transformed and will be executed as-is. Please report this to the AutgoGraph team. When filing the bug, set the verbosity to 10 (on Linux, `export AUTOGRAPH_VERBOSITY=10`) and attach the full output. Cause: converting <bound method TransformerSelfAttentionLayer.call of <bert.transformer.TransformerSelfAttentionLayer object at 0x000002E304660348>>: AssertionError: Bad argument number for Name: 3, expecting 4\n",
      "WARNING: Entity <bound method TransformerSelfAttentionLayer.call of <bert.transformer.TransformerSelfAttentionLayer object at 0x000002E304660348>> could not be transformed and will be executed as-is. Please report this to the AutgoGraph team. When filing the bug, set the verbosity to 10 (on Linux, `export AUTOGRAPH_VERBOSITY=10`) and attach the full output. Cause: converting <bound method TransformerSelfAttentionLayer.call of <bert.transformer.TransformerSelfAttentionLayer object at 0x000002E304660348>>: AssertionError: Bad argument number for Name: 3, expecting 4\n",
      "WARNING:tensorflow:Entity <bound method AttentionLayer.call of <bert.attention.AttentionLayer object at 0x000002E30466E848>> could not be transformed and will be executed as-is. Please report this to the AutgoGraph team. When filing the bug, set the verbosity to 10 (on Linux, `export AUTOGRAPH_VERBOSITY=10`) and attach the full output. Cause: converting <bound method AttentionLayer.call of <bert.attention.AttentionLayer object at 0x000002E30466E848>>: AttributeError: module 'gast' has no attribute 'Num'\n"
     ]
    },
    {
     "name": "stdout",
     "output_type": "stream",
     "text": [
      "WARNING: Entity <bound method AttentionLayer.call of <bert.attention.AttentionLayer object at 0x000002E30466E848>> could not be transformed and will be executed as-is. Please report this to the AutgoGraph team. When filing the bug, set the verbosity to 10 (on Linux, `export AUTOGRAPH_VERBOSITY=10`) and attach the full output. Cause: converting <bound method AttentionLayer.call of <bert.attention.AttentionLayer object at 0x000002E30466E848>>: AttributeError: module 'gast' has no attribute 'Num'\n",
      "WARNING:tensorflow:Entity <bound method ProjectionLayer.call of <bert.transformer.ProjectionLayer object at 0x000002E3045CB808>> could not be transformed and will be executed as-is. Please report this to the AutgoGraph team. When filing the bug, set the verbosity to 10 (on Linux, `export AUTOGRAPH_VERBOSITY=10`) and attach the full output. Cause: converting <bound method ProjectionLayer.call of <bert.transformer.ProjectionLayer object at 0x000002E3045CB808>>: AssertionError: Bad argument number for Name: 3, expecting 4\n",
      "WARNING: Entity <bound method ProjectionLayer.call of <bert.transformer.ProjectionLayer object at 0x000002E3045CB808>> could not be transformed and will be executed as-is. Please report this to the AutgoGraph team. When filing the bug, set the verbosity to 10 (on Linux, `export AUTOGRAPH_VERBOSITY=10`) and attach the full output. Cause: converting <bound method ProjectionLayer.call of <bert.transformer.ProjectionLayer object at 0x000002E3045CB808>>: AssertionError: Bad argument number for Name: 3, expecting 4\n",
      "WARNING:tensorflow:Entity <bound method LayerNormalization.call of <params_flow.normalization.LayerNormalization object at 0x000002E3047EE788>> could not be transformed and will be executed as-is. Please report this to the AutgoGraph team. When filing the bug, set the verbosity to 10 (on Linux, `export AUTOGRAPH_VERBOSITY=10`) and attach the full output. Cause: converting <bound method LayerNormalization.call of <params_flow.normalization.LayerNormalization object at 0x000002E3047EE788>>: AssertionError: Bad argument number for Name: 3, expecting 4\n",
      "WARNING: Entity <bound method LayerNormalization.call of <params_flow.normalization.LayerNormalization object at 0x000002E3047EE788>> could not be transformed and will be executed as-is. Please report this to the AutgoGraph team. When filing the bug, set the verbosity to 10 (on Linux, `export AUTOGRAPH_VERBOSITY=10`) and attach the full output. Cause: converting <bound method LayerNormalization.call of <params_flow.normalization.LayerNormalization object at 0x000002E3047EE788>>: AssertionError: Bad argument number for Name: 3, expecting 4\n",
      "WARNING:tensorflow:Entity <bound method ProjectionLayer.call of <bert.transformer.ProjectionLayer object at 0x000002E3045CB048>> could not be transformed and will be executed as-is. Please report this to the AutgoGraph team. When filing the bug, set the verbosity to 10 (on Linux, `export AUTOGRAPH_VERBOSITY=10`) and attach the full output. Cause: converting <bound method ProjectionLayer.call of <bert.transformer.ProjectionLayer object at 0x000002E3045CB048>>: AssertionError: Bad argument number for Name: 3, expecting 4\n",
      "WARNING: Entity <bound method ProjectionLayer.call of <bert.transformer.ProjectionLayer object at 0x000002E3045CB048>> could not be transformed and will be executed as-is. Please report this to the AutgoGraph team. When filing the bug, set the verbosity to 10 (on Linux, `export AUTOGRAPH_VERBOSITY=10`) and attach the full output. Cause: converting <bound method ProjectionLayer.call of <bert.transformer.ProjectionLayer object at 0x000002E3045CB048>>: AssertionError: Bad argument number for Name: 3, expecting 4\n",
      "WARNING:tensorflow:Entity <bound method LayerNormalization.call of <params_flow.normalization.LayerNormalization object at 0x000002E3047ED5C8>> could not be transformed and will be executed as-is. Please report this to the AutgoGraph team. When filing the bug, set the verbosity to 10 (on Linux, `export AUTOGRAPH_VERBOSITY=10`) and attach the full output. Cause: converting <bound method LayerNormalization.call of <params_flow.normalization.LayerNormalization object at 0x000002E3047ED5C8>>: AssertionError: Bad argument number for Name: 3, expecting 4\n",
      "WARNING: Entity <bound method LayerNormalization.call of <params_flow.normalization.LayerNormalization object at 0x000002E3047ED5C8>> could not be transformed and will be executed as-is. Please report this to the AutgoGraph team. When filing the bug, set the verbosity to 10 (on Linux, `export AUTOGRAPH_VERBOSITY=10`) and attach the full output. Cause: converting <bound method LayerNormalization.call of <params_flow.normalization.LayerNormalization object at 0x000002E3047ED5C8>>: AssertionError: Bad argument number for Name: 3, expecting 4\n",
      "WARNING:tensorflow:Entity <bound method SingleTransformerEncoderLayer.call of <bert.transformer.SingleTransformerEncoderLayer object at 0x000002E304441688>> could not be transformed and will be executed as-is. Please report this to the AutgoGraph team. When filing the bug, set the verbosity to 10 (on Linux, `export AUTOGRAPH_VERBOSITY=10`) and attach the full output. Cause: converting <bound method SingleTransformerEncoderLayer.call of <bert.transformer.SingleTransformerEncoderLayer object at 0x000002E304441688>>: AssertionError: Bad argument number for Name: 3, expecting 4\n",
      "WARNING: Entity <bound method SingleTransformerEncoderLayer.call of <bert.transformer.SingleTransformerEncoderLayer object at 0x000002E304441688>> could not be transformed and will be executed as-is. Please report this to the AutgoGraph team. When filing the bug, set the verbosity to 10 (on Linux, `export AUTOGRAPH_VERBOSITY=10`) and attach the full output. Cause: converting <bound method SingleTransformerEncoderLayer.call of <bert.transformer.SingleTransformerEncoderLayer object at 0x000002E304441688>>: AssertionError: Bad argument number for Name: 3, expecting 4\n",
      "WARNING:tensorflow:Entity <bound method TransformerSelfAttentionLayer.call of <bert.transformer.TransformerSelfAttentionLayer object at 0x000002E304780B88>> could not be transformed and will be executed as-is. Please report this to the AutgoGraph team. When filing the bug, set the verbosity to 10 (on Linux, `export AUTOGRAPH_VERBOSITY=10`) and attach the full output. Cause: converting <bound method TransformerSelfAttentionLayer.call of <bert.transformer.TransformerSelfAttentionLayer object at 0x000002E304780B88>>: AssertionError: Bad argument number for Name: 3, expecting 4\n",
      "WARNING: Entity <bound method TransformerSelfAttentionLayer.call of <bert.transformer.TransformerSelfAttentionLayer object at 0x000002E304780B88>> could not be transformed and will be executed as-is. Please report this to the AutgoGraph team. When filing the bug, set the verbosity to 10 (on Linux, `export AUTOGRAPH_VERBOSITY=10`) and attach the full output. Cause: converting <bound method TransformerSelfAttentionLayer.call of <bert.transformer.TransformerSelfAttentionLayer object at 0x000002E304780B88>>: AssertionError: Bad argument number for Name: 3, expecting 4\n",
      "WARNING:tensorflow:Entity <bound method AttentionLayer.call of <bert.attention.AttentionLayer object at 0x000002E30466E0C8>> could not be transformed and will be executed as-is. Please report this to the AutgoGraph team. When filing the bug, set the verbosity to 10 (on Linux, `export AUTOGRAPH_VERBOSITY=10`) and attach the full output. Cause: converting <bound method AttentionLayer.call of <bert.attention.AttentionLayer object at 0x000002E30466E0C8>>: AttributeError: module 'gast' has no attribute 'Num'\n",
      "WARNING: Entity <bound method AttentionLayer.call of <bert.attention.AttentionLayer object at 0x000002E30466E0C8>> could not be transformed and will be executed as-is. Please report this to the AutgoGraph team. When filing the bug, set the verbosity to 10 (on Linux, `export AUTOGRAPH_VERBOSITY=10`) and attach the full output. Cause: converting <bound method AttentionLayer.call of <bert.attention.AttentionLayer object at 0x000002E30466E0C8>>: AttributeError: module 'gast' has no attribute 'Num'\n",
      "WARNING:tensorflow:Entity <bound method ProjectionLayer.call of <bert.transformer.ProjectionLayer object at 0x000002E3045C5E08>> could not be transformed and will be executed as-is. Please report this to the AutgoGraph team. When filing the bug, set the verbosity to 10 (on Linux, `export AUTOGRAPH_VERBOSITY=10`) and attach the full output. Cause: converting <bound method ProjectionLayer.call of <bert.transformer.ProjectionLayer object at 0x000002E3045C5E08>>: AssertionError: Bad argument number for Name: 3, expecting 4\n"
     ]
    },
    {
     "name": "stdout",
     "output_type": "stream",
     "text": [
      "WARNING: Entity <bound method ProjectionLayer.call of <bert.transformer.ProjectionLayer object at 0x000002E3045C5E08>> could not be transformed and will be executed as-is. Please report this to the AutgoGraph team. When filing the bug, set the verbosity to 10 (on Linux, `export AUTOGRAPH_VERBOSITY=10`) and attach the full output. Cause: converting <bound method ProjectionLayer.call of <bert.transformer.ProjectionLayer object at 0x000002E3045C5E08>>: AssertionError: Bad argument number for Name: 3, expecting 4\n",
      "WARNING:tensorflow:Entity <bound method LayerNormalization.call of <params_flow.normalization.LayerNormalization object at 0x000002E304D47688>> could not be transformed and will be executed as-is. Please report this to the AutgoGraph team. When filing the bug, set the verbosity to 10 (on Linux, `export AUTOGRAPH_VERBOSITY=10`) and attach the full output. Cause: converting <bound method LayerNormalization.call of <params_flow.normalization.LayerNormalization object at 0x000002E304D47688>>: AssertionError: Bad argument number for Name: 3, expecting 4\n",
      "WARNING: Entity <bound method LayerNormalization.call of <params_flow.normalization.LayerNormalization object at 0x000002E304D47688>> could not be transformed and will be executed as-is. Please report this to the AutgoGraph team. When filing the bug, set the verbosity to 10 (on Linux, `export AUTOGRAPH_VERBOSITY=10`) and attach the full output. Cause: converting <bound method LayerNormalization.call of <params_flow.normalization.LayerNormalization object at 0x000002E304D47688>>: AssertionError: Bad argument number for Name: 3, expecting 4\n",
      "WARNING:tensorflow:Entity <bound method ProjectionLayer.call of <bert.transformer.ProjectionLayer object at 0x000002E30473E3C8>> could not be transformed and will be executed as-is. Please report this to the AutgoGraph team. When filing the bug, set the verbosity to 10 (on Linux, `export AUTOGRAPH_VERBOSITY=10`) and attach the full output. Cause: converting <bound method ProjectionLayer.call of <bert.transformer.ProjectionLayer object at 0x000002E30473E3C8>>: AssertionError: Bad argument number for Name: 3, expecting 4\n",
      "WARNING: Entity <bound method ProjectionLayer.call of <bert.transformer.ProjectionLayer object at 0x000002E30473E3C8>> could not be transformed and will be executed as-is. Please report this to the AutgoGraph team. When filing the bug, set the verbosity to 10 (on Linux, `export AUTOGRAPH_VERBOSITY=10`) and attach the full output. Cause: converting <bound method ProjectionLayer.call of <bert.transformer.ProjectionLayer object at 0x000002E30473E3C8>>: AssertionError: Bad argument number for Name: 3, expecting 4\n",
      "WARNING:tensorflow:Entity <bound method LayerNormalization.call of <params_flow.normalization.LayerNormalization object at 0x000002E304CFA908>> could not be transformed and will be executed as-is. Please report this to the AutgoGraph team. When filing the bug, set the verbosity to 10 (on Linux, `export AUTOGRAPH_VERBOSITY=10`) and attach the full output. Cause: converting <bound method LayerNormalization.call of <params_flow.normalization.LayerNormalization object at 0x000002E304CFA908>>: AssertionError: Bad argument number for Name: 3, expecting 4\n",
      "WARNING: Entity <bound method LayerNormalization.call of <params_flow.normalization.LayerNormalization object at 0x000002E304CFA908>> could not be transformed and will be executed as-is. Please report this to the AutgoGraph team. When filing the bug, set the verbosity to 10 (on Linux, `export AUTOGRAPH_VERBOSITY=10`) and attach the full output. Cause: converting <bound method LayerNormalization.call of <params_flow.normalization.LayerNormalization object at 0x000002E304CFA908>>: AssertionError: Bad argument number for Name: 3, expecting 4\n",
      "WARNING:tensorflow:Entity <bound method SingleTransformerEncoderLayer.call of <bert.transformer.SingleTransformerEncoderLayer object at 0x000002E304666C08>> could not be transformed and will be executed as-is. Please report this to the AutgoGraph team. When filing the bug, set the verbosity to 10 (on Linux, `export AUTOGRAPH_VERBOSITY=10`) and attach the full output. Cause: converting <bound method SingleTransformerEncoderLayer.call of <bert.transformer.SingleTransformerEncoderLayer object at 0x000002E304666C08>>: AssertionError: Bad argument number for Name: 3, expecting 4\n",
      "WARNING: Entity <bound method SingleTransformerEncoderLayer.call of <bert.transformer.SingleTransformerEncoderLayer object at 0x000002E304666C08>> could not be transformed and will be executed as-is. Please report this to the AutgoGraph team. When filing the bug, set the verbosity to 10 (on Linux, `export AUTOGRAPH_VERBOSITY=10`) and attach the full output. Cause: converting <bound method SingleTransformerEncoderLayer.call of <bert.transformer.SingleTransformerEncoderLayer object at 0x000002E304666C08>>: AssertionError: Bad argument number for Name: 3, expecting 4\n",
      "WARNING:tensorflow:Entity <bound method TransformerSelfAttentionLayer.call of <bert.transformer.TransformerSelfAttentionLayer object at 0x000002E304B84CC8>> could not be transformed and will be executed as-is. Please report this to the AutgoGraph team. When filing the bug, set the verbosity to 10 (on Linux, `export AUTOGRAPH_VERBOSITY=10`) and attach the full output. Cause: converting <bound method TransformerSelfAttentionLayer.call of <bert.transformer.TransformerSelfAttentionLayer object at 0x000002E304B84CC8>>: AssertionError: Bad argument number for Name: 3, expecting 4\n",
      "WARNING: Entity <bound method TransformerSelfAttentionLayer.call of <bert.transformer.TransformerSelfAttentionLayer object at 0x000002E304B84CC8>> could not be transformed and will be executed as-is. Please report this to the AutgoGraph team. When filing the bug, set the verbosity to 10 (on Linux, `export AUTOGRAPH_VERBOSITY=10`) and attach the full output. Cause: converting <bound method TransformerSelfAttentionLayer.call of <bert.transformer.TransformerSelfAttentionLayer object at 0x000002E304B84CC8>>: AssertionError: Bad argument number for Name: 3, expecting 4\n",
      "WARNING:tensorflow:Entity <bound method AttentionLayer.call of <bert.attention.AttentionLayer object at 0x000002E304D09F08>> could not be transformed and will be executed as-is. Please report this to the AutgoGraph team. When filing the bug, set the verbosity to 10 (on Linux, `export AUTOGRAPH_VERBOSITY=10`) and attach the full output. Cause: converting <bound method AttentionLayer.call of <bert.attention.AttentionLayer object at 0x000002E304D09F08>>: AttributeError: module 'gast' has no attribute 'Num'\n",
      "WARNING: Entity <bound method AttentionLayer.call of <bert.attention.AttentionLayer object at 0x000002E304D09F08>> could not be transformed and will be executed as-is. Please report this to the AutgoGraph team. When filing the bug, set the verbosity to 10 (on Linux, `export AUTOGRAPH_VERBOSITY=10`) and attach the full output. Cause: converting <bound method AttentionLayer.call of <bert.attention.AttentionLayer object at 0x000002E304D09F08>>: AttributeError: module 'gast' has no attribute 'Num'\n",
      "WARNING:tensorflow:Entity <bound method ProjectionLayer.call of <bert.transformer.ProjectionLayer object at 0x000002E3050863C8>> could not be transformed and will be executed as-is. Please report this to the AutgoGraph team. When filing the bug, set the verbosity to 10 (on Linux, `export AUTOGRAPH_VERBOSITY=10`) and attach the full output. Cause: converting <bound method ProjectionLayer.call of <bert.transformer.ProjectionLayer object at 0x000002E3050863C8>>: AssertionError: Bad argument number for Name: 3, expecting 4\n",
      "WARNING: Entity <bound method ProjectionLayer.call of <bert.transformer.ProjectionLayer object at 0x000002E3050863C8>> could not be transformed and will be executed as-is. Please report this to the AutgoGraph team. When filing the bug, set the verbosity to 10 (on Linux, `export AUTOGRAPH_VERBOSITY=10`) and attach the full output. Cause: converting <bound method ProjectionLayer.call of <bert.transformer.ProjectionLayer object at 0x000002E3050863C8>>: AssertionError: Bad argument number for Name: 3, expecting 4\n",
      "WARNING:tensorflow:Entity <bound method LayerNormalization.call of <params_flow.normalization.LayerNormalization object at 0x000002E305265A48>> could not be transformed and will be executed as-is. Please report this to the AutgoGraph team. When filing the bug, set the verbosity to 10 (on Linux, `export AUTOGRAPH_VERBOSITY=10`) and attach the full output. Cause: converting <bound method LayerNormalization.call of <params_flow.normalization.LayerNormalization object at 0x000002E305265A48>>: AssertionError: Bad argument number for Name: 3, expecting 4\n"
     ]
    },
    {
     "name": "stdout",
     "output_type": "stream",
     "text": [
      "WARNING: Entity <bound method LayerNormalization.call of <params_flow.normalization.LayerNormalization object at 0x000002E305265A48>> could not be transformed and will be executed as-is. Please report this to the AutgoGraph team. When filing the bug, set the verbosity to 10 (on Linux, `export AUTOGRAPH_VERBOSITY=10`) and attach the full output. Cause: converting <bound method LayerNormalization.call of <params_flow.normalization.LayerNormalization object at 0x000002E305265A48>>: AssertionError: Bad argument number for Name: 3, expecting 4\n",
      "WARNING:tensorflow:Entity <bound method ProjectionLayer.call of <bert.transformer.ProjectionLayer object at 0x000002E304CC7608>> could not be transformed and will be executed as-is. Please report this to the AutgoGraph team. When filing the bug, set the verbosity to 10 (on Linux, `export AUTOGRAPH_VERBOSITY=10`) and attach the full output. Cause: converting <bound method ProjectionLayer.call of <bert.transformer.ProjectionLayer object at 0x000002E304CC7608>>: AssertionError: Bad argument number for Name: 3, expecting 4\n",
      "WARNING: Entity <bound method ProjectionLayer.call of <bert.transformer.ProjectionLayer object at 0x000002E304CC7608>> could not be transformed and will be executed as-is. Please report this to the AutgoGraph team. When filing the bug, set the verbosity to 10 (on Linux, `export AUTOGRAPH_VERBOSITY=10`) and attach the full output. Cause: converting <bound method ProjectionLayer.call of <bert.transformer.ProjectionLayer object at 0x000002E304CC7608>>: AssertionError: Bad argument number for Name: 3, expecting 4\n",
      "WARNING:tensorflow:Entity <bound method LayerNormalization.call of <params_flow.normalization.LayerNormalization object at 0x000002E3055C9888>> could not be transformed and will be executed as-is. Please report this to the AutgoGraph team. When filing the bug, set the verbosity to 10 (on Linux, `export AUTOGRAPH_VERBOSITY=10`) and attach the full output. Cause: converting <bound method LayerNormalization.call of <params_flow.normalization.LayerNormalization object at 0x000002E3055C9888>>: AssertionError: Bad argument number for Name: 3, expecting 4\n",
      "WARNING: Entity <bound method LayerNormalization.call of <params_flow.normalization.LayerNormalization object at 0x000002E3055C9888>> could not be transformed and will be executed as-is. Please report this to the AutgoGraph team. When filing the bug, set the verbosity to 10 (on Linux, `export AUTOGRAPH_VERBOSITY=10`) and attach the full output. Cause: converting <bound method LayerNormalization.call of <params_flow.normalization.LayerNormalization object at 0x000002E3055C9888>>: AssertionError: Bad argument number for Name: 3, expecting 4\n",
      "WARNING:tensorflow:Entity <bound method SingleTransformerEncoderLayer.call of <bert.transformer.SingleTransformerEncoderLayer object at 0x000002E304666208>> could not be transformed and will be executed as-is. Please report this to the AutgoGraph team. When filing the bug, set the verbosity to 10 (on Linux, `export AUTOGRAPH_VERBOSITY=10`) and attach the full output. Cause: converting <bound method SingleTransformerEncoderLayer.call of <bert.transformer.SingleTransformerEncoderLayer object at 0x000002E304666208>>: AssertionError: Bad argument number for Name: 3, expecting 4\n",
      "WARNING: Entity <bound method SingleTransformerEncoderLayer.call of <bert.transformer.SingleTransformerEncoderLayer object at 0x000002E304666208>> could not be transformed and will be executed as-is. Please report this to the AutgoGraph team. When filing the bug, set the verbosity to 10 (on Linux, `export AUTOGRAPH_VERBOSITY=10`) and attach the full output. Cause: converting <bound method SingleTransformerEncoderLayer.call of <bert.transformer.SingleTransformerEncoderLayer object at 0x000002E304666208>>: AssertionError: Bad argument number for Name: 3, expecting 4\n",
      "WARNING:tensorflow:Entity <bound method TransformerSelfAttentionLayer.call of <bert.transformer.TransformerSelfAttentionLayer object at 0x000002E3046FAE88>> could not be transformed and will be executed as-is. Please report this to the AutgoGraph team. When filing the bug, set the verbosity to 10 (on Linux, `export AUTOGRAPH_VERBOSITY=10`) and attach the full output. Cause: converting <bound method TransformerSelfAttentionLayer.call of <bert.transformer.TransformerSelfAttentionLayer object at 0x000002E3046FAE88>>: AssertionError: Bad argument number for Name: 3, expecting 4\n",
      "WARNING: Entity <bound method TransformerSelfAttentionLayer.call of <bert.transformer.TransformerSelfAttentionLayer object at 0x000002E3046FAE88>> could not be transformed and will be executed as-is. Please report this to the AutgoGraph team. When filing the bug, set the verbosity to 10 (on Linux, `export AUTOGRAPH_VERBOSITY=10`) and attach the full output. Cause: converting <bound method TransformerSelfAttentionLayer.call of <bert.transformer.TransformerSelfAttentionLayer object at 0x000002E3046FAE88>>: AssertionError: Bad argument number for Name: 3, expecting 4\n",
      "WARNING:tensorflow:Entity <bound method AttentionLayer.call of <bert.attention.AttentionLayer object at 0x000002E3050950C8>> could not be transformed and will be executed as-is. Please report this to the AutgoGraph team. When filing the bug, set the verbosity to 10 (on Linux, `export AUTOGRAPH_VERBOSITY=10`) and attach the full output. Cause: converting <bound method AttentionLayer.call of <bert.attention.AttentionLayer object at 0x000002E3050950C8>>: AttributeError: module 'gast' has no attribute 'Num'\n",
      "WARNING: Entity <bound method AttentionLayer.call of <bert.attention.AttentionLayer object at 0x000002E3050950C8>> could not be transformed and will be executed as-is. Please report this to the AutgoGraph team. When filing the bug, set the verbosity to 10 (on Linux, `export AUTOGRAPH_VERBOSITY=10`) and attach the full output. Cause: converting <bound method AttentionLayer.call of <bert.attention.AttentionLayer object at 0x000002E3050950C8>>: AttributeError: module 'gast' has no attribute 'Num'\n",
      "WARNING:tensorflow:Entity <bound method ProjectionLayer.call of <bert.transformer.ProjectionLayer object at 0x000002E3055CE448>> could not be transformed and will be executed as-is. Please report this to the AutgoGraph team. When filing the bug, set the verbosity to 10 (on Linux, `export AUTOGRAPH_VERBOSITY=10`) and attach the full output. Cause: converting <bound method ProjectionLayer.call of <bert.transformer.ProjectionLayer object at 0x000002E3055CE448>>: AssertionError: Bad argument number for Name: 3, expecting 4\n",
      "WARNING: Entity <bound method ProjectionLayer.call of <bert.transformer.ProjectionLayer object at 0x000002E3055CE448>> could not be transformed and will be executed as-is. Please report this to the AutgoGraph team. When filing the bug, set the verbosity to 10 (on Linux, `export AUTOGRAPH_VERBOSITY=10`) and attach the full output. Cause: converting <bound method ProjectionLayer.call of <bert.transformer.ProjectionLayer object at 0x000002E3055CE448>>: AssertionError: Bad argument number for Name: 3, expecting 4\n",
      "WARNING:tensorflow:Entity <bound method LayerNormalization.call of <params_flow.normalization.LayerNormalization object at 0x000002E30577EA48>> could not be transformed and will be executed as-is. Please report this to the AutgoGraph team. When filing the bug, set the verbosity to 10 (on Linux, `export AUTOGRAPH_VERBOSITY=10`) and attach the full output. Cause: converting <bound method LayerNormalization.call of <params_flow.normalization.LayerNormalization object at 0x000002E30577EA48>>: AssertionError: Bad argument number for Name: 3, expecting 4\n",
      "WARNING: Entity <bound method LayerNormalization.call of <params_flow.normalization.LayerNormalization object at 0x000002E30577EA48>> could not be transformed and will be executed as-is. Please report this to the AutgoGraph team. When filing the bug, set the verbosity to 10 (on Linux, `export AUTOGRAPH_VERBOSITY=10`) and attach the full output. Cause: converting <bound method LayerNormalization.call of <params_flow.normalization.LayerNormalization object at 0x000002E30577EA48>>: AssertionError: Bad argument number for Name: 3, expecting 4\n",
      "WARNING:tensorflow:Entity <bound method ProjectionLayer.call of <bert.transformer.ProjectionLayer object at 0x000002E304671388>> could not be transformed and will be executed as-is. Please report this to the AutgoGraph team. When filing the bug, set the verbosity to 10 (on Linux, `export AUTOGRAPH_VERBOSITY=10`) and attach the full output. Cause: converting <bound method ProjectionLayer.call of <bert.transformer.ProjectionLayer object at 0x000002E304671388>>: AssertionError: Bad argument number for Name: 3, expecting 4\n"
     ]
    },
    {
     "name": "stdout",
     "output_type": "stream",
     "text": [
      "WARNING: Entity <bound method ProjectionLayer.call of <bert.transformer.ProjectionLayer object at 0x000002E304671388>> could not be transformed and will be executed as-is. Please report this to the AutgoGraph team. When filing the bug, set the verbosity to 10 (on Linux, `export AUTOGRAPH_VERBOSITY=10`) and attach the full output. Cause: converting <bound method ProjectionLayer.call of <bert.transformer.ProjectionLayer object at 0x000002E304671388>>: AssertionError: Bad argument number for Name: 3, expecting 4\n",
      "WARNING:tensorflow:Entity <bound method LayerNormalization.call of <params_flow.normalization.LayerNormalization object at 0x000002E30568B848>> could not be transformed and will be executed as-is. Please report this to the AutgoGraph team. When filing the bug, set the verbosity to 10 (on Linux, `export AUTOGRAPH_VERBOSITY=10`) and attach the full output. Cause: converting <bound method LayerNormalization.call of <params_flow.normalization.LayerNormalization object at 0x000002E30568B848>>: AssertionError: Bad argument number for Name: 3, expecting 4\n",
      "WARNING: Entity <bound method LayerNormalization.call of <params_flow.normalization.LayerNormalization object at 0x000002E30568B848>> could not be transformed and will be executed as-is. Please report this to the AutgoGraph team. When filing the bug, set the verbosity to 10 (on Linux, `export AUTOGRAPH_VERBOSITY=10`) and attach the full output. Cause: converting <bound method LayerNormalization.call of <params_flow.normalization.LayerNormalization object at 0x000002E30568B848>>: AssertionError: Bad argument number for Name: 3, expecting 4\n",
      "WARNING:tensorflow:Entity <bound method SingleTransformerEncoderLayer.call of <bert.transformer.SingleTransformerEncoderLayer object at 0x000002E304666848>> could not be transformed and will be executed as-is. Please report this to the AutgoGraph team. When filing the bug, set the verbosity to 10 (on Linux, `export AUTOGRAPH_VERBOSITY=10`) and attach the full output. Cause: converting <bound method SingleTransformerEncoderLayer.call of <bert.transformer.SingleTransformerEncoderLayer object at 0x000002E304666848>>: AssertionError: Bad argument number for Name: 3, expecting 4\n",
      "WARNING: Entity <bound method SingleTransformerEncoderLayer.call of <bert.transformer.SingleTransformerEncoderLayer object at 0x000002E304666848>> could not be transformed and will be executed as-is. Please report this to the AutgoGraph team. When filing the bug, set the verbosity to 10 (on Linux, `export AUTOGRAPH_VERBOSITY=10`) and attach the full output. Cause: converting <bound method SingleTransformerEncoderLayer.call of <bert.transformer.SingleTransformerEncoderLayer object at 0x000002E304666848>>: AssertionError: Bad argument number for Name: 3, expecting 4\n",
      "WARNING:tensorflow:Entity <bound method TransformerSelfAttentionLayer.call of <bert.transformer.TransformerSelfAttentionLayer object at 0x000002E305216688>> could not be transformed and will be executed as-is. Please report this to the AutgoGraph team. When filing the bug, set the verbosity to 10 (on Linux, `export AUTOGRAPH_VERBOSITY=10`) and attach the full output. Cause: converting <bound method TransformerSelfAttentionLayer.call of <bert.transformer.TransformerSelfAttentionLayer object at 0x000002E305216688>>: AssertionError: Bad argument number for Name: 3, expecting 4\n",
      "WARNING: Entity <bound method TransformerSelfAttentionLayer.call of <bert.transformer.TransformerSelfAttentionLayer object at 0x000002E305216688>> could not be transformed and will be executed as-is. Please report this to the AutgoGraph team. When filing the bug, set the verbosity to 10 (on Linux, `export AUTOGRAPH_VERBOSITY=10`) and attach the full output. Cause: converting <bound method TransformerSelfAttentionLayer.call of <bert.transformer.TransformerSelfAttentionLayer object at 0x000002E305216688>>: AssertionError: Bad argument number for Name: 3, expecting 4\n",
      "WARNING:tensorflow:Entity <bound method AttentionLayer.call of <bert.attention.AttentionLayer object at 0x000002E3055C9A88>> could not be transformed and will be executed as-is. Please report this to the AutgoGraph team. When filing the bug, set the verbosity to 10 (on Linux, `export AUTOGRAPH_VERBOSITY=10`) and attach the full output. Cause: converting <bound method AttentionLayer.call of <bert.attention.AttentionLayer object at 0x000002E3055C9A88>>: AttributeError: module 'gast' has no attribute 'Num'\n",
      "WARNING: Entity <bound method AttentionLayer.call of <bert.attention.AttentionLayer object at 0x000002E3055C9A88>> could not be transformed and will be executed as-is. Please report this to the AutgoGraph team. When filing the bug, set the verbosity to 10 (on Linux, `export AUTOGRAPH_VERBOSITY=10`) and attach the full output. Cause: converting <bound method AttentionLayer.call of <bert.attention.AttentionLayer object at 0x000002E3055C9A88>>: AttributeError: module 'gast' has no attribute 'Num'\n",
      "WARNING:tensorflow:Entity <bound method ProjectionLayer.call of <bert.transformer.ProjectionLayer object at 0x000002E30567B1C8>> could not be transformed and will be executed as-is. Please report this to the AutgoGraph team. When filing the bug, set the verbosity to 10 (on Linux, `export AUTOGRAPH_VERBOSITY=10`) and attach the full output. Cause: converting <bound method ProjectionLayer.call of <bert.transformer.ProjectionLayer object at 0x000002E30567B1C8>>: AssertionError: Bad argument number for Name: 3, expecting 4\n",
      "WARNING: Entity <bound method ProjectionLayer.call of <bert.transformer.ProjectionLayer object at 0x000002E30567B1C8>> could not be transformed and will be executed as-is. Please report this to the AutgoGraph team. When filing the bug, set the verbosity to 10 (on Linux, `export AUTOGRAPH_VERBOSITY=10`) and attach the full output. Cause: converting <bound method ProjectionLayer.call of <bert.transformer.ProjectionLayer object at 0x000002E30567B1C8>>: AssertionError: Bad argument number for Name: 3, expecting 4\n",
      "WARNING:tensorflow:Entity <bound method LayerNormalization.call of <params_flow.normalization.LayerNormalization object at 0x000002E305CEC308>> could not be transformed and will be executed as-is. Please report this to the AutgoGraph team. When filing the bug, set the verbosity to 10 (on Linux, `export AUTOGRAPH_VERBOSITY=10`) and attach the full output. Cause: converting <bound method LayerNormalization.call of <params_flow.normalization.LayerNormalization object at 0x000002E305CEC308>>: AssertionError: Bad argument number for Name: 3, expecting 4\n",
      "WARNING: Entity <bound method LayerNormalization.call of <params_flow.normalization.LayerNormalization object at 0x000002E305CEC308>> could not be transformed and will be executed as-is. Please report this to the AutgoGraph team. When filing the bug, set the verbosity to 10 (on Linux, `export AUTOGRAPH_VERBOSITY=10`) and attach the full output. Cause: converting <bound method LayerNormalization.call of <params_flow.normalization.LayerNormalization object at 0x000002E305CEC308>>: AssertionError: Bad argument number for Name: 3, expecting 4\n",
      "WARNING:tensorflow:Entity <bound method ProjectionLayer.call of <bert.transformer.ProjectionLayer object at 0x000002E3044483C8>> could not be transformed and will be executed as-is. Please report this to the AutgoGraph team. When filing the bug, set the verbosity to 10 (on Linux, `export AUTOGRAPH_VERBOSITY=10`) and attach the full output. Cause: converting <bound method ProjectionLayer.call of <bert.transformer.ProjectionLayer object at 0x000002E3044483C8>>: AssertionError: Bad argument number for Name: 3, expecting 4\n",
      "WARNING: Entity <bound method ProjectionLayer.call of <bert.transformer.ProjectionLayer object at 0x000002E3044483C8>> could not be transformed and will be executed as-is. Please report this to the AutgoGraph team. When filing the bug, set the verbosity to 10 (on Linux, `export AUTOGRAPH_VERBOSITY=10`) and attach the full output. Cause: converting <bound method ProjectionLayer.call of <bert.transformer.ProjectionLayer object at 0x000002E3044483C8>>: AssertionError: Bad argument number for Name: 3, expecting 4\n",
      "WARNING:tensorflow:Entity <bound method LayerNormalization.call of <params_flow.normalization.LayerNormalization object at 0x000002E30605D8C8>> could not be transformed and will be executed as-is. Please report this to the AutgoGraph team. When filing the bug, set the verbosity to 10 (on Linux, `export AUTOGRAPH_VERBOSITY=10`) and attach the full output. Cause: converting <bound method LayerNormalization.call of <params_flow.normalization.LayerNormalization object at 0x000002E30605D8C8>>: AssertionError: Bad argument number for Name: 3, expecting 4\n"
     ]
    },
    {
     "name": "stdout",
     "output_type": "stream",
     "text": [
      "WARNING: Entity <bound method LayerNormalization.call of <params_flow.normalization.LayerNormalization object at 0x000002E30605D8C8>> could not be transformed and will be executed as-is. Please report this to the AutgoGraph team. When filing the bug, set the verbosity to 10 (on Linux, `export AUTOGRAPH_VERBOSITY=10`) and attach the full output. Cause: converting <bound method LayerNormalization.call of <params_flow.normalization.LayerNormalization object at 0x000002E30605D8C8>>: AssertionError: Bad argument number for Name: 3, expecting 4\n",
      "WARNING:tensorflow:Entity <bound method SingleTransformerEncoderLayer.call of <bert.transformer.SingleTransformerEncoderLayer object at 0x000002E304666AC8>> could not be transformed and will be executed as-is. Please report this to the AutgoGraph team. When filing the bug, set the verbosity to 10 (on Linux, `export AUTOGRAPH_VERBOSITY=10`) and attach the full output. Cause: converting <bound method SingleTransformerEncoderLayer.call of <bert.transformer.SingleTransformerEncoderLayer object at 0x000002E304666AC8>>: AssertionError: Bad argument number for Name: 3, expecting 4\n",
      "WARNING: Entity <bound method SingleTransformerEncoderLayer.call of <bert.transformer.SingleTransformerEncoderLayer object at 0x000002E304666AC8>> could not be transformed and will be executed as-is. Please report this to the AutgoGraph team. When filing the bug, set the verbosity to 10 (on Linux, `export AUTOGRAPH_VERBOSITY=10`) and attach the full output. Cause: converting <bound method SingleTransformerEncoderLayer.call of <bert.transformer.SingleTransformerEncoderLayer object at 0x000002E304666AC8>>: AssertionError: Bad argument number for Name: 3, expecting 4\n",
      "WARNING:tensorflow:Entity <bound method TransformerSelfAttentionLayer.call of <bert.transformer.TransformerSelfAttentionLayer object at 0x000002E3045CB308>> could not be transformed and will be executed as-is. Please report this to the AutgoGraph team. When filing the bug, set the verbosity to 10 (on Linux, `export AUTOGRAPH_VERBOSITY=10`) and attach the full output. Cause: converting <bound method TransformerSelfAttentionLayer.call of <bert.transformer.TransformerSelfAttentionLayer object at 0x000002E3045CB308>>: AssertionError: Bad argument number for Name: 3, expecting 4\n",
      "WARNING: Entity <bound method TransformerSelfAttentionLayer.call of <bert.transformer.TransformerSelfAttentionLayer object at 0x000002E3045CB308>> could not be transformed and will be executed as-is. Please report this to the AutgoGraph team. When filing the bug, set the verbosity to 10 (on Linux, `export AUTOGRAPH_VERBOSITY=10`) and attach the full output. Cause: converting <bound method TransformerSelfAttentionLayer.call of <bert.transformer.TransformerSelfAttentionLayer object at 0x000002E3045CB308>>: AssertionError: Bad argument number for Name: 3, expecting 4\n",
      "WARNING:tensorflow:Entity <bound method AttentionLayer.call of <bert.attention.AttentionLayer object at 0x000002E3045C5F08>> could not be transformed and will be executed as-is. Please report this to the AutgoGraph team. When filing the bug, set the verbosity to 10 (on Linux, `export AUTOGRAPH_VERBOSITY=10`) and attach the full output. Cause: converting <bound method AttentionLayer.call of <bert.attention.AttentionLayer object at 0x000002E3045C5F08>>: AttributeError: module 'gast' has no attribute 'Num'\n",
      "WARNING: Entity <bound method AttentionLayer.call of <bert.attention.AttentionLayer object at 0x000002E3045C5F08>> could not be transformed and will be executed as-is. Please report this to the AutgoGraph team. When filing the bug, set the verbosity to 10 (on Linux, `export AUTOGRAPH_VERBOSITY=10`) and attach the full output. Cause: converting <bound method AttentionLayer.call of <bert.attention.AttentionLayer object at 0x000002E3045C5F08>>: AttributeError: module 'gast' has no attribute 'Num'\n",
      "WARNING:tensorflow:Entity <bound method ProjectionLayer.call of <bert.transformer.ProjectionLayer object at 0x000002E3055CE408>> could not be transformed and will be executed as-is. Please report this to the AutgoGraph team. When filing the bug, set the verbosity to 10 (on Linux, `export AUTOGRAPH_VERBOSITY=10`) and attach the full output. Cause: converting <bound method ProjectionLayer.call of <bert.transformer.ProjectionLayer object at 0x000002E3055CE408>>: AssertionError: Bad argument number for Name: 3, expecting 4\n",
      "WARNING: Entity <bound method ProjectionLayer.call of <bert.transformer.ProjectionLayer object at 0x000002E3055CE408>> could not be transformed and will be executed as-is. Please report this to the AutgoGraph team. When filing the bug, set the verbosity to 10 (on Linux, `export AUTOGRAPH_VERBOSITY=10`) and attach the full output. Cause: converting <bound method ProjectionLayer.call of <bert.transformer.ProjectionLayer object at 0x000002E3055CE408>>: AssertionError: Bad argument number for Name: 3, expecting 4\n",
      "WARNING:tensorflow:Entity <bound method LayerNormalization.call of <params_flow.normalization.LayerNormalization object at 0x000002E3062316C8>> could not be transformed and will be executed as-is. Please report this to the AutgoGraph team. When filing the bug, set the verbosity to 10 (on Linux, `export AUTOGRAPH_VERBOSITY=10`) and attach the full output. Cause: converting <bound method LayerNormalization.call of <params_flow.normalization.LayerNormalization object at 0x000002E3062316C8>>: AssertionError: Bad argument number for Name: 3, expecting 4\n",
      "WARNING: Entity <bound method LayerNormalization.call of <params_flow.normalization.LayerNormalization object at 0x000002E3062316C8>> could not be transformed and will be executed as-is. Please report this to the AutgoGraph team. When filing the bug, set the verbosity to 10 (on Linux, `export AUTOGRAPH_VERBOSITY=10`) and attach the full output. Cause: converting <bound method LayerNormalization.call of <params_flow.normalization.LayerNormalization object at 0x000002E3062316C8>>: AssertionError: Bad argument number for Name: 3, expecting 4\n",
      "WARNING:tensorflow:Entity <bound method ProjectionLayer.call of <bert.transformer.ProjectionLayer object at 0x000002E30573E748>> could not be transformed and will be executed as-is. Please report this to the AutgoGraph team. When filing the bug, set the verbosity to 10 (on Linux, `export AUTOGRAPH_VERBOSITY=10`) and attach the full output. Cause: converting <bound method ProjectionLayer.call of <bert.transformer.ProjectionLayer object at 0x000002E30573E748>>: AssertionError: Bad argument number for Name: 3, expecting 4\n",
      "WARNING: Entity <bound method ProjectionLayer.call of <bert.transformer.ProjectionLayer object at 0x000002E30573E748>> could not be transformed and will be executed as-is. Please report this to the AutgoGraph team. When filing the bug, set the verbosity to 10 (on Linux, `export AUTOGRAPH_VERBOSITY=10`) and attach the full output. Cause: converting <bound method ProjectionLayer.call of <bert.transformer.ProjectionLayer object at 0x000002E30573E748>>: AssertionError: Bad argument number for Name: 3, expecting 4\n",
      "WARNING:tensorflow:Entity <bound method LayerNormalization.call of <params_flow.normalization.LayerNormalization object at 0x000002E30654EE08>> could not be transformed and will be executed as-is. Please report this to the AutgoGraph team. When filing the bug, set the verbosity to 10 (on Linux, `export AUTOGRAPH_VERBOSITY=10`) and attach the full output. Cause: converting <bound method LayerNormalization.call of <params_flow.normalization.LayerNormalization object at 0x000002E30654EE08>>: AssertionError: Bad argument number for Name: 3, expecting 4\n",
      "WARNING: Entity <bound method LayerNormalization.call of <params_flow.normalization.LayerNormalization object at 0x000002E30654EE08>> could not be transformed and will be executed as-is. Please report this to the AutgoGraph team. When filing the bug, set the verbosity to 10 (on Linux, `export AUTOGRAPH_VERBOSITY=10`) and attach the full output. Cause: converting <bound method LayerNormalization.call of <params_flow.normalization.LayerNormalization object at 0x000002E30654EE08>>: AssertionError: Bad argument number for Name: 3, expecting 4\n",
      "WARNING:tensorflow:Entity <bound method SingleTransformerEncoderLayer.call of <bert.transformer.SingleTransformerEncoderLayer object at 0x000002E304666488>> could not be transformed and will be executed as-is. Please report this to the AutgoGraph team. When filing the bug, set the verbosity to 10 (on Linux, `export AUTOGRAPH_VERBOSITY=10`) and attach the full output. Cause: converting <bound method SingleTransformerEncoderLayer.call of <bert.transformer.SingleTransformerEncoderLayer object at 0x000002E304666488>>: AssertionError: Bad argument number for Name: 3, expecting 4\n"
     ]
    },
    {
     "name": "stdout",
     "output_type": "stream",
     "text": [
      "WARNING: Entity <bound method SingleTransformerEncoderLayer.call of <bert.transformer.SingleTransformerEncoderLayer object at 0x000002E304666488>> could not be transformed and will be executed as-is. Please report this to the AutgoGraph team. When filing the bug, set the verbosity to 10 (on Linux, `export AUTOGRAPH_VERBOSITY=10`) and attach the full output. Cause: converting <bound method SingleTransformerEncoderLayer.call of <bert.transformer.SingleTransformerEncoderLayer object at 0x000002E304666488>>: AssertionError: Bad argument number for Name: 3, expecting 4\n",
      "WARNING:tensorflow:Entity <bound method TransformerSelfAttentionLayer.call of <bert.transformer.TransformerSelfAttentionLayer object at 0x000002E3046FA048>> could not be transformed and will be executed as-is. Please report this to the AutgoGraph team. When filing the bug, set the verbosity to 10 (on Linux, `export AUTOGRAPH_VERBOSITY=10`) and attach the full output. Cause: converting <bound method TransformerSelfAttentionLayer.call of <bert.transformer.TransformerSelfAttentionLayer object at 0x000002E3046FA048>>: AssertionError: Bad argument number for Name: 3, expecting 4\n",
      "WARNING: Entity <bound method TransformerSelfAttentionLayer.call of <bert.transformer.TransformerSelfAttentionLayer object at 0x000002E3046FA048>> could not be transformed and will be executed as-is. Please report this to the AutgoGraph team. When filing the bug, set the verbosity to 10 (on Linux, `export AUTOGRAPH_VERBOSITY=10`) and attach the full output. Cause: converting <bound method TransformerSelfAttentionLayer.call of <bert.transformer.TransformerSelfAttentionLayer object at 0x000002E3046FA048>>: AssertionError: Bad argument number for Name: 3, expecting 4\n",
      "WARNING:tensorflow:Entity <bound method AttentionLayer.call of <bert.attention.AttentionLayer object at 0x000002E3045C5748>> could not be transformed and will be executed as-is. Please report this to the AutgoGraph team. When filing the bug, set the verbosity to 10 (on Linux, `export AUTOGRAPH_VERBOSITY=10`) and attach the full output. Cause: converting <bound method AttentionLayer.call of <bert.attention.AttentionLayer object at 0x000002E3045C5748>>: AttributeError: module 'gast' has no attribute 'Num'\n",
      "WARNING: Entity <bound method AttentionLayer.call of <bert.attention.AttentionLayer object at 0x000002E3045C5748>> could not be transformed and will be executed as-is. Please report this to the AutgoGraph team. When filing the bug, set the verbosity to 10 (on Linux, `export AUTOGRAPH_VERBOSITY=10`) and attach the full output. Cause: converting <bound method AttentionLayer.call of <bert.attention.AttentionLayer object at 0x000002E3045C5748>>: AttributeError: module 'gast' has no attribute 'Num'\n",
      "WARNING:tensorflow:Entity <bound method ProjectionLayer.call of <bert.transformer.ProjectionLayer object at 0x000002E3061DE988>> could not be transformed and will be executed as-is. Please report this to the AutgoGraph team. When filing the bug, set the verbosity to 10 (on Linux, `export AUTOGRAPH_VERBOSITY=10`) and attach the full output. Cause: converting <bound method ProjectionLayer.call of <bert.transformer.ProjectionLayer object at 0x000002E3061DE988>>: AssertionError: Bad argument number for Name: 3, expecting 4\n",
      "WARNING: Entity <bound method ProjectionLayer.call of <bert.transformer.ProjectionLayer object at 0x000002E3061DE988>> could not be transformed and will be executed as-is. Please report this to the AutgoGraph team. When filing the bug, set the verbosity to 10 (on Linux, `export AUTOGRAPH_VERBOSITY=10`) and attach the full output. Cause: converting <bound method ProjectionLayer.call of <bert.transformer.ProjectionLayer object at 0x000002E3061DE988>>: AssertionError: Bad argument number for Name: 3, expecting 4\n",
      "WARNING:tensorflow:Entity <bound method LayerNormalization.call of <params_flow.normalization.LayerNormalization object at 0x000002E30673FB88>> could not be transformed and will be executed as-is. Please report this to the AutgoGraph team. When filing the bug, set the verbosity to 10 (on Linux, `export AUTOGRAPH_VERBOSITY=10`) and attach the full output. Cause: converting <bound method LayerNormalization.call of <params_flow.normalization.LayerNormalization object at 0x000002E30673FB88>>: AssertionError: Bad argument number for Name: 3, expecting 4\n",
      "WARNING: Entity <bound method LayerNormalization.call of <params_flow.normalization.LayerNormalization object at 0x000002E30673FB88>> could not be transformed and will be executed as-is. Please report this to the AutgoGraph team. When filing the bug, set the verbosity to 10 (on Linux, `export AUTOGRAPH_VERBOSITY=10`) and attach the full output. Cause: converting <bound method LayerNormalization.call of <params_flow.normalization.LayerNormalization object at 0x000002E30673FB88>>: AssertionError: Bad argument number for Name: 3, expecting 4\n",
      "WARNING:tensorflow:Entity <bound method ProjectionLayer.call of <bert.transformer.ProjectionLayer object at 0x000002E305C93788>> could not be transformed and will be executed as-is. Please report this to the AutgoGraph team. When filing the bug, set the verbosity to 10 (on Linux, `export AUTOGRAPH_VERBOSITY=10`) and attach the full output. Cause: converting <bound method ProjectionLayer.call of <bert.transformer.ProjectionLayer object at 0x000002E305C93788>>: AssertionError: Bad argument number for Name: 3, expecting 4\n",
      "WARNING: Entity <bound method ProjectionLayer.call of <bert.transformer.ProjectionLayer object at 0x000002E305C93788>> could not be transformed and will be executed as-is. Please report this to the AutgoGraph team. When filing the bug, set the verbosity to 10 (on Linux, `export AUTOGRAPH_VERBOSITY=10`) and attach the full output. Cause: converting <bound method ProjectionLayer.call of <bert.transformer.ProjectionLayer object at 0x000002E305C93788>>: AssertionError: Bad argument number for Name: 3, expecting 4\n",
      "WARNING:tensorflow:Entity <bound method LayerNormalization.call of <params_flow.normalization.LayerNormalization object at 0x000002E307AA3108>> could not be transformed and will be executed as-is. Please report this to the AutgoGraph team. When filing the bug, set the verbosity to 10 (on Linux, `export AUTOGRAPH_VERBOSITY=10`) and attach the full output. Cause: converting <bound method LayerNormalization.call of <params_flow.normalization.LayerNormalization object at 0x000002E307AA3108>>: AssertionError: Bad argument number for Name: 3, expecting 4\n",
      "WARNING: Entity <bound method LayerNormalization.call of <params_flow.normalization.LayerNormalization object at 0x000002E307AA3108>> could not be transformed and will be executed as-is. Please report this to the AutgoGraph team. When filing the bug, set the verbosity to 10 (on Linux, `export AUTOGRAPH_VERBOSITY=10`) and attach the full output. Cause: converting <bound method LayerNormalization.call of <params_flow.normalization.LayerNormalization object at 0x000002E307AA3108>>: AssertionError: Bad argument number for Name: 3, expecting 4\n",
      "WARNING:tensorflow:Entity <bound method SingleTransformerEncoderLayer.call of <bert.transformer.SingleTransformerEncoderLayer object at 0x000002E304662688>> could not be transformed and will be executed as-is. Please report this to the AutgoGraph team. When filing the bug, set the verbosity to 10 (on Linux, `export AUTOGRAPH_VERBOSITY=10`) and attach the full output. Cause: converting <bound method SingleTransformerEncoderLayer.call of <bert.transformer.SingleTransformerEncoderLayer object at 0x000002E304662688>>: AssertionError: Bad argument number for Name: 3, expecting 4\n",
      "WARNING: Entity <bound method SingleTransformerEncoderLayer.call of <bert.transformer.SingleTransformerEncoderLayer object at 0x000002E304662688>> could not be transformed and will be executed as-is. Please report this to the AutgoGraph team. When filing the bug, set the verbosity to 10 (on Linux, `export AUTOGRAPH_VERBOSITY=10`) and attach the full output. Cause: converting <bound method SingleTransformerEncoderLayer.call of <bert.transformer.SingleTransformerEncoderLayer object at 0x000002E304662688>>: AssertionError: Bad argument number for Name: 3, expecting 4\n",
      "WARNING:tensorflow:Entity <bound method TransformerSelfAttentionLayer.call of <bert.transformer.TransformerSelfAttentionLayer object at 0x000002E304D09C08>> could not be transformed and will be executed as-is. Please report this to the AutgoGraph team. When filing the bug, set the verbosity to 10 (on Linux, `export AUTOGRAPH_VERBOSITY=10`) and attach the full output. Cause: converting <bound method TransformerSelfAttentionLayer.call of <bert.transformer.TransformerSelfAttentionLayer object at 0x000002E304D09C08>>: AssertionError: Bad argument number for Name: 3, expecting 4\n"
     ]
    },
    {
     "name": "stdout",
     "output_type": "stream",
     "text": [
      "WARNING: Entity <bound method TransformerSelfAttentionLayer.call of <bert.transformer.TransformerSelfAttentionLayer object at 0x000002E304D09C08>> could not be transformed and will be executed as-is. Please report this to the AutgoGraph team. When filing the bug, set the verbosity to 10 (on Linux, `export AUTOGRAPH_VERBOSITY=10`) and attach the full output. Cause: converting <bound method TransformerSelfAttentionLayer.call of <bert.transformer.TransformerSelfAttentionLayer object at 0x000002E304D09C08>>: AssertionError: Bad argument number for Name: 3, expecting 4\n",
      "WARNING:tensorflow:Entity <bound method AttentionLayer.call of <bert.attention.AttentionLayer object at 0x000002E305CBC788>> could not be transformed and will be executed as-is. Please report this to the AutgoGraph team. When filing the bug, set the verbosity to 10 (on Linux, `export AUTOGRAPH_VERBOSITY=10`) and attach the full output. Cause: converting <bound method AttentionLayer.call of <bert.attention.AttentionLayer object at 0x000002E305CBC788>>: AttributeError: module 'gast' has no attribute 'Num'\n",
      "WARNING: Entity <bound method AttentionLayer.call of <bert.attention.AttentionLayer object at 0x000002E305CBC788>> could not be transformed and will be executed as-is. Please report this to the AutgoGraph team. When filing the bug, set the verbosity to 10 (on Linux, `export AUTOGRAPH_VERBOSITY=10`) and attach the full output. Cause: converting <bound method AttentionLayer.call of <bert.attention.AttentionLayer object at 0x000002E305CBC788>>: AttributeError: module 'gast' has no attribute 'Num'\n",
      "WARNING:tensorflow:Entity <bound method ProjectionLayer.call of <bert.transformer.ProjectionLayer object at 0x000002E307AC0A48>> could not be transformed and will be executed as-is. Please report this to the AutgoGraph team. When filing the bug, set the verbosity to 10 (on Linux, `export AUTOGRAPH_VERBOSITY=10`) and attach the full output. Cause: converting <bound method ProjectionLayer.call of <bert.transformer.ProjectionLayer object at 0x000002E307AC0A48>>: AssertionError: Bad argument number for Name: 3, expecting 4\n",
      "WARNING: Entity <bound method ProjectionLayer.call of <bert.transformer.ProjectionLayer object at 0x000002E307AC0A48>> could not be transformed and will be executed as-is. Please report this to the AutgoGraph team. When filing the bug, set the verbosity to 10 (on Linux, `export AUTOGRAPH_VERBOSITY=10`) and attach the full output. Cause: converting <bound method ProjectionLayer.call of <bert.transformer.ProjectionLayer object at 0x000002E307AC0A48>>: AssertionError: Bad argument number for Name: 3, expecting 4\n",
      "WARNING:tensorflow:Entity <bound method LayerNormalization.call of <params_flow.normalization.LayerNormalization object at 0x000002E307C4A408>> could not be transformed and will be executed as-is. Please report this to the AutgoGraph team. When filing the bug, set the verbosity to 10 (on Linux, `export AUTOGRAPH_VERBOSITY=10`) and attach the full output. Cause: converting <bound method LayerNormalization.call of <params_flow.normalization.LayerNormalization object at 0x000002E307C4A408>>: AssertionError: Bad argument number for Name: 3, expecting 4\n",
      "WARNING: Entity <bound method LayerNormalization.call of <params_flow.normalization.LayerNormalization object at 0x000002E307C4A408>> could not be transformed and will be executed as-is. Please report this to the AutgoGraph team. When filing the bug, set the verbosity to 10 (on Linux, `export AUTOGRAPH_VERBOSITY=10`) and attach the full output. Cause: converting <bound method LayerNormalization.call of <params_flow.normalization.LayerNormalization object at 0x000002E307C4A408>>: AssertionError: Bad argument number for Name: 3, expecting 4\n",
      "WARNING:tensorflow:Entity <bound method ProjectionLayer.call of <bert.transformer.ProjectionLayer object at 0x000002E3061DD2C8>> could not be transformed and will be executed as-is. Please report this to the AutgoGraph team. When filing the bug, set the verbosity to 10 (on Linux, `export AUTOGRAPH_VERBOSITY=10`) and attach the full output. Cause: converting <bound method ProjectionLayer.call of <bert.transformer.ProjectionLayer object at 0x000002E3061DD2C8>>: AssertionError: Bad argument number for Name: 3, expecting 4\n",
      "WARNING: Entity <bound method ProjectionLayer.call of <bert.transformer.ProjectionLayer object at 0x000002E3061DD2C8>> could not be transformed and will be executed as-is. Please report this to the AutgoGraph team. When filing the bug, set the verbosity to 10 (on Linux, `export AUTOGRAPH_VERBOSITY=10`) and attach the full output. Cause: converting <bound method ProjectionLayer.call of <bert.transformer.ProjectionLayer object at 0x000002E3061DD2C8>>: AssertionError: Bad argument number for Name: 3, expecting 4\n",
      "WARNING:tensorflow:Entity <bound method LayerNormalization.call of <params_flow.normalization.LayerNormalization object at 0x000002E307C5B808>> could not be transformed and will be executed as-is. Please report this to the AutgoGraph team. When filing the bug, set the verbosity to 10 (on Linux, `export AUTOGRAPH_VERBOSITY=10`) and attach the full output. Cause: converting <bound method LayerNormalization.call of <params_flow.normalization.LayerNormalization object at 0x000002E307C5B808>>: AssertionError: Bad argument number for Name: 3, expecting 4\n",
      "WARNING: Entity <bound method LayerNormalization.call of <params_flow.normalization.LayerNormalization object at 0x000002E307C5B808>> could not be transformed and will be executed as-is. Please report this to the AutgoGraph team. When filing the bug, set the verbosity to 10 (on Linux, `export AUTOGRAPH_VERBOSITY=10`) and attach the full output. Cause: converting <bound method LayerNormalization.call of <params_flow.normalization.LayerNormalization object at 0x000002E307C5B808>>: AssertionError: Bad argument number for Name: 3, expecting 4\n",
      "WARNING:tensorflow:Entity <bound method SingleTransformerEncoderLayer.call of <bert.transformer.SingleTransformerEncoderLayer object at 0x000002E304662A48>> could not be transformed and will be executed as-is. Please report this to the AutgoGraph team. When filing the bug, set the verbosity to 10 (on Linux, `export AUTOGRAPH_VERBOSITY=10`) and attach the full output. Cause: converting <bound method SingleTransformerEncoderLayer.call of <bert.transformer.SingleTransformerEncoderLayer object at 0x000002E304662A48>>: AssertionError: Bad argument number for Name: 3, expecting 4\n",
      "WARNING: Entity <bound method SingleTransformerEncoderLayer.call of <bert.transformer.SingleTransformerEncoderLayer object at 0x000002E304662A48>> could not be transformed and will be executed as-is. Please report this to the AutgoGraph team. When filing the bug, set the verbosity to 10 (on Linux, `export AUTOGRAPH_VERBOSITY=10`) and attach the full output. Cause: converting <bound method SingleTransformerEncoderLayer.call of <bert.transformer.SingleTransformerEncoderLayer object at 0x000002E304662A48>>: AssertionError: Bad argument number for Name: 3, expecting 4\n",
      "WARNING:tensorflow:Entity <bound method TransformerSelfAttentionLayer.call of <bert.transformer.TransformerSelfAttentionLayer object at 0x000002E305676B08>> could not be transformed and will be executed as-is. Please report this to the AutgoGraph team. When filing the bug, set the verbosity to 10 (on Linux, `export AUTOGRAPH_VERBOSITY=10`) and attach the full output. Cause: converting <bound method TransformerSelfAttentionLayer.call of <bert.transformer.TransformerSelfAttentionLayer object at 0x000002E305676B08>>: AssertionError: Bad argument number for Name: 3, expecting 4\n",
      "WARNING: Entity <bound method TransformerSelfAttentionLayer.call of <bert.transformer.TransformerSelfAttentionLayer object at 0x000002E305676B08>> could not be transformed and will be executed as-is. Please report this to the AutgoGraph team. When filing the bug, set the verbosity to 10 (on Linux, `export AUTOGRAPH_VERBOSITY=10`) and attach the full output. Cause: converting <bound method TransformerSelfAttentionLayer.call of <bert.transformer.TransformerSelfAttentionLayer object at 0x000002E305676B08>>: AssertionError: Bad argument number for Name: 3, expecting 4\n",
      "WARNING:tensorflow:Entity <bound method AttentionLayer.call of <bert.attention.AttentionLayer object at 0x000002E307FE82C8>> could not be transformed and will be executed as-is. Please report this to the AutgoGraph team. When filing the bug, set the verbosity to 10 (on Linux, `export AUTOGRAPH_VERBOSITY=10`) and attach the full output. Cause: converting <bound method AttentionLayer.call of <bert.attention.AttentionLayer object at 0x000002E307FE82C8>>: AttributeError: module 'gast' has no attribute 'Num'\n"
     ]
    },
    {
     "name": "stdout",
     "output_type": "stream",
     "text": [
      "WARNING: Entity <bound method AttentionLayer.call of <bert.attention.AttentionLayer object at 0x000002E307FE82C8>> could not be transformed and will be executed as-is. Please report this to the AutgoGraph team. When filing the bug, set the verbosity to 10 (on Linux, `export AUTOGRAPH_VERBOSITY=10`) and attach the full output. Cause: converting <bound method AttentionLayer.call of <bert.attention.AttentionLayer object at 0x000002E307FE82C8>>: AttributeError: module 'gast' has no attribute 'Num'\n",
      "WARNING:tensorflow:Entity <bound method ProjectionLayer.call of <bert.transformer.ProjectionLayer object at 0x000002E30670D448>> could not be transformed and will be executed as-is. Please report this to the AutgoGraph team. When filing the bug, set the verbosity to 10 (on Linux, `export AUTOGRAPH_VERBOSITY=10`) and attach the full output. Cause: converting <bound method ProjectionLayer.call of <bert.transformer.ProjectionLayer object at 0x000002E30670D448>>: AssertionError: Bad argument number for Name: 3, expecting 4\n",
      "WARNING: Entity <bound method ProjectionLayer.call of <bert.transformer.ProjectionLayer object at 0x000002E30670D448>> could not be transformed and will be executed as-is. Please report this to the AutgoGraph team. When filing the bug, set the verbosity to 10 (on Linux, `export AUTOGRAPH_VERBOSITY=10`) and attach the full output. Cause: converting <bound method ProjectionLayer.call of <bert.transformer.ProjectionLayer object at 0x000002E30670D448>>: AssertionError: Bad argument number for Name: 3, expecting 4\n",
      "WARNING:tensorflow:Entity <bound method LayerNormalization.call of <params_flow.normalization.LayerNormalization object at 0x000002E3081D8BC8>> could not be transformed and will be executed as-is. Please report this to the AutgoGraph team. When filing the bug, set the verbosity to 10 (on Linux, `export AUTOGRAPH_VERBOSITY=10`) and attach the full output. Cause: converting <bound method LayerNormalization.call of <params_flow.normalization.LayerNormalization object at 0x000002E3081D8BC8>>: AssertionError: Bad argument number for Name: 3, expecting 4\n",
      "WARNING: Entity <bound method LayerNormalization.call of <params_flow.normalization.LayerNormalization object at 0x000002E3081D8BC8>> could not be transformed and will be executed as-is. Please report this to the AutgoGraph team. When filing the bug, set the verbosity to 10 (on Linux, `export AUTOGRAPH_VERBOSITY=10`) and attach the full output. Cause: converting <bound method LayerNormalization.call of <params_flow.normalization.LayerNormalization object at 0x000002E3081D8BC8>>: AssertionError: Bad argument number for Name: 3, expecting 4\n",
      "WARNING:tensorflow:Entity <bound method ProjectionLayer.call of <bert.transformer.ProjectionLayer object at 0x000002E307C00888>> could not be transformed and will be executed as-is. Please report this to the AutgoGraph team. When filing the bug, set the verbosity to 10 (on Linux, `export AUTOGRAPH_VERBOSITY=10`) and attach the full output. Cause: converting <bound method ProjectionLayer.call of <bert.transformer.ProjectionLayer object at 0x000002E307C00888>>: AssertionError: Bad argument number for Name: 3, expecting 4\n",
      "WARNING: Entity <bound method ProjectionLayer.call of <bert.transformer.ProjectionLayer object at 0x000002E307C00888>> could not be transformed and will be executed as-is. Please report this to the AutgoGraph team. When filing the bug, set the verbosity to 10 (on Linux, `export AUTOGRAPH_VERBOSITY=10`) and attach the full output. Cause: converting <bound method ProjectionLayer.call of <bert.transformer.ProjectionLayer object at 0x000002E307C00888>>: AssertionError: Bad argument number for Name: 3, expecting 4\n",
      "WARNING:tensorflow:Entity <bound method LayerNormalization.call of <params_flow.normalization.LayerNormalization object at 0x000002E30809F888>> could not be transformed and will be executed as-is. Please report this to the AutgoGraph team. When filing the bug, set the verbosity to 10 (on Linux, `export AUTOGRAPH_VERBOSITY=10`) and attach the full output. Cause: converting <bound method LayerNormalization.call of <params_flow.normalization.LayerNormalization object at 0x000002E30809F888>>: AssertionError: Bad argument number for Name: 3, expecting 4\n",
      "WARNING: Entity <bound method LayerNormalization.call of <params_flow.normalization.LayerNormalization object at 0x000002E30809F888>> could not be transformed and will be executed as-is. Please report this to the AutgoGraph team. When filing the bug, set the verbosity to 10 (on Linux, `export AUTOGRAPH_VERBOSITY=10`) and attach the full output. Cause: converting <bound method LayerNormalization.call of <params_flow.normalization.LayerNormalization object at 0x000002E30809F888>>: AssertionError: Bad argument number for Name: 3, expecting 4\n",
      "WARNING:tensorflow:Entity <bound method SingleTransformerEncoderLayer.call of <bert.transformer.SingleTransformerEncoderLayer object at 0x000002E3046621C8>> could not be transformed and will be executed as-is. Please report this to the AutgoGraph team. When filing the bug, set the verbosity to 10 (on Linux, `export AUTOGRAPH_VERBOSITY=10`) and attach the full output. Cause: converting <bound method SingleTransformerEncoderLayer.call of <bert.transformer.SingleTransformerEncoderLayer object at 0x000002E3046621C8>>: AssertionError: Bad argument number for Name: 3, expecting 4\n",
      "WARNING: Entity <bound method SingleTransformerEncoderLayer.call of <bert.transformer.SingleTransformerEncoderLayer object at 0x000002E3046621C8>> could not be transformed and will be executed as-is. Please report this to the AutgoGraph team. When filing the bug, set the verbosity to 10 (on Linux, `export AUTOGRAPH_VERBOSITY=10`) and attach the full output. Cause: converting <bound method SingleTransformerEncoderLayer.call of <bert.transformer.SingleTransformerEncoderLayer object at 0x000002E3046621C8>>: AssertionError: Bad argument number for Name: 3, expecting 4\n",
      "WARNING:tensorflow:Entity <bound method TransformerSelfAttentionLayer.call of <bert.transformer.TransformerSelfAttentionLayer object at 0x000002E30673F588>> could not be transformed and will be executed as-is. Please report this to the AutgoGraph team. When filing the bug, set the verbosity to 10 (on Linux, `export AUTOGRAPH_VERBOSITY=10`) and attach the full output. Cause: converting <bound method TransformerSelfAttentionLayer.call of <bert.transformer.TransformerSelfAttentionLayer object at 0x000002E30673F588>>: AssertionError: Bad argument number for Name: 3, expecting 4\n",
      "WARNING: Entity <bound method TransformerSelfAttentionLayer.call of <bert.transformer.TransformerSelfAttentionLayer object at 0x000002E30673F588>> could not be transformed and will be executed as-is. Please report this to the AutgoGraph team. When filing the bug, set the verbosity to 10 (on Linux, `export AUTOGRAPH_VERBOSITY=10`) and attach the full output. Cause: converting <bound method TransformerSelfAttentionLayer.call of <bert.transformer.TransformerSelfAttentionLayer object at 0x000002E30673F588>>: AssertionError: Bad argument number for Name: 3, expecting 4\n",
      "WARNING:tensorflow:Entity <bound method AttentionLayer.call of <bert.attention.AttentionLayer object at 0x000002E308009788>> could not be transformed and will be executed as-is. Please report this to the AutgoGraph team. When filing the bug, set the verbosity to 10 (on Linux, `export AUTOGRAPH_VERBOSITY=10`) and attach the full output. Cause: converting <bound method AttentionLayer.call of <bert.attention.AttentionLayer object at 0x000002E308009788>>: AttributeError: module 'gast' has no attribute 'Num'\n",
      "WARNING: Entity <bound method AttentionLayer.call of <bert.attention.AttentionLayer object at 0x000002E308009788>> could not be transformed and will be executed as-is. Please report this to the AutgoGraph team. When filing the bug, set the verbosity to 10 (on Linux, `export AUTOGRAPH_VERBOSITY=10`) and attach the full output. Cause: converting <bound method AttentionLayer.call of <bert.attention.AttentionLayer object at 0x000002E308009788>>: AttributeError: module 'gast' has no attribute 'Num'\n",
      "WARNING:tensorflow:Entity <bound method ProjectionLayer.call of <bert.transformer.ProjectionLayer object at 0x000002E30852B248>> could not be transformed and will be executed as-is. Please report this to the AutgoGraph team. When filing the bug, set the verbosity to 10 (on Linux, `export AUTOGRAPH_VERBOSITY=10`) and attach the full output. Cause: converting <bound method ProjectionLayer.call of <bert.transformer.ProjectionLayer object at 0x000002E30852B248>>: AssertionError: Bad argument number for Name: 3, expecting 4\n"
     ]
    },
    {
     "name": "stdout",
     "output_type": "stream",
     "text": [
      "WARNING: Entity <bound method ProjectionLayer.call of <bert.transformer.ProjectionLayer object at 0x000002E30852B248>> could not be transformed and will be executed as-is. Please report this to the AutgoGraph team. When filing the bug, set the verbosity to 10 (on Linux, `export AUTOGRAPH_VERBOSITY=10`) and attach the full output. Cause: converting <bound method ProjectionLayer.call of <bert.transformer.ProjectionLayer object at 0x000002E30852B248>>: AssertionError: Bad argument number for Name: 3, expecting 4\n",
      "WARNING:tensorflow:Entity <bound method LayerNormalization.call of <params_flow.normalization.LayerNormalization object at 0x000002E3086C1148>> could not be transformed and will be executed as-is. Please report this to the AutgoGraph team. When filing the bug, set the verbosity to 10 (on Linux, `export AUTOGRAPH_VERBOSITY=10`) and attach the full output. Cause: converting <bound method LayerNormalization.call of <params_flow.normalization.LayerNormalization object at 0x000002E3086C1148>>: AssertionError: Bad argument number for Name: 3, expecting 4\n",
      "WARNING: Entity <bound method LayerNormalization.call of <params_flow.normalization.LayerNormalization object at 0x000002E3086C1148>> could not be transformed and will be executed as-is. Please report this to the AutgoGraph team. When filing the bug, set the verbosity to 10 (on Linux, `export AUTOGRAPH_VERBOSITY=10`) and attach the full output. Cause: converting <bound method LayerNormalization.call of <params_flow.normalization.LayerNormalization object at 0x000002E3086C1148>>: AssertionError: Bad argument number for Name: 3, expecting 4\n",
      "WARNING:tensorflow:Entity <bound method ProjectionLayer.call of <bert.transformer.ProjectionLayer object at 0x000002E307C25A88>> could not be transformed and will be executed as-is. Please report this to the AutgoGraph team. When filing the bug, set the verbosity to 10 (on Linux, `export AUTOGRAPH_VERBOSITY=10`) and attach the full output. Cause: converting <bound method ProjectionLayer.call of <bert.transformer.ProjectionLayer object at 0x000002E307C25A88>>: AssertionError: Bad argument number for Name: 3, expecting 4\n",
      "WARNING: Entity <bound method ProjectionLayer.call of <bert.transformer.ProjectionLayer object at 0x000002E307C25A88>> could not be transformed and will be executed as-is. Please report this to the AutgoGraph team. When filing the bug, set the verbosity to 10 (on Linux, `export AUTOGRAPH_VERBOSITY=10`) and attach the full output. Cause: converting <bound method ProjectionLayer.call of <bert.transformer.ProjectionLayer object at 0x000002E307C25A88>>: AssertionError: Bad argument number for Name: 3, expecting 4\n",
      "WARNING:tensorflow:Entity <bound method LayerNormalization.call of <params_flow.normalization.LayerNormalization object at 0x000002E3085DAA88>> could not be transformed and will be executed as-is. Please report this to the AutgoGraph team. When filing the bug, set the verbosity to 10 (on Linux, `export AUTOGRAPH_VERBOSITY=10`) and attach the full output. Cause: converting <bound method LayerNormalization.call of <params_flow.normalization.LayerNormalization object at 0x000002E3085DAA88>>: AssertionError: Bad argument number for Name: 3, expecting 4\n",
      "WARNING: Entity <bound method LayerNormalization.call of <params_flow.normalization.LayerNormalization object at 0x000002E3085DAA88>> could not be transformed and will be executed as-is. Please report this to the AutgoGraph team. When filing the bug, set the verbosity to 10 (on Linux, `export AUTOGRAPH_VERBOSITY=10`) and attach the full output. Cause: converting <bound method LayerNormalization.call of <params_flow.normalization.LayerNormalization object at 0x000002E3085DAA88>>: AssertionError: Bad argument number for Name: 3, expecting 4\n",
      "WARNING:tensorflow:Entity <bound method SingleTransformerEncoderLayer.call of <bert.transformer.SingleTransformerEncoderLayer object at 0x000002E304662CC8>> could not be transformed and will be executed as-is. Please report this to the AutgoGraph team. When filing the bug, set the verbosity to 10 (on Linux, `export AUTOGRAPH_VERBOSITY=10`) and attach the full output. Cause: converting <bound method SingleTransformerEncoderLayer.call of <bert.transformer.SingleTransformerEncoderLayer object at 0x000002E304662CC8>>: AssertionError: Bad argument number for Name: 3, expecting 4\n",
      "WARNING: Entity <bound method SingleTransformerEncoderLayer.call of <bert.transformer.SingleTransformerEncoderLayer object at 0x000002E304662CC8>> could not be transformed and will be executed as-is. Please report this to the AutgoGraph team. When filing the bug, set the verbosity to 10 (on Linux, `export AUTOGRAPH_VERBOSITY=10`) and attach the full output. Cause: converting <bound method SingleTransformerEncoderLayer.call of <bert.transformer.SingleTransformerEncoderLayer object at 0x000002E304662CC8>>: AssertionError: Bad argument number for Name: 3, expecting 4\n",
      "WARNING:tensorflow:Entity <bound method TransformerSelfAttentionLayer.call of <bert.transformer.TransformerSelfAttentionLayer object at 0x000002E30670DA88>> could not be transformed and will be executed as-is. Please report this to the AutgoGraph team. When filing the bug, set the verbosity to 10 (on Linux, `export AUTOGRAPH_VERBOSITY=10`) and attach the full output. Cause: converting <bound method TransformerSelfAttentionLayer.call of <bert.transformer.TransformerSelfAttentionLayer object at 0x000002E30670DA88>>: AssertionError: Bad argument number for Name: 3, expecting 4\n",
      "WARNING: Entity <bound method TransformerSelfAttentionLayer.call of <bert.transformer.TransformerSelfAttentionLayer object at 0x000002E30670DA88>> could not be transformed and will be executed as-is. Please report this to the AutgoGraph team. When filing the bug, set the verbosity to 10 (on Linux, `export AUTOGRAPH_VERBOSITY=10`) and attach the full output. Cause: converting <bound method TransformerSelfAttentionLayer.call of <bert.transformer.TransformerSelfAttentionLayer object at 0x000002E30670DA88>>: AssertionError: Bad argument number for Name: 3, expecting 4\n",
      "WARNING:tensorflow:Entity <bound method AttentionLayer.call of <bert.attention.AttentionLayer object at 0x000002E30852B548>> could not be transformed and will be executed as-is. Please report this to the AutgoGraph team. When filing the bug, set the verbosity to 10 (on Linux, `export AUTOGRAPH_VERBOSITY=10`) and attach the full output. Cause: converting <bound method AttentionLayer.call of <bert.attention.AttentionLayer object at 0x000002E30852B548>>: AttributeError: module 'gast' has no attribute 'Num'\n",
      "WARNING: Entity <bound method AttentionLayer.call of <bert.attention.AttentionLayer object at 0x000002E30852B548>> could not be transformed and will be executed as-is. Please report this to the AutgoGraph team. When filing the bug, set the verbosity to 10 (on Linux, `export AUTOGRAPH_VERBOSITY=10`) and attach the full output. Cause: converting <bound method AttentionLayer.call of <bert.attention.AttentionLayer object at 0x000002E30852B548>>: AttributeError: module 'gast' has no attribute 'Num'\n",
      "WARNING:tensorflow:Entity <bound method ProjectionLayer.call of <bert.transformer.ProjectionLayer object at 0x000002E308B1CB08>> could not be transformed and will be executed as-is. Please report this to the AutgoGraph team. When filing the bug, set the verbosity to 10 (on Linux, `export AUTOGRAPH_VERBOSITY=10`) and attach the full output. Cause: converting <bound method ProjectionLayer.call of <bert.transformer.ProjectionLayer object at 0x000002E308B1CB08>>: AssertionError: Bad argument number for Name: 3, expecting 4\n",
      "WARNING: Entity <bound method ProjectionLayer.call of <bert.transformer.ProjectionLayer object at 0x000002E308B1CB08>> could not be transformed and will be executed as-is. Please report this to the AutgoGraph team. When filing the bug, set the verbosity to 10 (on Linux, `export AUTOGRAPH_VERBOSITY=10`) and attach the full output. Cause: converting <bound method ProjectionLayer.call of <bert.transformer.ProjectionLayer object at 0x000002E308B1CB08>>: AssertionError: Bad argument number for Name: 3, expecting 4\n",
      "WARNING:tensorflow:Entity <bound method LayerNormalization.call of <params_flow.normalization.LayerNormalization object at 0x000002E308A7FD48>> could not be transformed and will be executed as-is. Please report this to the AutgoGraph team. When filing the bug, set the verbosity to 10 (on Linux, `export AUTOGRAPH_VERBOSITY=10`) and attach the full output. Cause: converting <bound method LayerNormalization.call of <params_flow.normalization.LayerNormalization object at 0x000002E308A7FD48>>: AssertionError: Bad argument number for Name: 3, expecting 4\n"
     ]
    },
    {
     "name": "stdout",
     "output_type": "stream",
     "text": [
      "WARNING: Entity <bound method LayerNormalization.call of <params_flow.normalization.LayerNormalization object at 0x000002E308A7FD48>> could not be transformed and will be executed as-is. Please report this to the AutgoGraph team. When filing the bug, set the verbosity to 10 (on Linux, `export AUTOGRAPH_VERBOSITY=10`) and attach the full output. Cause: converting <bound method LayerNormalization.call of <params_flow.normalization.LayerNormalization object at 0x000002E308A7FD48>>: AssertionError: Bad argument number for Name: 3, expecting 4\n",
      "WARNING:tensorflow:Entity <bound method ProjectionLayer.call of <bert.transformer.ProjectionLayer object at 0x000002E308189708>> could not be transformed and will be executed as-is. Please report this to the AutgoGraph team. When filing the bug, set the verbosity to 10 (on Linux, `export AUTOGRAPH_VERBOSITY=10`) and attach the full output. Cause: converting <bound method ProjectionLayer.call of <bert.transformer.ProjectionLayer object at 0x000002E308189708>>: AssertionError: Bad argument number for Name: 3, expecting 4\n",
      "WARNING: Entity <bound method ProjectionLayer.call of <bert.transformer.ProjectionLayer object at 0x000002E308189708>> could not be transformed and will be executed as-is. Please report this to the AutgoGraph team. When filing the bug, set the verbosity to 10 (on Linux, `export AUTOGRAPH_VERBOSITY=10`) and attach the full output. Cause: converting <bound method ProjectionLayer.call of <bert.transformer.ProjectionLayer object at 0x000002E308189708>>: AssertionError: Bad argument number for Name: 3, expecting 4\n",
      "WARNING:tensorflow:Entity <bound method LayerNormalization.call of <params_flow.normalization.LayerNormalization object at 0x000002E308C24448>> could not be transformed and will be executed as-is. Please report this to the AutgoGraph team. When filing the bug, set the verbosity to 10 (on Linux, `export AUTOGRAPH_VERBOSITY=10`) and attach the full output. Cause: converting <bound method LayerNormalization.call of <params_flow.normalization.LayerNormalization object at 0x000002E308C24448>>: AssertionError: Bad argument number for Name: 3, expecting 4\n",
      "WARNING: Entity <bound method LayerNormalization.call of <params_flow.normalization.LayerNormalization object at 0x000002E308C24448>> could not be transformed and will be executed as-is. Please report this to the AutgoGraph team. When filing the bug, set the verbosity to 10 (on Linux, `export AUTOGRAPH_VERBOSITY=10`) and attach the full output. Cause: converting <bound method LayerNormalization.call of <params_flow.normalization.LayerNormalization object at 0x000002E308C24448>>: AssertionError: Bad argument number for Name: 3, expecting 4\n",
      "WARNING:tensorflow:Entity <bound method SingleTransformerEncoderLayer.call of <bert.transformer.SingleTransformerEncoderLayer object at 0x000002E3046623C8>> could not be transformed and will be executed as-is. Please report this to the AutgoGraph team. When filing the bug, set the verbosity to 10 (on Linux, `export AUTOGRAPH_VERBOSITY=10`) and attach the full output. Cause: converting <bound method SingleTransformerEncoderLayer.call of <bert.transformer.SingleTransformerEncoderLayer object at 0x000002E3046623C8>>: AssertionError: Bad argument number for Name: 3, expecting 4\n",
      "WARNING: Entity <bound method SingleTransformerEncoderLayer.call of <bert.transformer.SingleTransformerEncoderLayer object at 0x000002E3046623C8>> could not be transformed and will be executed as-is. Please report this to the AutgoGraph team. When filing the bug, set the verbosity to 10 (on Linux, `export AUTOGRAPH_VERBOSITY=10`) and attach the full output. Cause: converting <bound method SingleTransformerEncoderLayer.call of <bert.transformer.SingleTransformerEncoderLayer object at 0x000002E3046623C8>>: AssertionError: Bad argument number for Name: 3, expecting 4\n",
      "WARNING:tensorflow:Entity <bound method TransformerSelfAttentionLayer.call of <bert.transformer.TransformerSelfAttentionLayer object at 0x000002E308B25308>> could not be transformed and will be executed as-is. Please report this to the AutgoGraph team. When filing the bug, set the verbosity to 10 (on Linux, `export AUTOGRAPH_VERBOSITY=10`) and attach the full output. Cause: converting <bound method TransformerSelfAttentionLayer.call of <bert.transformer.TransformerSelfAttentionLayer object at 0x000002E308B25308>>: AssertionError: Bad argument number for Name: 3, expecting 4\n",
      "WARNING: Entity <bound method TransformerSelfAttentionLayer.call of <bert.transformer.TransformerSelfAttentionLayer object at 0x000002E308B25308>> could not be transformed and will be executed as-is. Please report this to the AutgoGraph team. When filing the bug, set the verbosity to 10 (on Linux, `export AUTOGRAPH_VERBOSITY=10`) and attach the full output. Cause: converting <bound method TransformerSelfAttentionLayer.call of <bert.transformer.TransformerSelfAttentionLayer object at 0x000002E308B25308>>: AssertionError: Bad argument number for Name: 3, expecting 4\n",
      "WARNING:tensorflow:Entity <bound method AttentionLayer.call of <bert.attention.AttentionLayer object at 0x000002E308B1C248>> could not be transformed and will be executed as-is. Please report this to the AutgoGraph team. When filing the bug, set the verbosity to 10 (on Linux, `export AUTOGRAPH_VERBOSITY=10`) and attach the full output. Cause: converting <bound method AttentionLayer.call of <bert.attention.AttentionLayer object at 0x000002E308B1C248>>: AttributeError: module 'gast' has no attribute 'Num'\n",
      "WARNING: Entity <bound method AttentionLayer.call of <bert.attention.AttentionLayer object at 0x000002E308B1C248>> could not be transformed and will be executed as-is. Please report this to the AutgoGraph team. When filing the bug, set the verbosity to 10 (on Linux, `export AUTOGRAPH_VERBOSITY=10`) and attach the full output. Cause: converting <bound method AttentionLayer.call of <bert.attention.AttentionLayer object at 0x000002E308B1C248>>: AttributeError: module 'gast' has no attribute 'Num'\n",
      "WARNING:tensorflow:Entity <bound method ProjectionLayer.call of <bert.transformer.ProjectionLayer object at 0x000002E308FC6A88>> could not be transformed and will be executed as-is. Please report this to the AutgoGraph team. When filing the bug, set the verbosity to 10 (on Linux, `export AUTOGRAPH_VERBOSITY=10`) and attach the full output. Cause: converting <bound method ProjectionLayer.call of <bert.transformer.ProjectionLayer object at 0x000002E308FC6A88>>: AssertionError: Bad argument number for Name: 3, expecting 4\n",
      "WARNING: Entity <bound method ProjectionLayer.call of <bert.transformer.ProjectionLayer object at 0x000002E308FC6A88>> could not be transformed and will be executed as-is. Please report this to the AutgoGraph team. When filing the bug, set the verbosity to 10 (on Linux, `export AUTOGRAPH_VERBOSITY=10`) and attach the full output. Cause: converting <bound method ProjectionLayer.call of <bert.transformer.ProjectionLayer object at 0x000002E308FC6A88>>: AssertionError: Bad argument number for Name: 3, expecting 4\n",
      "WARNING:tensorflow:Entity <bound method LayerNormalization.call of <params_flow.normalization.LayerNormalization object at 0x000002E30918DD48>> could not be transformed and will be executed as-is. Please report this to the AutgoGraph team. When filing the bug, set the verbosity to 10 (on Linux, `export AUTOGRAPH_VERBOSITY=10`) and attach the full output. Cause: converting <bound method LayerNormalization.call of <params_flow.normalization.LayerNormalization object at 0x000002E30918DD48>>: AssertionError: Bad argument number for Name: 3, expecting 4\n",
      "WARNING: Entity <bound method LayerNormalization.call of <params_flow.normalization.LayerNormalization object at 0x000002E30918DD48>> could not be transformed and will be executed as-is. Please report this to the AutgoGraph team. When filing the bug, set the verbosity to 10 (on Linux, `export AUTOGRAPH_VERBOSITY=10`) and attach the full output. Cause: converting <bound method LayerNormalization.call of <params_flow.normalization.LayerNormalization object at 0x000002E30918DD48>>: AssertionError: Bad argument number for Name: 3, expecting 4\n",
      "WARNING:tensorflow:Entity <bound method ProjectionLayer.call of <bert.transformer.ProjectionLayer object at 0x000002E3085E2A08>> could not be transformed and will be executed as-is. Please report this to the AutgoGraph team. When filing the bug, set the verbosity to 10 (on Linux, `export AUTOGRAPH_VERBOSITY=10`) and attach the full output. Cause: converting <bound method ProjectionLayer.call of <bert.transformer.ProjectionLayer object at 0x000002E3085E2A08>>: AssertionError: Bad argument number for Name: 3, expecting 4\n"
     ]
    },
    {
     "name": "stdout",
     "output_type": "stream",
     "text": [
      "WARNING: Entity <bound method ProjectionLayer.call of <bert.transformer.ProjectionLayer object at 0x000002E3085E2A08>> could not be transformed and will be executed as-is. Please report this to the AutgoGraph team. When filing the bug, set the verbosity to 10 (on Linux, `export AUTOGRAPH_VERBOSITY=10`) and attach the full output. Cause: converting <bound method ProjectionLayer.call of <bert.transformer.ProjectionLayer object at 0x000002E3085E2A08>>: AssertionError: Bad argument number for Name: 3, expecting 4\n",
      "WARNING:tensorflow:Entity <bound method LayerNormalization.call of <params_flow.normalization.LayerNormalization object at 0x000002E3094EF308>> could not be transformed and will be executed as-is. Please report this to the AutgoGraph team. When filing the bug, set the verbosity to 10 (on Linux, `export AUTOGRAPH_VERBOSITY=10`) and attach the full output. Cause: converting <bound method LayerNormalization.call of <params_flow.normalization.LayerNormalization object at 0x000002E3094EF308>>: AssertionError: Bad argument number for Name: 3, expecting 4\n",
      "WARNING: Entity <bound method LayerNormalization.call of <params_flow.normalization.LayerNormalization object at 0x000002E3094EF308>> could not be transformed and will be executed as-is. Please report this to the AutgoGraph team. When filing the bug, set the verbosity to 10 (on Linux, `export AUTOGRAPH_VERBOSITY=10`) and attach the full output. Cause: converting <bound method LayerNormalization.call of <params_flow.normalization.LayerNormalization object at 0x000002E3094EF308>>: AssertionError: Bad argument number for Name: 3, expecting 4\n",
      "WARNING:tensorflow:From C:\\Users\\Dan Ofer\\Anaconda3\\lib\\site-packages\\tensorflow\\python\\ops\\init_ops.py:1251: calling VarianceScaling.__init__ (from tensorflow.python.ops.init_ops) with dtype is deprecated and will be removed in a future version.\n",
      "Instructions for updating:\n",
      "Call initializer instance with the dtype argument instead of passing it to the constructor\n"
     ]
    }
   ],
   "source": [
    "l_input_ids = keras.layers.Input(shape=(max_seq_len,), dtype='int32')\n",
    "bert_output = l_bert(l_input_ids) # output: [batch_size, max_seq_len, hidden_size]\n",
    "guessed_tokens = keras.layers.Dense(l_bert.params['vocab_size'])(bert_output)\n",
    "model = keras.Model(inputs=l_input_ids, outputs=guessed_tokens)\n",
    "model.build(input_shape=(None, max_seq_len))\n"
   ]
  },
  {
   "cell_type": "code",
   "execution_count": 24,
   "metadata": {},
   "outputs": [],
   "source": [
    "from  tensorflow.keras.optimizers import Adam\n",
    "adm = Adam(lr=0.02, amsgrad=True)\n",
    "model.compile(optimizer = adm, loss = 'sparse_categorical_crossentropy')"
   ]
  },
  {
   "cell_type": "code",
   "execution_count": null,
   "metadata": {},
   "outputs": [],
   "source": []
  },
  {
   "cell_type": "code",
   "execution_count": 35,
   "metadata": {},
   "outputs": [
    {
     "name": "stdout",
     "output_type": "stream",
     "text": [
      "Epoch 1/10\n"
     ]
    },
    {
     "ename": "InvalidArgumentError",
     "evalue": "2 root error(s) found.\n  (0) Invalid argument: logits and labels must have the same first dimension, got logits shape [830,16000] and labels shape [13280000]\n\t [[{{node loss/dense_loss/SparseSoftmaxCrossEntropyWithLogits/SparseSoftmaxCrossEntropyWithLogits}}]]\n\t [[loss/mul/_2479]]\n  (1) Invalid argument: logits and labels must have the same first dimension, got logits shape [830,16000] and labels shape [13280000]\n\t [[{{node loss/dense_loss/SparseSoftmaxCrossEntropyWithLogits/SparseSoftmaxCrossEntropyWithLogits}}]]\n0 successful operations.\n0 derived errors ignored.",
     "output_type": "error",
     "traceback": [
      "\u001b[1;31m---------------------------------------------------------------------------\u001b[0m",
      "\u001b[1;31mInvalidArgumentError\u001b[0m                      Traceback (most recent call last)",
      "\u001b[1;32m<ipython-input-35-7a01c61b7e20>\u001b[0m in \u001b[0;36m<module>\u001b[1;34m\u001b[0m\n\u001b[1;32m----> 1\u001b[1;33m \u001b[0mmodel\u001b[0m\u001b[1;33m.\u001b[0m\u001b[0mfit\u001b[0m\u001b[1;33m(\u001b[0m\u001b[0mmasked_data\u001b[0m\u001b[1;33m,\u001b[0m \u001b[0mdata_tokens_1he\u001b[0m\u001b[1;33m,\u001b[0m \u001b[0mbatch_size\u001b[0m \u001b[1;33m=\u001b[0m \u001b[0mbsz\u001b[0m\u001b[1;33m,\u001b[0m \u001b[0mepochs\u001b[0m \u001b[1;33m=\u001b[0m \u001b[0mnb_epochs\u001b[0m\u001b[1;33m)\u001b[0m\u001b[1;33m\u001b[0m\u001b[1;33m\u001b[0m\u001b[0m\n\u001b[0m",
      "\u001b[1;32m~\\Anaconda3\\lib\\site-packages\\tensorflow\\python\\keras\\engine\\training.py\u001b[0m in \u001b[0;36mfit\u001b[1;34m(self, x, y, batch_size, epochs, verbose, callbacks, validation_split, validation_data, shuffle, class_weight, sample_weight, initial_epoch, steps_per_epoch, validation_steps, validation_freq, max_queue_size, workers, use_multiprocessing, **kwargs)\u001b[0m\n\u001b[0;32m    778\u001b[0m           \u001b[0mvalidation_steps\u001b[0m\u001b[1;33m=\u001b[0m\u001b[0mvalidation_steps\u001b[0m\u001b[1;33m,\u001b[0m\u001b[1;33m\u001b[0m\u001b[1;33m\u001b[0m\u001b[0m\n\u001b[0;32m    779\u001b[0m           \u001b[0mvalidation_freq\u001b[0m\u001b[1;33m=\u001b[0m\u001b[0mvalidation_freq\u001b[0m\u001b[1;33m,\u001b[0m\u001b[1;33m\u001b[0m\u001b[1;33m\u001b[0m\u001b[0m\n\u001b[1;32m--> 780\u001b[1;33m           steps_name='steps_per_epoch')\n\u001b[0m\u001b[0;32m    781\u001b[0m \u001b[1;33m\u001b[0m\u001b[0m\n\u001b[0;32m    782\u001b[0m   def evaluate(self,\n",
      "\u001b[1;32m~\\Anaconda3\\lib\\site-packages\\tensorflow\\python\\keras\\engine\\training_arrays.py\u001b[0m in \u001b[0;36mmodel_iteration\u001b[1;34m(model, inputs, targets, sample_weights, batch_size, epochs, verbose, callbacks, val_inputs, val_targets, val_sample_weights, shuffle, initial_epoch, steps_per_epoch, validation_steps, validation_freq, mode, validation_in_fit, prepared_feed_values_from_dataset, steps_name, **kwargs)\u001b[0m\n\u001b[0;32m    361\u001b[0m \u001b[1;33m\u001b[0m\u001b[0m\n\u001b[0;32m    362\u001b[0m         \u001b[1;31m# Get outputs.\u001b[0m\u001b[1;33m\u001b[0m\u001b[1;33m\u001b[0m\u001b[1;33m\u001b[0m\u001b[0m\n\u001b[1;32m--> 363\u001b[1;33m         \u001b[0mbatch_outs\u001b[0m \u001b[1;33m=\u001b[0m \u001b[0mf\u001b[0m\u001b[1;33m(\u001b[0m\u001b[0mins_batch\u001b[0m\u001b[1;33m)\u001b[0m\u001b[1;33m\u001b[0m\u001b[1;33m\u001b[0m\u001b[0m\n\u001b[0m\u001b[0;32m    364\u001b[0m         \u001b[1;32mif\u001b[0m \u001b[1;32mnot\u001b[0m \u001b[0misinstance\u001b[0m\u001b[1;33m(\u001b[0m\u001b[0mbatch_outs\u001b[0m\u001b[1;33m,\u001b[0m \u001b[0mlist\u001b[0m\u001b[1;33m)\u001b[0m\u001b[1;33m:\u001b[0m\u001b[1;33m\u001b[0m\u001b[1;33m\u001b[0m\u001b[0m\n\u001b[0;32m    365\u001b[0m           \u001b[0mbatch_outs\u001b[0m \u001b[1;33m=\u001b[0m \u001b[1;33m[\u001b[0m\u001b[0mbatch_outs\u001b[0m\u001b[1;33m]\u001b[0m\u001b[1;33m\u001b[0m\u001b[1;33m\u001b[0m\u001b[0m\n",
      "\u001b[1;32m~\\Anaconda3\\lib\\site-packages\\tensorflow\\python\\keras\\backend.py\u001b[0m in \u001b[0;36m__call__\u001b[1;34m(self, inputs)\u001b[0m\n\u001b[0;32m   3290\u001b[0m \u001b[1;33m\u001b[0m\u001b[0m\n\u001b[0;32m   3291\u001b[0m     fetched = self._callable_fn(*array_vals,\n\u001b[1;32m-> 3292\u001b[1;33m                                 run_metadata=self.run_metadata)\n\u001b[0m\u001b[0;32m   3293\u001b[0m     \u001b[0mself\u001b[0m\u001b[1;33m.\u001b[0m\u001b[0m_call_fetch_callbacks\u001b[0m\u001b[1;33m(\u001b[0m\u001b[0mfetched\u001b[0m\u001b[1;33m[\u001b[0m\u001b[1;33m-\u001b[0m\u001b[0mlen\u001b[0m\u001b[1;33m(\u001b[0m\u001b[0mself\u001b[0m\u001b[1;33m.\u001b[0m\u001b[0m_fetches\u001b[0m\u001b[1;33m)\u001b[0m\u001b[1;33m:\u001b[0m\u001b[1;33m]\u001b[0m\u001b[1;33m)\u001b[0m\u001b[1;33m\u001b[0m\u001b[1;33m\u001b[0m\u001b[0m\n\u001b[0;32m   3294\u001b[0m     output_structure = nest.pack_sequence_as(\n",
      "\u001b[1;32m~\\Anaconda3\\lib\\site-packages\\tensorflow\\python\\client\\session.py\u001b[0m in \u001b[0;36m__call__\u001b[1;34m(self, *args, **kwargs)\u001b[0m\n\u001b[0;32m   1456\u001b[0m         ret = tf_session.TF_SessionRunCallable(self._session._session,\n\u001b[0;32m   1457\u001b[0m                                                \u001b[0mself\u001b[0m\u001b[1;33m.\u001b[0m\u001b[0m_handle\u001b[0m\u001b[1;33m,\u001b[0m \u001b[0margs\u001b[0m\u001b[1;33m,\u001b[0m\u001b[1;33m\u001b[0m\u001b[1;33m\u001b[0m\u001b[0m\n\u001b[1;32m-> 1458\u001b[1;33m                                                run_metadata_ptr)\n\u001b[0m\u001b[0;32m   1459\u001b[0m         \u001b[1;32mif\u001b[0m \u001b[0mrun_metadata\u001b[0m\u001b[1;33m:\u001b[0m\u001b[1;33m\u001b[0m\u001b[1;33m\u001b[0m\u001b[0m\n\u001b[0;32m   1460\u001b[0m           \u001b[0mproto_data\u001b[0m \u001b[1;33m=\u001b[0m \u001b[0mtf_session\u001b[0m\u001b[1;33m.\u001b[0m\u001b[0mTF_GetBuffer\u001b[0m\u001b[1;33m(\u001b[0m\u001b[0mrun_metadata_ptr\u001b[0m\u001b[1;33m)\u001b[0m\u001b[1;33m\u001b[0m\u001b[1;33m\u001b[0m\u001b[0m\n",
      "\u001b[1;31mInvalidArgumentError\u001b[0m: 2 root error(s) found.\n  (0) Invalid argument: logits and labels must have the same first dimension, got logits shape [830,16000] and labels shape [13280000]\n\t [[{{node loss/dense_loss/SparseSoftmaxCrossEntropyWithLogits/SparseSoftmaxCrossEntropyWithLogits}}]]\n\t [[loss/mul/_2479]]\n  (1) Invalid argument: logits and labels must have the same first dimension, got logits shape [830,16000] and labels shape [13280000]\n\t [[{{node loss/dense_loss/SparseSoftmaxCrossEntropyWithLogits/SparseSoftmaxCrossEntropyWithLogits}}]]\n0 successful operations.\n0 derived errors ignored."
     ]
    }
   ],
   "source": [
    "model.fit(masked_data, data_tokens_1he, batch_size = bsz, epochs = nb_epochs)"
   ]
  },
  {
   "cell_type": "code",
   "execution_count": null,
   "metadata": {},
   "outputs": [],
   "source": [
    "x = masked_data[0, :]\n",
    "y_true = data_tokens[0, :]\n",
    "y_pred = model.predict(x.reshape(1, -1)).argmax(axis = -1)[0, :]\n",
    "print('x:')\n",
    "print(x)\n",
    "print('y_true:')\n",
    "print(y_true)\n",
    "print('y_pred:')\n",
    "print(y_pred)"
   ]
  },
  {
   "cell_type": "code",
   "execution_count": null,
   "metadata": {},
   "outputs": [],
   "source": []
  }
 ],
 "metadata": {
  "kernelspec": {
   "display_name": "Python 3",
   "language": "python",
   "name": "python3"
  },
  "language_info": {
   "codemirror_mode": {
    "name": "ipython",
    "version": 3
   },
   "file_extension": ".py",
   "mimetype": "text/x-python",
   "name": "python",
   "nbconvert_exporter": "python",
   "pygments_lexer": "ipython3",
   "version": "3.7.5"
  }
 },
 "nbformat": 4,
 "nbformat_minor": 2
}
