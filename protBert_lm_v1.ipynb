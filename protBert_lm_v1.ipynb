{
 "cells": [
  {
   "cell_type": "markdown",
   "metadata": {},
   "source": [
    "## language model using a bert model\n",
    "* take 1\n",
    "\n",
    "* Try 1 : keras based [bert-for-tf2], https://github.com/kpe/bert-for-tf2 "
   ]
  },
  {
   "cell_type": "code",
   "execution_count": 2,
   "metadata": {},
   "outputs": [
    {
     "name": "stdout",
     "output_type": "stream",
     "text": [
      "Collecting sentencepiece\n",
      "  Downloading https://files.pythonhosted.org/packages/ce/16/17838ebf03ee21daa3b4da0ca5c344bd060bc2963a7567a071cd7008e996/sentencepiece-0.1.83-cp37-cp37m-win_amd64.whl (1.2MB)\n",
      "Installing collected packages: sentencepiece\n",
      "Successfully installed sentencepiece-0.1.83\n",
      "Collecting pytorch_transformers\n",
      "  Downloading https://files.pythonhosted.org/packages/a3/b7/d3d18008a67e0b968d1ab93ad444fc05699403fa662f634b2f2c318a508b/pytorch_transformers-1.2.0-py3-none-any.whl (176kB)\n",
      "Requirement already satisfied: sentencepiece in c:\\users\\dan ofer\\anaconda3\\lib\\site-packages (from pytorch_transformers) (0.1.83)\n",
      "Requirement already satisfied: tqdm in c:\\users\\dan ofer\\anaconda3\\lib\\site-packages (from pytorch_transformers) (4.40.0)\n",
      "Requirement already satisfied: requests in c:\\users\\dan ofer\\anaconda3\\lib\\site-packages (from pytorch_transformers) (2.22.0)\n",
      "Requirement already satisfied: boto3 in c:\\users\\dan ofer\\anaconda3\\lib\\site-packages (from pytorch_transformers) (1.9.224)\n",
      "Collecting regex\n",
      "  Downloading https://files.pythonhosted.org/packages/48/df/59b662e220472b680ccac13e78c9714d48f14a64814ecdc5000e87536893/regex-2019.12.9-cp37-none-win_amd64.whl (314kB)\n",
      "Requirement already satisfied: torch>=1.0.0 in c:\\users\\dan ofer\\anaconda3\\lib\\site-packages (from pytorch_transformers) (1.0.1)\n",
      "Collecting sacremoses\n",
      "  Downloading https://files.pythonhosted.org/packages/1f/8e/ed5364a06a9ba720fddd9820155cc57300d28f5f43a6fd7b7e817177e642/sacremoses-0.0.35.tar.gz (859kB)\n",
      "Requirement already satisfied: numpy in c:\\users\\dan ofer\\anaconda3\\lib\\site-packages (from pytorch_transformers) (1.17.4)\n",
      "Requirement already satisfied: certifi>=2017.4.17 in c:\\users\\dan ofer\\anaconda3\\lib\\site-packages (from requests->pytorch_transformers) (2019.11.28)\n",
      "Requirement already satisfied: chardet<3.1.0,>=3.0.2 in c:\\users\\dan ofer\\anaconda3\\lib\\site-packages (from requests->pytorch_transformers) (3.0.4)\n",
      "Requirement already satisfied: urllib3!=1.25.0,!=1.25.1,<1.26,>=1.21.1 in c:\\users\\dan ofer\\anaconda3\\lib\\site-packages (from requests->pytorch_transformers) (1.25.7)\n",
      "Requirement already satisfied: idna<2.9,>=2.5 in c:\\users\\dan ofer\\anaconda3\\lib\\site-packages (from requests->pytorch_transformers) (2.8)\n",
      "Requirement already satisfied: s3transfer<0.3.0,>=0.2.0 in c:\\users\\dan ofer\\anaconda3\\lib\\site-packages (from boto3->pytorch_transformers) (0.2.1)\n",
      "Requirement already satisfied: jmespath<1.0.0,>=0.7.1 in c:\\users\\dan ofer\\anaconda3\\lib\\site-packages (from boto3->pytorch_transformers) (0.9.4)\n",
      "Requirement already satisfied: botocore<1.13.0,>=1.12.224 in c:\\users\\dan ofer\\anaconda3\\lib\\site-packages (from boto3->pytorch_transformers) (1.12.224)\n",
      "Requirement already satisfied: six in c:\\users\\dan ofer\\anaconda3\\lib\\site-packages (from sacremoses->pytorch_transformers) (1.13.0)\n",
      "Requirement already satisfied: click in c:\\users\\dan ofer\\anaconda3\\lib\\site-packages (from sacremoses->pytorch_transformers) (7.0)\n",
      "Requirement already satisfied: joblib in c:\\users\\dan ofer\\anaconda3\\lib\\site-packages (from sacremoses->pytorch_transformers) (0.14.0)\n",
      "Requirement already satisfied: python-dateutil<3.0.0,>=2.1; python_version >= \"2.7\" in c:\\users\\dan ofer\\anaconda3\\lib\\site-packages (from botocore<1.13.0,>=1.12.224->boto3->pytorch_transformers) (2.8.1)\n",
      "Requirement already satisfied: docutils<0.16,>=0.10 in c:\\users\\dan ofer\\anaconda3\\lib\\site-packages (from botocore<1.13.0,>=1.12.224->boto3->pytorch_transformers) (0.15.2)\n",
      "Building wheels for collected packages: sacremoses\n",
      "  Building wheel for sacremoses (setup.py): started\n",
      "  Building wheel for sacremoses (setup.py): finished with status 'done'\n",
      "  Created wheel for sacremoses: filename=sacremoses-0.0.35-cp37-none-any.whl size=884004 sha256=649cc9b2ce307eb2f82f4ebe05e7fd115a57f9d5793cdc9fcecea4fb70dec4f5\n",
      "  Stored in directory: C:\\Users\\Dan Ofer\\AppData\\Local\\pip\\Cache\\wheels\\63\\2a\\db\\63e2909042c634ef551d0d9ac825b2b0b32dede4a6d87ddc94\n",
      "Successfully built sacremoses\n",
      "Installing collected packages: regex, sacremoses, pytorch-transformers\n",
      "Successfully installed pytorch-transformers-1.2.0 regex-2019.12.9 sacremoses-0.0.35\n"
     ]
    }
   ],
   "source": [
    "# !pip install sentencepiece\n",
    "# ! pip install pytorch_transformers"
   ]
  },
  {
   "cell_type": "code",
   "execution_count": 13,
   "metadata": {},
   "outputs": [],
   "source": [
    "import subprocess\n",
    "# import keras\n",
    "\n",
    "import sentencepiece as spm\n",
    "\n",
    "%matplotlib inline"
   ]
  },
  {
   "cell_type": "code",
   "execution_count": 14,
   "metadata": {},
   "outputs": [],
   "source": [
    "sequences_file = \"./data/sample_seqs.csv\""
   ]
  },
  {
   "cell_type": "code",
   "execution_count": 5,
   "metadata": {},
   "outputs": [
    {
     "name": "stdout",
     "output_type": "stream",
     "text": [
      "(1000000, 5)\n"
     ]
    },
    {
     "data": {
      "text/html": [
       "<div>\n",
       "<style scoped>\n",
       "    .dataframe tbody tr th:only-of-type {\n",
       "        vertical-align: middle;\n",
       "    }\n",
       "\n",
       "    .dataframe tbody tr th {\n",
       "        vertical-align: top;\n",
       "    }\n",
       "\n",
       "    .dataframe thead th {\n",
       "        text-align: right;\n",
       "    }\n",
       "</style>\n",
       "<table border=\"1\" class=\"dataframe\">\n",
       "  <thead>\n",
       "    <tr style=\"text-align: right;\">\n",
       "      <th></th>\n",
       "      <th>tax_id</th>\n",
       "      <th>uniprot_name</th>\n",
       "      <th>seq</th>\n",
       "      <th>n_complete_go_annotations</th>\n",
       "      <th>complete_go_annotation_indices</th>\n",
       "    </tr>\n",
       "  </thead>\n",
       "  <tbody>\n",
       "    <tr>\n",
       "      <th>0</th>\n",
       "      <td>1572043.0</td>\n",
       "      <td>A0A5A9P0L4_9TELE</td>\n",
       "      <td>MEEITQIKKRLSQTVRLEGKEDLLSKKDSITNLKTEEHVSVKKMVI...</td>\n",
       "      <td>0</td>\n",
       "      <td>[]</td>\n",
       "    </tr>\n",
       "    <tr>\n",
       "      <th>1</th>\n",
       "      <td>1930593.0</td>\n",
       "      <td>A0A410P257_9BACT</td>\n",
       "      <td>MKAIAWLIVLTFLPEQVAWAVDYNLRGALHGAVAPLVSAATVATDG...</td>\n",
       "      <td>0</td>\n",
       "      <td>[]</td>\n",
       "    </tr>\n",
       "    <tr>\n",
       "      <th>2</th>\n",
       "      <td>72004.0</td>\n",
       "      <td>A0A5A9Q4C1_9CETA</td>\n",
       "      <td>MSSQESPAVEFSTTTVSSVAVQAGDSKIVIAVIKCGKWIQLQLAES...</td>\n",
       "      <td>0</td>\n",
       "      <td>[]</td>\n",
       "    </tr>\n",
       "    <tr>\n",
       "      <th>3</th>\n",
       "      <td>375764.0</td>\n",
       "      <td>UPI0011814A49</td>\n",
       "      <td>MSTQAPSFTQPLQSVVALEGSAATFQAQVSGSPVPEVSWFRDGQVL...</td>\n",
       "      <td>0</td>\n",
       "      <td>[]</td>\n",
       "    </tr>\n",
       "    <tr>\n",
       "      <th>4</th>\n",
       "      <td>1415580.0</td>\n",
       "      <td>UPI001186A1A9</td>\n",
       "      <td>MTTEAPKFLQPLQSVVALEGSAATFEARISGFPVPEVSWFRDGQVL...</td>\n",
       "      <td>0</td>\n",
       "      <td>[]</td>\n",
       "    </tr>\n",
       "  </tbody>\n",
       "</table>\n",
       "</div>"
      ],
      "text/plain": [
       "      tax_id      uniprot_name  \\\n",
       "0  1572043.0  A0A5A9P0L4_9TELE   \n",
       "1  1930593.0  A0A410P257_9BACT   \n",
       "2    72004.0  A0A5A9Q4C1_9CETA   \n",
       "3   375764.0     UPI0011814A49   \n",
       "4  1415580.0     UPI001186A1A9   \n",
       "\n",
       "                                                 seq  \\\n",
       "0  MEEITQIKKRLSQTVRLEGKEDLLSKKDSITNLKTEEHVSVKKMVI...   \n",
       "1  MKAIAWLIVLTFLPEQVAWAVDYNLRGALHGAVAPLVSAATVATDG...   \n",
       "2  MSSQESPAVEFSTTTVSSVAVQAGDSKIVIAVIKCGKWIQLQLAES...   \n",
       "3  MSTQAPSFTQPLQSVVALEGSAATFQAQVSGSPVPEVSWFRDGQVL...   \n",
       "4  MTTEAPKFLQPLQSVVALEGSAATFEARISGFPVPEVSWFRDGQVL...   \n",
       "\n",
       "   n_complete_go_annotations complete_go_annotation_indices  \n",
       "0                          0                             []  \n",
       "1                          0                             []  \n",
       "2                          0                             []  \n",
       "3                          0                             []  \n",
       "4                          0                             []  "
      ]
     },
     "execution_count": 5,
     "metadata": {},
     "output_type": "execute_result"
    }
   ],
   "source": [
    "import pandas as pd\n",
    "\n",
    "proteins = pd.read_csv('data/proteins.csv.gz')\n",
    "proteins[\"seq_len\"] = proteins[\"seq\"].str.len()\n",
    "print(proteins.shape)\n",
    "proteins.head()"
   ]
  },
  {
   "cell_type": "code",
   "execution_count": 8,
   "metadata": {},
   "outputs": [
    {
     "data": {
      "text/html": [
       "<div>\n",
       "<style scoped>\n",
       "    .dataframe tbody tr th:only-of-type {\n",
       "        vertical-align: middle;\n",
       "    }\n",
       "\n",
       "    .dataframe tbody tr th {\n",
       "        vertical-align: top;\n",
       "    }\n",
       "\n",
       "    .dataframe thead th {\n",
       "        text-align: right;\n",
       "    }\n",
       "</style>\n",
       "<table border=\"1\" class=\"dataframe\">\n",
       "  <thead>\n",
       "    <tr style=\"text-align: right;\">\n",
       "      <th></th>\n",
       "      <th>tax_id</th>\n",
       "      <th>uniprot_name</th>\n",
       "      <th>seq</th>\n",
       "      <th>n_complete_go_annotations</th>\n",
       "      <th>complete_go_annotation_indices</th>\n",
       "      <th>seq_len</th>\n",
       "    </tr>\n",
       "  </thead>\n",
       "  <tbody>\n",
       "    <tr>\n",
       "      <th>0</th>\n",
       "      <td>1572043.0</td>\n",
       "      <td>A0A5A9P0L4_9TELE</td>\n",
       "      <td>MEEITQIKKRLSQTVRLEGKEDLLSKKDSITNLKTEEHVSVKKMVI...</td>\n",
       "      <td>0</td>\n",
       "      <td>[]</td>\n",
       "      <td>45354</td>\n",
       "    </tr>\n",
       "    <tr>\n",
       "      <th>1</th>\n",
       "      <td>1930593.0</td>\n",
       "      <td>A0A410P257_9BACT</td>\n",
       "      <td>MKAIAWLIVLTFLPEQVAWAVDYNLRGALHGAVAPLVSAATVATDG...</td>\n",
       "      <td>0</td>\n",
       "      <td>[]</td>\n",
       "      <td>39677</td>\n",
       "    </tr>\n",
       "    <tr>\n",
       "      <th>2</th>\n",
       "      <td>72004.0</td>\n",
       "      <td>A0A5A9Q4C1_9CETA</td>\n",
       "      <td>MSSQESPAVEFSTTTVSSVAVQAGDSKIVIAVIKCGKWIQLQLAES...</td>\n",
       "      <td>0</td>\n",
       "      <td>[]</td>\n",
       "      <td>38354</td>\n",
       "    </tr>\n",
       "    <tr>\n",
       "      <th>3</th>\n",
       "      <td>375764.0</td>\n",
       "      <td>UPI0011814A49</td>\n",
       "      <td>MSTQAPSFTQPLQSVVALEGSAATFQAQVSGSPVPEVSWFRDGQVL...</td>\n",
       "      <td>0</td>\n",
       "      <td>[]</td>\n",
       "      <td>38182</td>\n",
       "    </tr>\n",
       "    <tr>\n",
       "      <th>4</th>\n",
       "      <td>1415580.0</td>\n",
       "      <td>UPI001186A1A9</td>\n",
       "      <td>MTTEAPKFLQPLQSVVALEGSAATFEARISGFPVPEVSWFRDGQVL...</td>\n",
       "      <td>0</td>\n",
       "      <td>[]</td>\n",
       "      <td>38163</td>\n",
       "    </tr>\n",
       "  </tbody>\n",
       "</table>\n",
       "</div>"
      ],
      "text/plain": [
       "      tax_id      uniprot_name  \\\n",
       "0  1572043.0  A0A5A9P0L4_9TELE   \n",
       "1  1930593.0  A0A410P257_9BACT   \n",
       "2    72004.0  A0A5A9Q4C1_9CETA   \n",
       "3   375764.0     UPI0011814A49   \n",
       "4  1415580.0     UPI001186A1A9   \n",
       "\n",
       "                                                 seq  \\\n",
       "0  MEEITQIKKRLSQTVRLEGKEDLLSKKDSITNLKTEEHVSVKKMVI...   \n",
       "1  MKAIAWLIVLTFLPEQVAWAVDYNLRGALHGAVAPLVSAATVATDG...   \n",
       "2  MSSQESPAVEFSTTTVSSVAVQAGDSKIVIAVIKCGKWIQLQLAES...   \n",
       "3  MSTQAPSFTQPLQSVVALEGSAATFQAQVSGSPVPEVSWFRDGQVL...   \n",
       "4  MTTEAPKFLQPLQSVVALEGSAATFEARISGFPVPEVSWFRDGQVL...   \n",
       "\n",
       "   n_complete_go_annotations complete_go_annotation_indices  seq_len  \n",
       "0                          0                             []    45354  \n",
       "1                          0                             []    39677  \n",
       "2                          0                             []    38354  \n",
       "3                          0                             []    38182  \n",
       "4                          0                             []    38163  "
      ]
     },
     "execution_count": 8,
     "metadata": {},
     "output_type": "execute_result"
    }
   ],
   "source": [
    "proteins.head()"
   ]
  },
  {
   "cell_type": "code",
   "execution_count": 9,
   "metadata": {},
   "outputs": [
    {
     "data": {
      "text/html": [
       "<div>\n",
       "<style scoped>\n",
       "    .dataframe tbody tr th:only-of-type {\n",
       "        vertical-align: middle;\n",
       "    }\n",
       "\n",
       "    .dataframe tbody tr th {\n",
       "        vertical-align: top;\n",
       "    }\n",
       "\n",
       "    .dataframe thead th {\n",
       "        text-align: right;\n",
       "    }\n",
       "</style>\n",
       "<table border=\"1\" class=\"dataframe\">\n",
       "  <thead>\n",
       "    <tr style=\"text-align: right;\">\n",
       "      <th></th>\n",
       "      <th>tax_id</th>\n",
       "      <th>n_complete_go_annotations</th>\n",
       "      <th>seq_len</th>\n",
       "    </tr>\n",
       "  </thead>\n",
       "  <tbody>\n",
       "    <tr>\n",
       "      <th>count</th>\n",
       "      <td>9.999770e+05</td>\n",
       "      <td>1000000.000000</td>\n",
       "      <td>1000000.000000</td>\n",
       "    </tr>\n",
       "    <tr>\n",
       "      <th>mean</th>\n",
       "      <td>5.562390e+05</td>\n",
       "      <td>9.067817</td>\n",
       "      <td>2336.231343</td>\n",
       "    </tr>\n",
       "    <tr>\n",
       "      <th>std</th>\n",
       "      <td>7.443289e+05</td>\n",
       "      <td>17.448869</td>\n",
       "      <td>1427.527815</td>\n",
       "    </tr>\n",
       "    <tr>\n",
       "      <th>min</th>\n",
       "      <td>2.000000e+00</td>\n",
       "      <td>0.000000</td>\n",
       "      <td>11.000000</td>\n",
       "    </tr>\n",
       "    <tr>\n",
       "      <th>25%</th>\n",
       "      <td>1.014100e+04</td>\n",
       "      <td>0.000000</td>\n",
       "      <td>1687.000000</td>\n",
       "    </tr>\n",
       "    <tr>\n",
       "      <th>50%</th>\n",
       "      <td>1.258780e+05</td>\n",
       "      <td>0.000000</td>\n",
       "      <td>1958.000000</td>\n",
       "    </tr>\n",
       "    <tr>\n",
       "      <th>75%</th>\n",
       "      <td>1.037660e+06</td>\n",
       "      <td>12.000000</td>\n",
       "      <td>2486.000000</td>\n",
       "    </tr>\n",
       "    <tr>\n",
       "      <th>max</th>\n",
       "      <td>2.651628e+06</td>\n",
       "      <td>632.000000</td>\n",
       "      <td>45354.000000</td>\n",
       "    </tr>\n",
       "  </tbody>\n",
       "</table>\n",
       "</div>"
      ],
      "text/plain": [
       "             tax_id  n_complete_go_annotations         seq_len\n",
       "count  9.999770e+05             1000000.000000  1000000.000000\n",
       "mean   5.562390e+05                   9.067817     2336.231343\n",
       "std    7.443289e+05                  17.448869     1427.527815\n",
       "min    2.000000e+00                   0.000000       11.000000\n",
       "25%    1.014100e+04                   0.000000     1687.000000\n",
       "50%    1.258780e+05                   0.000000     1958.000000\n",
       "75%    1.037660e+06                  12.000000     2486.000000\n",
       "max    2.651628e+06                 632.000000    45354.000000"
      ]
     },
     "execution_count": 9,
     "metadata": {},
     "output_type": "execute_result"
    }
   ],
   "source": [
    "proteins.describe()"
   ]
  },
  {
   "cell_type": "code",
   "execution_count": 10,
   "metadata": {},
   "outputs": [
    {
     "data": {
      "text/plain": [
       "(928988, 6)"
      ]
     },
     "execution_count": 10,
     "metadata": {},
     "output_type": "execute_result"
    }
   ],
   "source": [
    "proteins.loc[proteins[\"seq_len\"]<4000].shape[0]"
   ]
  },
  {
   "cell_type": "markdown",
   "metadata": {},
   "source": [
    "### output sample of sequences for LM training\n",
    "* We run the sentence piece on this beforehand in the other notebok - sentencepiece \n",
    "* http://localhost:8888/notebooks/toyData_ProBERT.ipynb"
   ]
  },
  {
   "cell_type": "code",
   "execution_count": 12,
   "metadata": {},
   "outputs": [
    {
     "name": "stderr",
     "output_type": "stream",
     "text": [
      "C:\\Users\\Dan Ofer\\Anaconda3\\lib\\site-packages\\ipykernel_launcher.py:1: FutureWarning: The signature of `Series.to_csv` was aligned to that of `DataFrame.to_csv`, and argument 'header' will change its default value from False to True: please pass an explicit value to suppress this warning.\n",
      "  \"\"\"Entry point for launching an IPython kernel.\n"
     ]
    }
   ],
   "source": [
    "\n",
    "proteins.loc[proteins[\"seq_len\"]<5000].sample(n=30000)[\"seq\"].to_csv(\"./data/sample_seqs.csv\", index = False)"
   ]
  },
  {
   "cell_type": "code",
   "execution_count": null,
   "metadata": {},
   "outputs": [],
   "source": [
    "# # spm.SentencePieceTrainer.Train('--input=uniclust30_2016_1M_sampledSeq.fasta --model_prefix=m --vocab_size=1500')\n",
    "# spm.SentencePieceTrainer.Train('--input=%s --model_prefix=m --vocab_size=16000'%sequences_file)"
   ]
  },
  {
   "cell_type": "markdown",
   "metadata": {},
   "source": [
    "## tokenize using opreviuously trained sentence pioece"
   ]
  },
  {
   "cell_type": "code",
   "execution_count": 15,
   "metadata": {},
   "outputs": [
    {
     "data": {
      "text/plain": [
       "True"
      ]
     },
     "execution_count": 15,
     "metadata": {},
     "output_type": "execute_result"
    }
   ],
   "source": [
    "# makes segmenter instance and loads the model file (m.model)\n",
    "sp = spm.SentencePieceProcessor()\n",
    "sp.load('m.model')"
   ]
  },
  {
   "cell_type": "code",
   "execution_count": 16,
   "metadata": {},
   "outputs": [
    {
     "name": "stdout",
     "output_type": "stream",
     "text": [
      "['▁', 'MR', 'YTV', 'LIA', 'L', 'QGA', 'L', 'LLLLL', 'IDD', 'GQGQ', 'SPY', 'PYP', 'GMP', 'CNS', 'SRQ', 'CGL', 'GTC', 'VHS', 'RCA', 'HCS', 'SDGT', 'LCS', 'PED', 'PT', 'MV', 'WP', 'CCP', 'ES', 'SCQ', 'L', 'VVG', 'LPSL', 'VNH', 'YNC', 'LPN', 'QCT', 'DSS', 'QCP', 'GGFG', 'CM', 'TRR', 'SK', 'CELC', 'KAD', 'GEA', 'CNS', 'PYL', 'DWR', 'KDKE', 'CCS', 'GY', 'CH', 'TEA', 'RGLE', 'GVC', 'IDP', 'KKI', 'FCT', 'PKNP', 'WQ', 'LAP', 'YPP', 'SYH', 'QPT', 'TLR', 'PPTS', 'LYD', 'SWL', 'M', 'SGF', 'LVK', 'STTA', 'PST', 'QEEE', 'DDY']\n",
      "[0, 261, 3435, 2112, 3, 2866, 3, 7330, 1389, 9500, 3091, 4060, 5365, 6116, 2653, 5790, 5014, 3522, 6044, 6251, 7308, 3364, 1347, 165, 227, 606, 6383, 76, 5146, 3, 917, 8768, 6529, 11718, 2114, 8040, 498, 8400, 8666, 683, 2705, 70, 11787, 3365, 1052, 6116, 3694, 6163, 8661, 6444, 255, 503, 1356, 14930, 3704, 2768, 1160, 9902, 15766, 596, 1937, 6559, 6055, 2673, 989, 7826, 3396, 4156, 9, 2157, 1091, 7020, 618, 7252, 3213]\n"
     ]
    }
   ],
   "source": [
    "eg_seq = \"MRYTVLIALQGALLLLLLIDDGQGQSPYPYPGMPCNSSRQCGLGTCVHSRCAHCSSDGTLCSPEDPTMVWPCCPESSCQLVVGLPSLVNHYNCLPNQCTDSSQCPGGFGCMTRRSKCELCKADGEACNSPYLDWRKDKECCSGYCHTEARGLEGVCIDPKKIFCTPKNPWQLAPYPPSYHQPTTLRPPTSLYDSWLMSGFLVKSTTAPSTQEEEDDY\"\n",
    "print(sp.encode_as_pieces(eg_seq))\n",
    "print(sp.encode_as_ids(eg_seq))"
   ]
  },
  {
   "cell_type": "code",
   "execution_count": 26,
   "metadata": {},
   "outputs": [
    {
     "data": {
      "text/html": [
       "<div>\n",
       "<style scoped>\n",
       "    .dataframe tbody tr th:only-of-type {\n",
       "        vertical-align: middle;\n",
       "    }\n",
       "\n",
       "    .dataframe tbody tr th {\n",
       "        vertical-align: top;\n",
       "    }\n",
       "\n",
       "    .dataframe thead th {\n",
       "        text-align: right;\n",
       "    }\n",
       "</style>\n",
       "<table border=\"1\" class=\"dataframe\">\n",
       "  <thead>\n",
       "    <tr style=\"text-align: right;\">\n",
       "      <th></th>\n",
       "      <th>tax_id</th>\n",
       "      <th>uniprot_name</th>\n",
       "      <th>seq</th>\n",
       "      <th>n_complete_go_annotations</th>\n",
       "      <th>complete_go_annotation_indices</th>\n",
       "      <th>seq_len</th>\n",
       "      <th>seq_token_ids</th>\n",
       "      <th>seq_n_tokens</th>\n",
       "    </tr>\n",
       "  </thead>\n",
       "  <tbody>\n",
       "    <tr>\n",
       "      <th>613736</th>\n",
       "      <td>175836.0</td>\n",
       "      <td>A0A091GX50_BUCRH</td>\n",
       "      <td>STGREGEMKILGHCSSQVTSTLGEFELEGICRLQDQASPSDSEPRA...</td>\n",
       "      <td>0</td>\n",
       "      <td>[]</td>\n",
       "      <td>212</td>\n",
       "      <td>[0, 1237, 1820, 4968, 1841, 6251, 2208, 549, 3...</td>\n",
       "      <td>74</td>\n",
       "    </tr>\n",
       "    <tr>\n",
       "      <th>268740</th>\n",
       "      <td>1773.0</td>\n",
       "      <td>A0A4U5KFK5_MYCTX</td>\n",
       "      <td>YSLPAIPLGIDVGGAIGPLTTPPITIPAIPLGIDVSGSLGPINIPI...</td>\n",
       "      <td>0</td>\n",
       "      <td>[]</td>\n",
       "      <td>441</td>\n",
       "      <td>[0, 1927, 15625, 3, 1936, 8213, 4216, 3, 706, ...</td>\n",
       "      <td>142</td>\n",
       "    </tr>\n",
       "    <tr>\n",
       "      <th>878089</th>\n",
       "      <td>9669.0</td>\n",
       "      <td>M1EBI8_MUSPF</td>\n",
       "      <td>GYASSLVFLTYVISFIFRNRRKNSGIWSFFFFIITIFTIVATDINE...</td>\n",
       "      <td>0</td>\n",
       "      <td>[]</td>\n",
       "      <td>206</td>\n",
       "      <td>[0, 4180, 10368, 2131, 5140, 1791, 3925, 1702,...</td>\n",
       "      <td>72</td>\n",
       "    </tr>\n",
       "    <tr>\n",
       "      <th>395371</th>\n",
       "      <td>1165861.0</td>\n",
       "      <td>A0A0L0UHW2_9BASI</td>\n",
       "      <td>MDRASKKSEQFIIPEPDSPFPFNPIYHGLSGPAANSFPKYVPPQFK...</td>\n",
       "      <td>0</td>\n",
       "      <td>[]</td>\n",
       "      <td>137</td>\n",
       "      <td>[0, 3909, 2050, 1480, 4199, 2170, 7424, 4659, ...</td>\n",
       "      <td>45</td>\n",
       "    </tr>\n",
       "    <tr>\n",
       "      <th>820211</th>\n",
       "      <td>32507.0</td>\n",
       "      <td>A0A3Q4G7M5_NEOBR</td>\n",
       "      <td>MTSLAHQLKRLALPQSDANLLTRREVASLLFDPKEAASMDRSTFYA...</td>\n",
       "      <td>0</td>\n",
       "      <td>[]</td>\n",
       "      <td>120</td>\n",
       "      <td>[0, 2854, 3, 4650, 3, 11793, 1462, 1326, 13990...</td>\n",
       "      <td>40</td>\n",
       "    </tr>\n",
       "  </tbody>\n",
       "</table>\n",
       "</div>"
      ],
      "text/plain": [
       "           tax_id      uniprot_name  \\\n",
       "613736   175836.0  A0A091GX50_BUCRH   \n",
       "268740     1773.0  A0A4U5KFK5_MYCTX   \n",
       "878089     9669.0      M1EBI8_MUSPF   \n",
       "395371  1165861.0  A0A0L0UHW2_9BASI   \n",
       "820211    32507.0  A0A3Q4G7M5_NEOBR   \n",
       "\n",
       "                                                      seq  \\\n",
       "613736  STGREGEMKILGHCSSQVTSTLGEFELEGICRLQDQASPSDSEPRA...   \n",
       "268740  YSLPAIPLGIDVGGAIGPLTTPPITIPAIPLGIDVSGSLGPINIPI...   \n",
       "878089  GYASSLVFLTYVISFIFRNRRKNSGIWSFFFFIITIFTIVATDINE...   \n",
       "395371  MDRASKKSEQFIIPEPDSPFPFNPIYHGLSGPAANSFPKYVPPQFK...   \n",
       "820211  MTSLAHQLKRLALPQSDANLLTRREVASLLFDPKEAASMDRSTFYA...   \n",
       "\n",
       "        n_complete_go_annotations complete_go_annotation_indices  seq_len  \\\n",
       "613736                          0                             []      212   \n",
       "268740                          0                             []      441   \n",
       "878089                          0                             []      206   \n",
       "395371                          0                             []      137   \n",
       "820211                          0                             []      120   \n",
       "\n",
       "                                            seq_token_ids  seq_n_tokens  \n",
       "613736  [0, 1237, 1820, 4968, 1841, 6251, 2208, 549, 3...            74  \n",
       "268740  [0, 1927, 15625, 3, 1936, 8213, 4216, 3, 706, ...           142  \n",
       "878089  [0, 4180, 10368, 2131, 5140, 1791, 3925, 1702,...            72  \n",
       "395371  [0, 3909, 2050, 1480, 4199, 2170, 7424, 4659, ...            45  \n",
       "820211  [0, 2854, 3, 4650, 3, 11793, 1462, 1326, 13990...            40  "
      ]
     },
     "execution_count": 26,
     "metadata": {},
     "output_type": "execute_result"
    }
   ],
   "source": [
    "sample_proteins = proteins[proteins['seq_len'] < 500].sample(1000).copy()\n",
    "sample_proteins['seq_token_ids'] = sample_proteins['seq'].apply(sp.encode_as_ids)\n",
    "sample_proteins['seq_n_tokens'] = sample_proteins['seq_token_ids'].apply(len)\n",
    "sample_proteins.head()"
   ]
  },
  {
   "cell_type": "code",
   "execution_count": 30,
   "metadata": {},
   "outputs": [
    {
     "data": {
      "text/plain": [
       "count    1000.000000\n",
       "mean      202.234000\n",
       "std       123.001417\n",
       "min        11.000000\n",
       "25%       108.000000\n",
       "50%       167.500000\n",
       "75%       289.000000\n",
       "max       499.000000\n",
       "Name: seq_len, dtype: float64"
      ]
     },
     "metadata": {},
     "output_type": "display_data"
    },
    {
     "data": {
      "text/plain": [
       "count    1000.000000\n",
       "mean       66.897000\n",
       "std        39.755187\n",
       "min         4.000000\n",
       "25%        36.000000\n",
       "50%        56.000000\n",
       "75%        96.000000\n",
       "max       166.000000\n",
       "Name: seq_n_tokens, dtype: float64"
      ]
     },
     "metadata": {},
     "output_type": "display_data"
    }
   ],
   "source": [
    "display(sample_proteins['seq_len'].describe())\n",
    "display(sample_proteins['seq_n_tokens'].describe())\n"
   ]
  },
  {
   "cell_type": "markdown",
   "metadata": {},
   "source": [
    "# Let's BERT!"
   ]
  },
  {
   "cell_type": "code",
   "execution_count": 31,
   "metadata": {},
   "outputs": [],
   "source": [
    "from bert import BertModelLayer"
   ]
  },
  {
   "cell_type": "code",
   "execution_count": 32,
   "metadata": {},
   "outputs": [],
   "source": [
    "l_bert = BertModelLayer(**BertModelLayer.Params(\n",
    "  vocab_size               = 16000,        # embedding params\n",
    "  use_token_type           = True,\n",
    "  use_position_embeddings  = True,\n",
    "  token_type_vocab_size    = 2,\n",
    "\n",
    "  num_layers               = 12,           # transformer encoder params\n",
    "  hidden_size              = 768,\n",
    "  hidden_dropout           = 0.1,\n",
    "  intermediate_size        = 4*768,\n",
    "  intermediate_activation  = \"gelu\",\n",
    "\n",
    "  adapter_size             = None,         # see arXiv:1902.00751 (adapter-BERT)\n",
    "\n",
    "  shared_layer             = False,        # True for ALBERT (arXiv:1909.11942)\n",
    "  embedding_size           = None,         # None for BERT, wordpiece embedding size for ALBERT\n",
    "\n",
    "  name                     = \"bert\"        # any other Keras layer params\n",
    "))"
   ]
  },
  {
   "cell_type": "code",
   "execution_count": 35,
   "metadata": {
    "scrolled": false
   },
   "outputs": [
    {
     "name": "stdout",
     "output_type": "stream",
     "text": [
      "WARNING:tensorflow:Entity <bound method BertModelLayer.call of <bert.model.BertModelLayer object at 0x0000027D0214DA88>> could not be transformed and will be executed as-is. Please report this to the AutgoGraph team. When filing the bug, set the verbosity to 10 (on Linux, `export AUTOGRAPH_VERBOSITY=10`) and attach the full output. Cause: converting <bound method BertModelLayer.call of <bert.model.BertModelLayer object at 0x0000027D0214DA88>>: AssertionError: Bad argument number for Name: 3, expecting 4\n",
      "WARNING: Entity <bound method BertModelLayer.call of <bert.model.BertModelLayer object at 0x0000027D0214DA88>> could not be transformed and will be executed as-is. Please report this to the AutgoGraph team. When filing the bug, set the verbosity to 10 (on Linux, `export AUTOGRAPH_VERBOSITY=10`) and attach the full output. Cause: converting <bound method BertModelLayer.call of <bert.model.BertModelLayer object at 0x0000027D0214DA88>>: AssertionError: Bad argument number for Name: 3, expecting 4\n",
      "WARNING:tensorflow:Entity <bound method BertEmbeddingsLayer.call of <bert.embeddings.BertEmbeddingsLayer object at 0x0000027D021544C8>> could not be transformed and will be executed as-is. Please report this to the AutgoGraph team. When filing the bug, set the verbosity to 10 (on Linux, `export AUTOGRAPH_VERBOSITY=10`) and attach the full output. Cause: converting <bound method BertEmbeddingsLayer.call of <bert.embeddings.BertEmbeddingsLayer object at 0x0000027D021544C8>>: AttributeError: module 'gast' has no attribute 'Num'\n",
      "WARNING: Entity <bound method BertEmbeddingsLayer.call of <bert.embeddings.BertEmbeddingsLayer object at 0x0000027D021544C8>> could not be transformed and will be executed as-is. Please report this to the AutgoGraph team. When filing the bug, set the verbosity to 10 (on Linux, `export AUTOGRAPH_VERBOSITY=10`) and attach the full output. Cause: converting <bound method BertEmbeddingsLayer.call of <bert.embeddings.BertEmbeddingsLayer object at 0x0000027D021544C8>>: AttributeError: module 'gast' has no attribute 'Num'\n",
      "WARNING:tensorflow:Entity <bound method PositionEmbeddingLayer.call of <bert.embeddings.PositionEmbeddingLayer object at 0x0000027D02160448>> could not be transformed and will be executed as-is. Please report this to the AutgoGraph team. When filing the bug, set the verbosity to 10 (on Linux, `export AUTOGRAPH_VERBOSITY=10`) and attach the full output. Cause: converting <bound method PositionEmbeddingLayer.call of <bert.embeddings.PositionEmbeddingLayer object at 0x0000027D02160448>>: AssertionError: Bad argument number for Name: 3, expecting 4\n",
      "WARNING: Entity <bound method PositionEmbeddingLayer.call of <bert.embeddings.PositionEmbeddingLayer object at 0x0000027D02160448>> could not be transformed and will be executed as-is. Please report this to the AutgoGraph team. When filing the bug, set the verbosity to 10 (on Linux, `export AUTOGRAPH_VERBOSITY=10`) and attach the full output. Cause: converting <bound method PositionEmbeddingLayer.call of <bert.embeddings.PositionEmbeddingLayer object at 0x0000027D02160448>>: AssertionError: Bad argument number for Name: 3, expecting 4\n",
      "WARNING:tensorflow:Entity <bound method LayerNormalization.call of <params_flow.normalization.LayerNormalization object at 0x0000027D0216A508>> could not be transformed and will be executed as-is. Please report this to the AutgoGraph team. When filing the bug, set the verbosity to 10 (on Linux, `export AUTOGRAPH_VERBOSITY=10`) and attach the full output. Cause: converting <bound method LayerNormalization.call of <params_flow.normalization.LayerNormalization object at 0x0000027D0216A508>>: AssertionError: Bad argument number for Name: 3, expecting 4\n",
      "WARNING: Entity <bound method LayerNormalization.call of <params_flow.normalization.LayerNormalization object at 0x0000027D0216A508>> could not be transformed and will be executed as-is. Please report this to the AutgoGraph team. When filing the bug, set the verbosity to 10 (on Linux, `export AUTOGRAPH_VERBOSITY=10`) and attach the full output. Cause: converting <bound method LayerNormalization.call of <params_flow.normalization.LayerNormalization object at 0x0000027D0216A508>>: AssertionError: Bad argument number for Name: 3, expecting 4\n"
     ]
    },
    {
     "ename": "TypeError",
     "evalue": "in converted code:\n    relative to C:\\Users\\Dan Ofer\\Anaconda3\\lib\\site-packages:\n\n    bert\\model.py:74 call\n        output           = self.encoders_layer(embedding_output, mask=mask, training=training)\n    tensorflow\\python\\keras\\engine\\base_layer.py:591 __call__\n        self._maybe_build(inputs)\n    tensorflow\\python\\keras\\engine\\base_layer.py:1881 _maybe_build\n        self.build(input_shapes)\n    bert\\transformer.py:214 build\n        name=\"layer_{}\".format(layer_ndx),\n    params_flow\\layer.py:79 from_params\n        **kwargs                                            # override with kwargs\n    params_flow\\layer.py:30 __init__\n        self._construct(self.params)\n    bert\\transformer.py:137 _construct\n        if params.hidden_size % params.num_heads != 0:\n\n    TypeError: unsupported operand type(s) for %: 'int' and 'NoneType'\n",
     "output_type": "error",
     "traceback": [
      "\u001b[1;31m---------------------------------------------------------------------------\u001b[0m",
      "\u001b[1;31mTypeError\u001b[0m                                 Traceback (most recent call last)",
      "\u001b[1;32m<ipython-input-35-b364f2f5cf43>\u001b[0m in \u001b[0;36m<module>\u001b[1;34m\u001b[0m\n\u001b[0;32m      3\u001b[0m \u001b[0mmax_seq_len\u001b[0m \u001b[1;33m=\u001b[0m \u001b[1;36m166\u001b[0m\u001b[1;33m\u001b[0m\u001b[1;33m\u001b[0m\u001b[0m\n\u001b[0;32m      4\u001b[0m \u001b[0ml_input_ids\u001b[0m \u001b[1;33m=\u001b[0m \u001b[0mkeras\u001b[0m\u001b[1;33m.\u001b[0m\u001b[0mlayers\u001b[0m\u001b[1;33m.\u001b[0m\u001b[0mInput\u001b[0m\u001b[1;33m(\u001b[0m\u001b[0mshape\u001b[0m\u001b[1;33m=\u001b[0m\u001b[1;33m(\u001b[0m\u001b[0mmax_seq_len\u001b[0m\u001b[1;33m,\u001b[0m\u001b[1;33m)\u001b[0m\u001b[1;33m,\u001b[0m \u001b[0mdtype\u001b[0m\u001b[1;33m=\u001b[0m\u001b[1;34m'int32'\u001b[0m\u001b[1;33m)\u001b[0m\u001b[1;33m\u001b[0m\u001b[1;33m\u001b[0m\u001b[0m\n\u001b[1;32m----> 5\u001b[1;33m \u001b[0moutput\u001b[0m \u001b[1;33m=\u001b[0m \u001b[0ml_bert\u001b[0m\u001b[1;33m(\u001b[0m\u001b[0ml_input_ids\u001b[0m\u001b[1;33m)\u001b[0m \u001b[1;31m# output: [batch_size, max_seq_len, hidden_size]\u001b[0m\u001b[1;33m\u001b[0m\u001b[1;33m\u001b[0m\u001b[0m\n\u001b[0m\u001b[0;32m      6\u001b[0m \u001b[0mmodel\u001b[0m \u001b[1;33m=\u001b[0m \u001b[0mkeras\u001b[0m\u001b[1;33m.\u001b[0m\u001b[0mModel\u001b[0m\u001b[1;33m(\u001b[0m\u001b[0minputs\u001b[0m\u001b[1;33m=\u001b[0m\u001b[0ml_input_ids\u001b[0m\u001b[1;33m,\u001b[0m \u001b[0moutputs\u001b[0m\u001b[1;33m=\u001b[0m\u001b[0moutput\u001b[0m\u001b[1;33m)\u001b[0m\u001b[1;33m\u001b[0m\u001b[1;33m\u001b[0m\u001b[0m\n\u001b[0;32m      7\u001b[0m \u001b[0mmodel\u001b[0m\u001b[1;33m.\u001b[0m\u001b[0mbuild\u001b[0m\u001b[1;33m(\u001b[0m\u001b[0minput_shape\u001b[0m\u001b[1;33m=\u001b[0m\u001b[1;33m(\u001b[0m\u001b[1;32mNone\u001b[0m\u001b[1;33m,\u001b[0m \u001b[0mmax_seq_len\u001b[0m\u001b[1;33m)\u001b[0m\u001b[1;33m)\u001b[0m\u001b[1;33m\u001b[0m\u001b[1;33m\u001b[0m\u001b[0m\n",
      "\u001b[1;32m~\\Anaconda3\\lib\\site-packages\\tensorflow\\python\\keras\\engine\\base_layer.py\u001b[0m in \u001b[0;36m__call__\u001b[1;34m(self, inputs, *args, **kwargs)\u001b[0m\n\u001b[0;32m    632\u001b[0m                     \u001b[0moutputs\u001b[0m \u001b[1;33m=\u001b[0m \u001b[0mbase_layer_utils\u001b[0m\u001b[1;33m.\u001b[0m\u001b[0mmark_as_return\u001b[0m\u001b[1;33m(\u001b[0m\u001b[0moutputs\u001b[0m\u001b[1;33m,\u001b[0m \u001b[0macd\u001b[0m\u001b[1;33m)\u001b[0m\u001b[1;33m\u001b[0m\u001b[1;33m\u001b[0m\u001b[0m\n\u001b[0;32m    633\u001b[0m                 \u001b[1;32melse\u001b[0m\u001b[1;33m:\u001b[0m\u001b[1;33m\u001b[0m\u001b[1;33m\u001b[0m\u001b[0m\n\u001b[1;32m--> 634\u001b[1;33m                   \u001b[0moutputs\u001b[0m \u001b[1;33m=\u001b[0m \u001b[0mcall_fn\u001b[0m\u001b[1;33m(\u001b[0m\u001b[0minputs\u001b[0m\u001b[1;33m,\u001b[0m \u001b[1;33m*\u001b[0m\u001b[0margs\u001b[0m\u001b[1;33m,\u001b[0m \u001b[1;33m**\u001b[0m\u001b[0mkwargs\u001b[0m\u001b[1;33m)\u001b[0m\u001b[1;33m\u001b[0m\u001b[1;33m\u001b[0m\u001b[0m\n\u001b[0m\u001b[0;32m    635\u001b[0m \u001b[1;33m\u001b[0m\u001b[0m\n\u001b[0;32m    636\u001b[0m             \u001b[1;32mexcept\u001b[0m \u001b[0mTypeError\u001b[0m \u001b[1;32mas\u001b[0m \u001b[0me\u001b[0m\u001b[1;33m:\u001b[0m\u001b[1;33m\u001b[0m\u001b[1;33m\u001b[0m\u001b[0m\n",
      "\u001b[1;32m~\\Anaconda3\\lib\\site-packages\\tensorflow\\python\\autograph\\impl\\api.py\u001b[0m in \u001b[0;36mwrapper\u001b[1;34m(*args, **kwargs)\u001b[0m\n\u001b[0;32m    147\u001b[0m       \u001b[1;32mexcept\u001b[0m \u001b[0mException\u001b[0m \u001b[1;32mas\u001b[0m \u001b[0me\u001b[0m\u001b[1;33m:\u001b[0m  \u001b[1;31m# pylint:disable=broad-except\u001b[0m\u001b[1;33m\u001b[0m\u001b[1;33m\u001b[0m\u001b[0m\n\u001b[0;32m    148\u001b[0m         \u001b[1;32mif\u001b[0m \u001b[0mhasattr\u001b[0m\u001b[1;33m(\u001b[0m\u001b[0me\u001b[0m\u001b[1;33m,\u001b[0m \u001b[1;34m'ag_error_metadata'\u001b[0m\u001b[1;33m)\u001b[0m\u001b[1;33m:\u001b[0m\u001b[1;33m\u001b[0m\u001b[1;33m\u001b[0m\u001b[0m\n\u001b[1;32m--> 149\u001b[1;33m           \u001b[1;32mraise\u001b[0m \u001b[0me\u001b[0m\u001b[1;33m.\u001b[0m\u001b[0mag_error_metadata\u001b[0m\u001b[1;33m.\u001b[0m\u001b[0mto_exception\u001b[0m\u001b[1;33m(\u001b[0m\u001b[0mtype\u001b[0m\u001b[1;33m(\u001b[0m\u001b[0me\u001b[0m\u001b[1;33m)\u001b[0m\u001b[1;33m)\u001b[0m\u001b[1;33m\u001b[0m\u001b[1;33m\u001b[0m\u001b[0m\n\u001b[0m\u001b[0;32m    150\u001b[0m         \u001b[1;32melse\u001b[0m\u001b[1;33m:\u001b[0m\u001b[1;33m\u001b[0m\u001b[1;33m\u001b[0m\u001b[0m\n\u001b[0;32m    151\u001b[0m           \u001b[1;32mraise\u001b[0m\u001b[1;33m\u001b[0m\u001b[1;33m\u001b[0m\u001b[0m\n",
      "\u001b[1;31mTypeError\u001b[0m: in converted code:\n    relative to C:\\Users\\Dan Ofer\\Anaconda3\\lib\\site-packages:\n\n    bert\\model.py:74 call\n        output           = self.encoders_layer(embedding_output, mask=mask, training=training)\n    tensorflow\\python\\keras\\engine\\base_layer.py:591 __call__\n        self._maybe_build(inputs)\n    tensorflow\\python\\keras\\engine\\base_layer.py:1881 _maybe_build\n        self.build(input_shapes)\n    bert\\transformer.py:214 build\n        name=\"layer_{}\".format(layer_ndx),\n    params_flow\\layer.py:79 from_params\n        **kwargs                                            # override with kwargs\n    params_flow\\layer.py:30 __init__\n        self._construct(self.params)\n    bert\\transformer.py:137 _construct\n        if params.hidden_size % params.num_heads != 0:\n\n    TypeError: unsupported operand type(s) for %: 'int' and 'NoneType'\n"
     ]
    }
   ],
   "source": [
    "from tensorflow import keras\n",
    "\n",
    "max_seq_len = 166\n",
    "l_input_ids = keras.layers.Input(shape=(max_seq_len,), dtype='int32')\n",
    "output = l_bert(l_input_ids) # output: [batch_size, max_seq_len, hidden_size]\n",
    "model = keras.Model(inputs=l_input_ids, outputs=output)\n",
    "model.build(input_shape=(None, max_seq_len))"
   ]
  },
  {
   "cell_type": "code",
   "execution_count": null,
   "metadata": {},
   "outputs": [],
   "source": []
  }
 ],
 "metadata": {
  "kernelspec": {
   "display_name": "Python 3",
   "language": "python",
   "name": "python3"
  },
  "language_info": {
   "codemirror_mode": {
    "name": "ipython",
    "version": 3
   },
   "file_extension": ".py",
   "mimetype": "text/x-python",
   "name": "python",
   "nbconvert_exporter": "python",
   "pygments_lexer": "ipython3",
   "version": "3.7.5"
  }
 },
 "nbformat": 4,
 "nbformat_minor": 2
}
