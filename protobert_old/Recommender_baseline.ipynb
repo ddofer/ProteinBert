{
 "cells": [
  {
   "cell_type": "markdown",
   "metadata": {},
   "source": [
    "## Train test + recommender\n",
    "* Todo : add embeddings for items/users (proteins) - dense (embeddings), sparse (features)\n",
    "* Libraries:\n",
    "    * lightFM - https://github.com/lyst/lightfm\n",
    "        * example loading metadata/side data (and transforming it into dict) - https://www.ethanrosenthal.com/2016/11/07/implicit-mf-part-2/\n",
    "            * https://stackoverflow.com/questions/49896816/how-do-i-optimize-the-hyperparameters-of-lightfm\n",
    "    * Surprise\n",
    "    *( Spotlight (deep pytorch) - https://github.com/maciejkula/spotlight\n",
    "        * partial metadata support - https://github.com/maciejkula/spotlight/issues/79\n",
    "    * Keras Deep CTR\n",
    "    \n",
    "    \n",
    "* Example post about implicit recomendation & using user/item metadata - https://www.ethanrosenthal.com/2016/11/07/implicit-mf-part-2/\n",
    "\n",
    "* Hyperparameter tuning + compariosn of lightFM to others (with item metadata included + SVD) : https://www.eigentheories.com/blog/lightfm-vs-hybridsvd/"
   ]
  },
  {
   "cell_type": "code",
   "execution_count": 1,
   "metadata": {},
   "outputs": [
    {
     "name": "stderr",
     "output_type": "stream",
     "text": [
      "C:\\Users\\Dan Ofer\\Anaconda3\\lib\\site-packages\\lightfm\\_lightfm_fast.py:9: UserWarning: LightFM was compiled without OpenMP support. Only a single thread will be used.\n",
      "  warnings.warn('LightFM was compiled without OpenMP support. '\n"
     ]
    }
   ],
   "source": [
    "import pandas as pd\n",
    "from lightfm import LightFM\n",
    "import os\n",
    "from scipy.sparse import coo_matrix\n",
    "import numpy as np\n",
    "\n",
    "from lightfm.evaluation import precision_at_k , auc_score\n",
    "from scipy.sparse import vstack"
   ]
  },
  {
   "cell_type": "code",
   "execution_count": 2,
   "metadata": {},
   "outputs": [],
   "source": [
    "def get_coo(df,index_labels =2):\n",
    "    labels = df.iloc[:, index_labels:]\n",
    "    sparse_label_matrix = coo_matrix(labels.values)\n",
    "    return(sparse_label_matrix)\n",
    "\n",
    "\n",
    "### hyperparam optimization for lightfm \n",
    "\n",
    "# from skopt import forest_minimize\n",
    "# def objective(params):\n",
    "#     # unpack\n",
    "#     epochs, learning_rate,\\\n",
    "#     no_components, alpha = params\n",
    "    \n",
    "#     user_alpha = alpha\n",
    "#     item_alpha = alpha\n",
    "#     model = LightFM(loss='warp',\n",
    "#                     random_state=2016,\n",
    "#                     learning_rate=learning_rate,\n",
    "#                     no_components=no_components,\n",
    "#                     user_alpha=user_alpha,\n",
    "#                     item_alpha=item_alpha)\n",
    "#     model.fit(train, epochs=epochs,\n",
    "#               num_threads=4, verbose=True)\n",
    "    \n",
    "#     patks = lightfm.evaluation.precision_at_k(model, test,\n",
    "#                                               train_interactions=None,\n",
    "#                                               k=5, num_threads=4)\n",
    "#     mapatk = np.mean(patks)\n",
    "#     # Make negative because we want to _minimize_ objective\n",
    "#     out = -mapatk\n",
    "#     # Handle some weird numerical shit going on\n",
    "#     if np.abs(out + 1) < 0.01 or out < -1.0:\n",
    "#         return 0.0\n",
    "#     else:\n",
    "#         return out\n",
    "\n",
    "# space = [(1, 260), # epochs\n",
    "#          (10**-4, 1.0, 'log-uniform'), # learning_rate\n",
    "#          (20, 200), # no_components\n",
    "#          (10**-6, 10**-1, 'log-uniform'), # alpha\n",
    "#         ]\n",
    "\n",
    "# res_fm = forest_minimize(objective, space, n_calls=20,\n",
    "#                      random_state=0,\n",
    "#                      verbose=True)"
   ]
  },
  {
   "cell_type": "code",
   "execution_count": 3,
   "metadata": {},
   "outputs": [],
   "source": [
    "DATA_DIR = r\"C:\\Users\\Dan Ofer\\Desktop\\Stuff\\cafa\\ProteinBert\\data\\training_data\"\n",
    "\n",
    "### toy seqs - few labels ,smaller\n",
    "# TRAIN_FILE_LOC = os.path.join(DATA_DIR,\"labelled_toy_seqs_v1_TRAIN.csv\")\n",
    "# TEST_FILE_LOC = os.path.join(DATA_DIR,\"labelled_toy_seqs_v1_TEST.csv\")\n",
    "\n",
    "\n",
    "TRAIN_FILE_LOC = os.path.join(DATA_DIR,r\"SWP_test_go-all_v1.csv.gz\")\n",
    "TEST_FILE_LOC = os.path.join(DATA_DIR,r\"SWP_train_go-all_v1.csv.gz\")"
   ]
  },
  {
   "cell_type": "markdown",
   "metadata": {},
   "source": [
    "### load our data and get it into sparse format\n",
    "* start with just the test -  faster\n",
    "* skip embeddings data for now"
   ]
  },
  {
   "cell_type": "code",
   "execution_count": 4,
   "metadata": {},
   "outputs": [
    {
     "name": "stdout",
     "output_type": "stream",
     "text": [
      "(5, 126)\n",
      "Index(['index', 'Sequence', ' 4 iron, 4 sulfur cluster binding [GO:0051539]',\n",
      "       ' ATP binding [GO:0005524]', ' ATPase activity [GO:0016887]',\n",
      "       ' ATPase-coupled transmembrane transporter activity [GO:0042626]',\n",
      "       ' DNA binding [GO:0003677]', ' DNA recombination [GO:0006310]',\n",
      "       ' DNA repair [GO:0006281]', ' DNA replication [GO:0006260]',\n",
      "       ...\n",
      "       'endoplasmic reticulum membrane [GO:0005789]',\n",
      "       'extracellular region [GO:0005576]', 'extracellular space [GO:0005615]',\n",
      "       'integral component of membrane [GO:0016021]',\n",
      "       'integral component of plasma membrane [GO:0005887]',\n",
      "       'mitochondrion [GO:0005739]', 'nucleolus [GO:0005730]',\n",
      "       'nucleus [GO:0005634]', 'plasma membrane [GO:0005886]',\n",
      "       'ribosome [GO:0005840]'],\n",
      "      dtype='object', length=126)\n"
     ]
    },
    {
     "data": {
      "text/html": [
       "<div>\n",
       "<style scoped>\n",
       "    .dataframe tbody tr th:only-of-type {\n",
       "        vertical-align: middle;\n",
       "    }\n",
       "\n",
       "    .dataframe tbody tr th {\n",
       "        vertical-align: top;\n",
       "    }\n",
       "\n",
       "    .dataframe thead th {\n",
       "        text-align: right;\n",
       "    }\n",
       "</style>\n",
       "<table border=\"1\" class=\"dataframe\">\n",
       "  <thead>\n",
       "    <tr style=\"text-align: right;\">\n",
       "      <th></th>\n",
       "      <th>index</th>\n",
       "      <th>Sequence</th>\n",
       "      <th>4 iron, 4 sulfur cluster binding [GO:0051539]</th>\n",
       "      <th>ATP binding [GO:0005524]</th>\n",
       "      <th>ATPase activity [GO:0016887]</th>\n",
       "      <th>ATPase-coupled transmembrane transporter activity [GO:0042626]</th>\n",
       "      <th>DNA binding [GO:0003677]</th>\n",
       "      <th>DNA recombination [GO:0006310]</th>\n",
       "      <th>DNA repair [GO:0006281]</th>\n",
       "      <th>DNA replication [GO:0006260]</th>\n",
       "      <th>...</th>\n",
       "      <th>endoplasmic reticulum membrane [GO:0005789]</th>\n",
       "      <th>extracellular region [GO:0005576]</th>\n",
       "      <th>extracellular space [GO:0005615]</th>\n",
       "      <th>integral component of membrane [GO:0016021]</th>\n",
       "      <th>integral component of plasma membrane [GO:0005887]</th>\n",
       "      <th>mitochondrion [GO:0005739]</th>\n",
       "      <th>nucleolus [GO:0005730]</th>\n",
       "      <th>nucleus [GO:0005634]</th>\n",
       "      <th>plasma membrane [GO:0005886]</th>\n",
       "      <th>ribosome [GO:0005840]</th>\n",
       "    </tr>\n",
       "  </thead>\n",
       "  <tbody>\n",
       "    <tr>\n",
       "      <th>0</th>\n",
       "      <td>0</td>\n",
       "      <td>MNLSQEHAINQNLHKNQKNEEKIEKKTINKDGRGQMNYDGEEGQGE...</td>\n",
       "      <td>0</td>\n",
       "      <td>0</td>\n",
       "      <td>0</td>\n",
       "      <td>0</td>\n",
       "      <td>0</td>\n",
       "      <td>0</td>\n",
       "      <td>0</td>\n",
       "      <td>0</td>\n",
       "      <td>...</td>\n",
       "      <td>0</td>\n",
       "      <td>0</td>\n",
       "      <td>0</td>\n",
       "      <td>0</td>\n",
       "      <td>0</td>\n",
       "      <td>0</td>\n",
       "      <td>0</td>\n",
       "      <td>0</td>\n",
       "      <td>0</td>\n",
       "      <td>0</td>\n",
       "    </tr>\n",
       "    <tr>\n",
       "      <th>1</th>\n",
       "      <td>1</td>\n",
       "      <td>MDVDVFNGWGRPRFEDESLMPPGFRFHPTDEELITYYLLKKVLDSN...</td>\n",
       "      <td>0</td>\n",
       "      <td>0</td>\n",
       "      <td>0</td>\n",
       "      <td>0</td>\n",
       "      <td>0</td>\n",
       "      <td>0</td>\n",
       "      <td>0</td>\n",
       "      <td>0</td>\n",
       "      <td>...</td>\n",
       "      <td>0</td>\n",
       "      <td>0</td>\n",
       "      <td>0</td>\n",
       "      <td>0</td>\n",
       "      <td>0</td>\n",
       "      <td>0</td>\n",
       "      <td>0</td>\n",
       "      <td>1</td>\n",
       "      <td>0</td>\n",
       "      <td>0</td>\n",
       "    </tr>\n",
       "    <tr>\n",
       "      <th>2</th>\n",
       "      <td>2</td>\n",
       "      <td>MDKKKEHPEMRIPLQTAVEVSDWPCSTSHDPHSGLGMVLGMLAVLG...</td>\n",
       "      <td>0</td>\n",
       "      <td>0</td>\n",
       "      <td>0</td>\n",
       "      <td>0</td>\n",
       "      <td>0</td>\n",
       "      <td>0</td>\n",
       "      <td>0</td>\n",
       "      <td>0</td>\n",
       "      <td>...</td>\n",
       "      <td>0</td>\n",
       "      <td>0</td>\n",
       "      <td>0</td>\n",
       "      <td>0</td>\n",
       "      <td>0</td>\n",
       "      <td>0</td>\n",
       "      <td>0</td>\n",
       "      <td>0</td>\n",
       "      <td>0</td>\n",
       "      <td>0</td>\n",
       "    </tr>\n",
       "    <tr>\n",
       "      <th>3</th>\n",
       "      <td>3</td>\n",
       "      <td>MARASLIQPGLWALLLLQAVGPAVAAKLNIPKVLLPFTRATRVNFT...</td>\n",
       "      <td>0</td>\n",
       "      <td>0</td>\n",
       "      <td>0</td>\n",
       "      <td>0</td>\n",
       "      <td>0</td>\n",
       "      <td>0</td>\n",
       "      <td>0</td>\n",
       "      <td>0</td>\n",
       "      <td>...</td>\n",
       "      <td>1</td>\n",
       "      <td>0</td>\n",
       "      <td>0</td>\n",
       "      <td>0</td>\n",
       "      <td>0</td>\n",
       "      <td>0</td>\n",
       "      <td>0</td>\n",
       "      <td>0</td>\n",
       "      <td>0</td>\n",
       "      <td>0</td>\n",
       "    </tr>\n",
       "    <tr>\n",
       "      <th>4</th>\n",
       "      <td>4</td>\n",
       "      <td>MEESDSEKTTEKENLGPRMDPPLGEPEGSLGWVLPNTAMKKKVLLM...</td>\n",
       "      <td>0</td>\n",
       "      <td>0</td>\n",
       "      <td>0</td>\n",
       "      <td>0</td>\n",
       "      <td>0</td>\n",
       "      <td>0</td>\n",
       "      <td>0</td>\n",
       "      <td>0</td>\n",
       "      <td>...</td>\n",
       "      <td>0</td>\n",
       "      <td>0</td>\n",
       "      <td>0</td>\n",
       "      <td>0</td>\n",
       "      <td>0</td>\n",
       "      <td>0</td>\n",
       "      <td>0</td>\n",
       "      <td>0</td>\n",
       "      <td>0</td>\n",
       "      <td>0</td>\n",
       "    </tr>\n",
       "  </tbody>\n",
       "</table>\n",
       "<p>5 rows × 126 columns</p>\n",
       "</div>"
      ],
      "text/plain": [
       "   index                                           Sequence  \\\n",
       "0      0  MNLSQEHAINQNLHKNQKNEEKIEKKTINKDGRGQMNYDGEEGQGE...   \n",
       "1      1  MDVDVFNGWGRPRFEDESLMPPGFRFHPTDEELITYYLLKKVLDSN...   \n",
       "2      2  MDKKKEHPEMRIPLQTAVEVSDWPCSTSHDPHSGLGMVLGMLAVLG...   \n",
       "3      3  MARASLIQPGLWALLLLQAVGPAVAAKLNIPKVLLPFTRATRVNFT...   \n",
       "4      4  MEESDSEKTTEKENLGPRMDPPLGEPEGSLGWVLPNTAMKKKVLLM...   \n",
       "\n",
       "    4 iron, 4 sulfur cluster binding [GO:0051539]   ATP binding [GO:0005524]  \\\n",
       "0                                               0                          0   \n",
       "1                                               0                          0   \n",
       "2                                               0                          0   \n",
       "3                                               0                          0   \n",
       "4                                               0                          0   \n",
       "\n",
       "    ATPase activity [GO:0016887]  \\\n",
       "0                              0   \n",
       "1                              0   \n",
       "2                              0   \n",
       "3                              0   \n",
       "4                              0   \n",
       "\n",
       "    ATPase-coupled transmembrane transporter activity [GO:0042626]  \\\n",
       "0                                                  0                 \n",
       "1                                                  0                 \n",
       "2                                                  0                 \n",
       "3                                                  0                 \n",
       "4                                                  0                 \n",
       "\n",
       "    DNA binding [GO:0003677]   DNA recombination [GO:0006310]  \\\n",
       "0                          0                                0   \n",
       "1                          0                                0   \n",
       "2                          0                                0   \n",
       "3                          0                                0   \n",
       "4                          0                                0   \n",
       "\n",
       "    DNA repair [GO:0006281]   DNA replication [GO:0006260]  ...  \\\n",
       "0                         0                              0  ...   \n",
       "1                         0                              0  ...   \n",
       "2                         0                              0  ...   \n",
       "3                         0                              0  ...   \n",
       "4                         0                              0  ...   \n",
       "\n",
       "   endoplasmic reticulum membrane [GO:0005789]  \\\n",
       "0                                            0   \n",
       "1                                            0   \n",
       "2                                            0   \n",
       "3                                            1   \n",
       "4                                            0   \n",
       "\n",
       "   extracellular region [GO:0005576]  extracellular space [GO:0005615]  \\\n",
       "0                                  0                                 0   \n",
       "1                                  0                                 0   \n",
       "2                                  0                                 0   \n",
       "3                                  0                                 0   \n",
       "4                                  0                                 0   \n",
       "\n",
       "   integral component of membrane [GO:0016021]  \\\n",
       "0                                            0   \n",
       "1                                            0   \n",
       "2                                            0   \n",
       "3                                            0   \n",
       "4                                            0   \n",
       "\n",
       "   integral component of plasma membrane [GO:0005887]  \\\n",
       "0                                                  0    \n",
       "1                                                  0    \n",
       "2                                                  0    \n",
       "3                                                  0    \n",
       "4                                                  0    \n",
       "\n",
       "   mitochondrion [GO:0005739]  nucleolus [GO:0005730]  nucleus [GO:0005634]  \\\n",
       "0                           0                       0                     0   \n",
       "1                           0                       0                     1   \n",
       "2                           0                       0                     0   \n",
       "3                           0                       0                     0   \n",
       "4                           0                       0                     0   \n",
       "\n",
       "   plasma membrane [GO:0005886]  ribosome [GO:0005840]  \n",
       "0                             0                      0  \n",
       "1                             0                      0  \n",
       "2                             0                      0  \n",
       "3                             0                      0  \n",
       "4                             0                      0  \n",
       "\n",
       "[5 rows x 126 columns]"
      ]
     },
     "execution_count": 4,
     "metadata": {},
     "output_type": "execute_result"
    }
   ],
   "source": [
    "df = pd.read_csv(TRAIN_FILE_LOC,nrows=5).reset_index()\n",
    "print(df.shape)\n",
    "print(df.columns)\n",
    "df.head()"
   ]
  },
  {
   "cell_type": "markdown",
   "metadata": {},
   "source": [
    "### OPT - get only sequences with at least 2 annotations\n",
    "* rememebr that we'll need to address this when predicting on our real test set"
   ]
  },
  {
   "cell_type": "code",
   "execution_count": 5,
   "metadata": {},
   "outputs": [
    {
     "name": "stdout",
     "output_type": "stream",
     "text": [
      "all 774746\n",
      "at least 1 annotations 652138\n",
      "at least 2 annotations 433273\n",
      "at least 3 annotations 252031\n"
     ]
    },
    {
     "data": {
      "text/html": [
       "<div>\n",
       "<style scoped>\n",
       "    .dataframe tbody tr th:only-of-type {\n",
       "        vertical-align: middle;\n",
       "    }\n",
       "\n",
       "    .dataframe tbody tr th {\n",
       "        vertical-align: top;\n",
       "    }\n",
       "\n",
       "    .dataframe thead th {\n",
       "        text-align: right;\n",
       "    }\n",
       "</style>\n",
       "<table border=\"1\" class=\"dataframe\">\n",
       "  <thead>\n",
       "    <tr style=\"text-align: right;\">\n",
       "      <th></th>\n",
       "      <th>Sequence</th>\n",
       "      <th>4 iron, 4 sulfur cluster binding [GO:0051539]</th>\n",
       "      <th>ATP binding [GO:0005524]</th>\n",
       "      <th>ATPase activity [GO:0016887]</th>\n",
       "      <th>ATPase-coupled transmembrane transporter activity [GO:0042626]</th>\n",
       "      <th>DNA binding [GO:0003677]</th>\n",
       "      <th>DNA recombination [GO:0006310]</th>\n",
       "      <th>DNA repair [GO:0006281]</th>\n",
       "      <th>DNA replication [GO:0006260]</th>\n",
       "      <th>DNA-binding transcription factor activity [GO:0003700]</th>\n",
       "      <th>...</th>\n",
       "      <th>endoplasmic reticulum membrane [GO:0005789]</th>\n",
       "      <th>extracellular region [GO:0005576]</th>\n",
       "      <th>extracellular space [GO:0005615]</th>\n",
       "      <th>integral component of membrane [GO:0016021]</th>\n",
       "      <th>integral component of plasma membrane [GO:0005887]</th>\n",
       "      <th>mitochondrion [GO:0005739]</th>\n",
       "      <th>nucleolus [GO:0005730]</th>\n",
       "      <th>nucleus [GO:0005634]</th>\n",
       "      <th>plasma membrane [GO:0005886]</th>\n",
       "      <th>ribosome [GO:0005840]</th>\n",
       "    </tr>\n",
       "  </thead>\n",
       "  <tbody>\n",
       "    <tr>\n",
       "      <th>0</th>\n",
       "      <td>MNLSQEHAINQNLHKNQKNEEKIEKKTINKDGRGQMNYDGEEGQGE...</td>\n",
       "      <td>0</td>\n",
       "      <td>0</td>\n",
       "      <td>0</td>\n",
       "      <td>0</td>\n",
       "      <td>0</td>\n",
       "      <td>0</td>\n",
       "      <td>0</td>\n",
       "      <td>0</td>\n",
       "      <td>0</td>\n",
       "      <td>...</td>\n",
       "      <td>0</td>\n",
       "      <td>0</td>\n",
       "      <td>0</td>\n",
       "      <td>0</td>\n",
       "      <td>0</td>\n",
       "      <td>0</td>\n",
       "      <td>0</td>\n",
       "      <td>0</td>\n",
       "      <td>0</td>\n",
       "      <td>0</td>\n",
       "    </tr>\n",
       "  </tbody>\n",
       "</table>\n",
       "<p>1 rows × 125 columns</p>\n",
       "</div>"
      ],
      "text/plain": [
       "                                            Sequence  \\\n",
       "0  MNLSQEHAINQNLHKNQKNEEKIEKKTINKDGRGQMNYDGEEGQGE...   \n",
       "\n",
       "    4 iron, 4 sulfur cluster binding [GO:0051539]   ATP binding [GO:0005524]  \\\n",
       "0                                               0                          0   \n",
       "\n",
       "    ATPase activity [GO:0016887]  \\\n",
       "0                              0   \n",
       "\n",
       "    ATPase-coupled transmembrane transporter activity [GO:0042626]  \\\n",
       "0                                                  0                 \n",
       "\n",
       "    DNA binding [GO:0003677]   DNA recombination [GO:0006310]  \\\n",
       "0                          0                                0   \n",
       "\n",
       "    DNA repair [GO:0006281]   DNA replication [GO:0006260]  \\\n",
       "0                         0                              0   \n",
       "\n",
       "    DNA-binding transcription factor activity [GO:0003700]  ...  \\\n",
       "0                                                  0        ...   \n",
       "\n",
       "   endoplasmic reticulum membrane [GO:0005789]  \\\n",
       "0                                            0   \n",
       "\n",
       "   extracellular region [GO:0005576]  extracellular space [GO:0005615]  \\\n",
       "0                                  0                                 0   \n",
       "\n",
       "   integral component of membrane [GO:0016021]  \\\n",
       "0                                            0   \n",
       "\n",
       "   integral component of plasma membrane [GO:0005887]  \\\n",
       "0                                                  0    \n",
       "\n",
       "   mitochondrion [GO:0005739]  nucleolus [GO:0005730]  nucleus [GO:0005634]  \\\n",
       "0                           0                       0                     0   \n",
       "\n",
       "   plasma membrane [GO:0005886]  ribosome [GO:0005840]  \n",
       "0                             0                      0  \n",
       "\n",
       "[1 rows x 125 columns]"
      ]
     },
     "execution_count": 5,
     "metadata": {},
     "output_type": "execute_result"
    }
   ],
   "source": [
    "df = pd.concat([pd.read_csv(TRAIN_FILE_LOC),pd.read_csv(TEST_FILE_LOC)])\n",
    "print(\"all\",df.shape[0])\n",
    "print(\"at least 1 annotations\",df.loc[df.sum(axis=1)>=1].shape[0])\n",
    "print(\"at least 2 annotations\",df.loc[df.sum(axis=1)>=2].shape[0])\n",
    "print(\"at least 3 annotations\",df.loc[df.sum(axis=1)>=3].shape[0])\n",
    "\n",
    "df.head(1)"
   ]
  },
  {
   "cell_type": "code",
   "execution_count": 6,
   "metadata": {},
   "outputs": [],
   "source": [
    "### keep only sequencers with at least 1 annotation\n",
    "df = df.loc[df.sum(axis=1)>=1]"
   ]
  },
  {
   "cell_type": "code",
   "execution_count": 7,
   "metadata": {},
   "outputs": [],
   "source": [
    "# df = df.replace(0,-1) ###  matters for lightfm , notably logistic loss ??"
   ]
  },
  {
   "cell_type": "code",
   "execution_count": 8,
   "metadata": {},
   "outputs": [],
   "source": [
    "# data1 = get_coo(pd.read_csv(TRAIN_FILE_LOC).reset_index(),index_labels =2)\n",
    "# data2 = get_coo(pd.read_csv(TEST_FILE_LOC).reset_index(),index_labels =2)\n",
    "# data = vstack([data1, data2])\n",
    "\n",
    "data = get_coo(df,index_labels =1)"
   ]
  },
  {
   "cell_type": "code",
   "execution_count": 9,
   "metadata": {},
   "outputs": [
    {
     "name": "stdout",
     "output_type": "stream",
     "text": [
      "(652138, 124) (652138, 124)\n"
     ]
    }
   ],
   "source": [
    "from scipy.sparse import find\n",
    "\n",
    "TEST_FREQ = 0.1\n",
    "\n",
    "rows, cols, values = find(data)\n",
    "\n",
    "test_mask = np.random.choice([True, False], len(rows), p = [TEST_FREQ, 1- TEST_FREQ])\n",
    "train_mask = ~test_mask\n",
    "\n",
    "train = coo_matrix((values[train_mask], (rows[train_mask], cols[train_mask])), shape = data.shape)\n",
    "test = coo_matrix((values[test_mask], (rows[test_mask], cols[test_mask])), shape = data.shape)\n",
    "\n",
    "print(train.shape, test.shape)"
   ]
  },
  {
   "cell_type": "code",
   "execution_count": 10,
   "metadata": {},
   "outputs": [
    {
     "data": {
      "text/plain": [
       "<lightfm.lightfm.LightFM at 0x1ca24f80888>"
      ]
     },
     "execution_count": 10,
     "metadata": {},
     "output_type": "execute_result"
    }
   ],
   "source": [
    "model = LightFM(learning_rate=0.05,\n",
    "#                 loss='logistic', ## logistic is super slow ; changes if we replace 0 with -1 \n",
    "                loss='warp'\n",
    "               )\n",
    "model.fit(train, epochs=5)"
   ]
  },
  {
   "cell_type": "code",
   "execution_count": 11,
   "metadata": {},
   "outputs": [
    {
     "name": "stdout",
     "output_type": "stream",
     "text": [
      "Precision: train 0.35, test 0.10.\n",
      "AUC: train 0.98, test 0.87.\n"
     ]
    }
   ],
   "source": [
    "train_precision = precision_at_k(model, train, k=5).mean()\n",
    "test_precision = precision_at_k(model, test, k=5, train_interactions=train).mean()\n",
    "\n",
    "train_auc = auc_score(model, train).mean()\n",
    "test_auc = auc_score(model, test, train_interactions=train).mean()\n",
    "\n",
    "print('Precision: train %.2f, test %.2f.' % (train_precision, test_precision))\n",
    "print('AUC: train %.2f, test %.2f.' % (train_auc, test_auc))"
   ]
  },
  {
   "cell_type": "code",
   "execution_count": 12,
   "metadata": {},
   "outputs": [
    {
     "data": {
      "text/plain": [
       "0.2624587"
      ]
     },
     "execution_count": 12,
     "metadata": {},
     "output_type": "execute_result"
    }
   ],
   "source": [
    "precision_at_k(model, test, k=1, train_interactions=train).mean()"
   ]
  },
  {
   "cell_type": "code",
   "execution_count": 13,
   "metadata": {},
   "outputs": [
    {
     "data": {
      "text/plain": [
       "0.18150276"
      ]
     },
     "execution_count": 13,
     "metadata": {},
     "output_type": "execute_result"
    }
   ],
   "source": [
    "precision_at_k(model, test, k=2, train_interactions=train).mean()"
   ]
  },
  {
   "cell_type": "code",
   "execution_count": 14,
   "metadata": {},
   "outputs": [
    {
     "data": {
      "text/plain": [
       "0.14337859"
      ]
     },
     "execution_count": 14,
     "metadata": {},
     "output_type": "execute_result"
    }
   ],
   "source": [
    "precision_at_k(model, test, k=3, train_interactions=train).mean()"
   ]
  },
  {
   "cell_type": "markdown",
   "metadata": {},
   "source": [
    "5 epochs ; All data\n",
    "\n",
    "* Basic  - \n",
    "    * WARP\n",
    "        * Precision: train 0.34, test 0.11.\n",
    "\n",
    "            AUC: train 0.98, test 0.86.\n",
    "    * BPR -\n",
    "        * Precision: train 0.29, test 0.07.\n",
    "        \n",
    "            AUC: train 0.95, test 0.70.\n",
    "    \n",
    "    * Logistic loss (much worse):\n",
    "        * Precision: train 0.11, test 0.06.\n",
    "            AUC: train 0.77, test 0.76.\n",
    "      \n",
    "\n",
    "* With tfidf \"metadata\"  - \n",
    "    * WARP\n",
    "        * Precision: train 0.19, test 0.11.\n",
    "            AUC: train 0.88, test 0.88.\n",
    "            \n",
    "---------------\n",
    "\n",
    "At Least 2 labels ; 5 epochs\n",
    "\n",
    "* Basic  - \n",
    "    * WARP\n",
    "        *  Precision: train 0.43, test 0.12.\n",
    "        \n",
    "            AUC: train 0.98, test 0.88.\n",
    "---------------\n",
    "\n",
    "At Least 1 label  ; replace 0 with -1 ; 5 epochs  (652,138)\n",
    "    * Logistic loss\n",
    "        * "
   ]
  },
  {
   "cell_type": "markdown",
   "metadata": {},
   "source": [
    "## Add sequence/\"user\" metadata\n",
    "* get vector of item features - start with TF-IDF/count/char-ngrams vector per sequence\n",
    "    * Could also add the uniprot (sparse) \"features\" \n",
    "    \n",
    "__Q__ : Are we sure order is saved ??  "
   ]
  },
  {
   "cell_type": "code",
   "execution_count": 15,
   "metadata": {},
   "outputs": [],
   "source": [
    "from sklearn.feature_extraction.text import CountVectorizer, TfidfVectorizer\n",
    "from sklearn.feature_extraction.text import TfidfTransformer\n",
    "from sklearn.linear_model import SGDClassifier\n",
    "from sklearn.model_selection import GridSearchCV\n",
    "from sklearn.pipeline import Pipeline\n",
    "from sklearn.decomposition import PCA, TruncatedSVD\n",
    "from sklearn.pipeline import Pipeline, FeatureUnion\n",
    "\n",
    "from lightfm import datasets as dataset\n",
    "import scipy.sparse as sp\n",
    "\n",
    "from sklearn.preprocessing import FunctionTransformer\n",
    "### https://stackoverflow.com/questions/47745288/how-to-featureunion-numerical-and-text-features-in-python-sklearn-properly\n",
    "\n",
    "### https://michelleful.github.io/code-blog/2015/06/20/pipelines/\n",
    "##### could also add sequence length , PH for example"
   ]
  },
  {
   "cell_type": "code",
   "execution_count": 16,
   "metadata": {},
   "outputs": [
    {
     "name": "stdout",
     "output_type": "stream",
     "text": [
      "774746\n"
     ]
    }
   ],
   "source": [
    "seqs = pd.concat([pd.read_csv(TRAIN_FILE_LOC),pd.read_csv(TEST_FILE_LOC)])[\"Sequence\"]\n",
    "print(len(seqs))\n",
    "# seqs"
   ]
  },
  {
   "cell_type": "code",
   "execution_count": 17,
   "metadata": {},
   "outputs": [],
   "source": [
    "char_grams = TfidfVectorizer(ngram_range=(1, 3), analyzer='char',min_df=5,\n",
    "                             lowercase=False, max_df=0.997,\n",
    "                             max_features=4000 , smooth_idf =False)\n",
    "svd = TruncatedSVD(n_components=25)"
   ]
  },
  {
   "cell_type": "code",
   "execution_count": 18,
   "metadata": {},
   "outputs": [],
   "source": [
    "item_feats = svd.fit_transform(char_grams.fit_transform(seqs))\n",
    "\n",
    "# item_feats = char_grams.fit_transform(seqs)"
   ]
  },
  {
   "cell_type": "code",
   "execution_count": 19,
   "metadata": {},
   "outputs": [
    {
     "name": "stdout",
     "output_type": "stream",
     "text": [
      "(774746, 25)\n"
     ]
    },
    {
     "data": {
      "text/plain": [
       "<774746x25 sparse matrix of type '<class 'numpy.float64'>'\n",
       "\twith 19368650 stored elements in COOrdinate format>"
      ]
     },
     "execution_count": 19,
     "metadata": {},
     "output_type": "execute_result"
    }
   ],
   "source": [
    "# item_features = dataset.build_item_features(features)\n",
    "\n",
    "item_features_sparse = sp.coo_matrix(item_feats)\n",
    "print(item_features_sparse.shape)\n",
    "item_features_sparse"
   ]
  },
  {
   "cell_type": "code",
   "execution_count": 20,
   "metadata": {},
   "outputs": [],
   "source": [
    "model2 = LightFM(learning_rate=0.05, loss='warp')"
   ]
  },
  {
   "cell_type": "code",
   "execution_count": 21,
   "metadata": {},
   "outputs": [
    {
     "data": {
      "text/plain": [
       "<lightfm.lightfm.LightFM at 0x1ca4872c048>"
      ]
     },
     "execution_count": 21,
     "metadata": {},
     "output_type": "execute_result"
    }
   ],
   "source": [
    "model2.fit(train,user_features=item_features_sparse, epochs=5)\n",
    "\n",
    "# model2.fit(train,item_features = sp.coo_matrix(item_feats), epochs=1)"
   ]
  },
  {
   "cell_type": "code",
   "execution_count": 22,
   "metadata": {},
   "outputs": [
    {
     "name": "stdout",
     "output_type": "stream",
     "text": [
      "Precision: train 0.12, test 0.06.\n",
      "AUC: train 0.77, test 0.76.\n"
     ]
    }
   ],
   "source": [
    "train_precision = precision_at_k(model2, train, k=5,user_features=item_features_sparse).mean()\n",
    "test_precision = precision_at_k(model2, test, k=5, train_interactions=train,user_features=item_features_sparse).mean()\n",
    "\n",
    "train_auc = auc_score(model2, train,user_features=item_features_sparse).mean()\n",
    "test_auc = auc_score(model2, test, train_interactions=train,user_features=item_features_sparse).mean()\n",
    "\n",
    "print('Precision: train %.2f, test %.2f.' % (train_precision, test_precision))\n",
    "print('AUC: train %.2f, test %.2f.' % (train_auc, test_auc))\n",
    "\n",
    "# Precision: train 0.53, test 0.24.\n",
    "# AUC: train 0.84, test 0.87."
   ]
  },
  {
   "cell_type": "code",
   "execution_count": null,
   "metadata": {},
   "outputs": [],
   "source": []
  }
 ],
 "metadata": {
  "kernelspec": {
   "display_name": "Python 3",
   "language": "python",
   "name": "python3"
  },
  "language_info": {
   "codemirror_mode": {
    "name": "ipython",
    "version": 3
   },
   "file_extension": ".py",
   "mimetype": "text/x-python",
   "name": "python",
   "nbconvert_exporter": "python",
   "pygments_lexer": "ipython3",
   "version": "3.7.5"
  }
 },
 "nbformat": 4,
 "nbformat_minor": 2
}
