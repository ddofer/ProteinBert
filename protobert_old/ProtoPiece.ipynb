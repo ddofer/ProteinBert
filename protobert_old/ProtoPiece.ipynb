{
 "cells": [
  {
   "cell_type": "markdown",
   "metadata": {},
   "source": [
    "# Setup"
   ]
  },
  {
   "cell_type": "code",
   "execution_count": 2,
   "metadata": {},
   "outputs": [],
   "source": [
    "import re\n",
    "import gzip\n",
    "\n",
    "from Bio import SeqIO\n",
    "import numpy as np\n",
    "import pandas as pd\n",
    "import matplotlib.pyplot as plt\n",
    "import h5py\n",
    "\n",
    "import sentencepiece as spm"
   ]
  },
  {
   "cell_type": "markdown",
   "metadata": {},
   "source": [
    "# Create a plain text with protein seqs"
   ]
  },
  {
   "cell_type": "markdown",
   "metadata": {},
   "source": [
    "> wget ftp://ftp.uniprot.org/pub/databases/uniprot/uniref/uniref90/uniref90.fasta.gz"
   ]
  },
  {
   "cell_type": "code",
   "execution_count": 9,
   "metadata": {},
   "outputs": [],
   "source": [
    "INPUT_FASTA_FILE_PATH = '/cs/phd/nadavb/cafa_project/data/uniref90.fasta.gz'\n",
    "CORPUS_TXT_FILE_PATH = '/cs/phd/nadavb/cafa_project/data/seqs_for_sentencepeice_training.txt'"
   ]
  },
  {
   "cell_type": "code",
   "execution_count": 11,
   "metadata": {},
   "outputs": [
    {
     "name": "stdout",
     "output_type": "stream",
     "text": [
      "Done.00\n"
     ]
    }
   ],
   "source": [
    "# TODO: Instead of taking just the first sequences, it could be better to take a random subsample. \n",
    "\n",
    "N_SEQS = 1000000\n",
    "\n",
    "with gzip.open(INPUT_FASTA_FILE_PATH, 'rt') as input_fasta_file, open(CORPUS_TXT_FILE_PATH, 'w') as output_txt_file:\n",
    "    for i, record in enumerate(SeqIO.parse(input_fasta_file, 'fasta')):\n",
    "        \n",
    "        if N_SEQS is not None and i >= N_SEQS:\n",
    "            break\n",
    "        \n",
    "        if i % 1000 == 0:\n",
    "            print(i, end = '\\r')\n",
    "        \n",
    "        output_txt_file.write(str(record.seq) + '\\n')\n",
    "\n",
    "print('Done.')"
   ]
  },
  {
   "cell_type": "markdown",
   "metadata": {},
   "source": [
    "# Train a sentencepiece model"
   ]
  },
  {
   "cell_type": "code",
   "execution_count": 14,
   "metadata": {},
   "outputs": [
    {
     "name": "stdout",
     "output_type": "stream",
     "text": [
      "/cs/labs/michall/nadavb/cafa_project/data\n"
     ]
    }
   ],
   "source": [
    "%cd /cs/phd/nadavb/cafa_project/data"
   ]
  },
  {
   "cell_type": "code",
   "execution_count": 15,
   "metadata": {},
   "outputs": [],
   "source": [
    "VOCAB_SIZE = 16000\n",
    "N_RESERVED_SYMBOLS = 2 # We want to reserve two symbols: 1) for PADDING, 2) for MASKING."
   ]
  },
  {
   "cell_type": "code",
   "execution_count": 16,
   "metadata": {},
   "outputs": [
    {
     "data": {
      "text/plain": [
       "True"
      ]
     },
     "execution_count": 16,
     "metadata": {},
     "output_type": "execute_result"
    }
   ],
   "source": [
    "spm.SentencePieceTrainer.Train('--input=%s --model_prefix=protopiece --vocab_size=%d' % (CORPUS_TXT_FILE_PATH, \\\n",
    "        VOCAB_SIZE - N_RESERVED_SYMBOLS))"
   ]
  },
  {
   "cell_type": "code",
   "execution_count": 17,
   "metadata": {},
   "outputs": [
    {
     "data": {
      "text/plain": [
       "True"
      ]
     },
     "execution_count": 17,
     "metadata": {},
     "output_type": "execute_result"
    }
   ],
   "source": [
    "sp = spm.SentencePieceProcessor()\n",
    "sp.load('protopiece.model')"
   ]
  },
  {
   "cell_type": "code",
   "execution_count": 18,
   "metadata": {},
   "outputs": [
    {
     "name": "stdout",
     "output_type": "stream",
     "text": [
      "['▁MR', 'YTV', 'LIAL', 'QGA', 'LLLLL', 'LIDD', 'GQGQ', 'SPY', 'PYP', 'GMP', 'CNS', 'SRQ', 'CGL', 'GTC', 'VHS', 'RCA', 'HCS', 'SDGT', 'LC', 'SPE', 'DPT', 'MVW', 'PCC', 'PES', 'SCQ', 'LVVG', 'LPSL', 'VNH', 'YNC', 'LPN', 'QC', 'TDSS', 'QCP', 'GGFG', 'CM', 'TRR', 'SKC', 'ELC', 'KAD', 'GEA', 'CNS', 'PYL', 'DWR', 'KDKE', 'CCS', 'GYC', 'HTE', 'ARGL', 'EGV', 'CID', 'PKK', 'IFC', 'TPK', 'NPW', 'QLA', 'PYP', 'PSY', 'HQP', 'TTLR', 'PPT', 'SLY', 'DSW', 'LMS', 'GFL', 'VKS', 'TTA', 'PST', 'QEEE', 'DDY']\n",
      "[361, 4400, 8550, 3185, 7854, 12604, 13511, 3778, 4042, 3104, 6549, 3850, 3866, 5604, 4138, 7654, 8119, 7403, 312, 1191, 2581, 14901, 14161, 2441, 8459, 7085, 9288, 5798, 14051, 1796, 1138, 13692, 12076, 7835, 552, 1979, 10207, 5829, 4171, 1655, 6549, 2934, 5664, 13821, 8984, 6260, 7011, 8700, 1291, 4921, 3063, 6879, 3777, 8154, 2311, 4042, 3928, 6552, 15013, 2532, 1932, 5569, 2841, 1170, 1426, 1043, 1609, 14880, 3333]\n"
     ]
    }
   ],
   "source": [
    "example_seq = 'MRYTVLIALQGALLLLLLIDDGQGQSPYPYPGMPCNSSRQCGLGTCVHSRCAHCSSDGTLCSPEDPTMVWPCCPESSCQLVVG' + \\\n",
    "              'LPSLVNHYNCLPNQCTDSSQCPGGFGCMTRRSKCELCKADGEACNSPYLDWRKDKECCSGYCHTEARGLEGVCIDPKKIFCTP' + \\\n",
    "              'KNPWQLAPYPPSYHQPTTLRPPTSLYDSWLMSGFLVKSTTAPSTQEEEDDY'\n",
    "\n",
    "print(sp.encode_as_pieces(example_seq))\n",
    "print(sp.encode_as_ids(example_seq))"
   ]
  },
  {
   "cell_type": "markdown",
   "metadata": {},
   "source": [
    "# Preprocess our dataset sequences using the trained sentencepiece model"
   ]
  },
  {
   "cell_type": "code",
   "execution_count": 20,
   "metadata": {},
   "outputs": [],
   "source": [
    "DATASET_H5_FILE_PATH = '/cs/phd/nadavb/cafa_project/data/protein_tokens.h5'"
   ]
  },
  {
   "cell_type": "code",
   "execution_count": 64,
   "metadata": {},
   "outputs": [
    {
     "name": "stdout",
     "output_type": "stream",
     "text": [
      "Done.0\n"
     ]
    }
   ],
   "source": [
    "N_SEQS = 1000000\n",
    "\n",
    "REP_ID_PATTERN = re.compile(r'RepID=(\\S+)')\n",
    "\n",
    "with gzip.open(INPUT_FASTA_FILE_PATH, 'rt') as input_fasta_file, h5py.File(DATASET_H5_FILE_PATH, 'w') as h5f:\n",
    "    \n",
    "    h5f_group = h5f.create_group('protein_tokens')\n",
    "    h5f_rep_id = h5f_group.create_dataset('rep_id', shape = (N_SEQS,), dtype = h5py.string_dtype())\n",
    "    h5f_tokens = h5f_group.create_dataset('tokens', shape = (N_SEQS,), dtype = h5py.vlen_dtype(np.int16))\n",
    "    h5f_seq_length = h5f_group.create_dataset('seq_length', shape = (N_SEQS,), dtype = np.int32)\n",
    "    h5f_n_tokens = h5f_group.create_dataset('n_tokens', shape = (N_SEQS,), dtype = np.int32)\n",
    "    \n",
    "    for i, record in enumerate(SeqIO.parse(input_fasta_file, 'fasta')):\n",
    "        \n",
    "        if N_SEQS is not None and i >= N_SEQS:\n",
    "            break\n",
    "        \n",
    "        if i % 1000 == 0:\n",
    "            print(i, end = '\\r')\n",
    "        \n",
    "        rep_id, = REP_ID_PATTERN.findall(record.description)\n",
    "        tokens = sp.encode_as_ids(str(record.seq))\n",
    "        seq_length = len(record.seq)\n",
    "        n_tokens = len(tokens)\n",
    "        \n",
    "        h5f_rep_id[i] = rep_id\n",
    "        h5f_tokens[i] = tokens\n",
    "        h5f_seq_length[i] = seq_length\n",
    "        h5f_n_tokens[i] = n_tokens\n",
    "\n",
    "print('Done.')"
   ]
  },
  {
   "cell_type": "code",
   "execution_count": 63,
   "metadata": {},
   "outputs": [
    {
     "data": {
      "text/plain": [
       "Text(0, 0.5, '# Seqs')"
      ]
     },
     "execution_count": 63,
     "metadata": {},
     "output_type": "execute_result"
    },
    {
     "data": {
      "image/png": "[encoded data removed]",
      "text/plain": [
       "<Figure size 720x288 with 1 Axes>"
      ]
     },
     "metadata": {
      "needs_background": "light"
     },
     "output_type": "display_data"
    }
   ],
   "source": [
    "with h5py.File(DATASET_H5_FILE_PATH, 'r') as h5f:\n",
    "    h5f_group = h5f['protein_tokens']\n",
    "    all_n_tokens = h5f_group['n_tokens'][:]\n",
    "    \n",
    "fig, ax = plt.subplots(figsize = (10, 4))\n",
    "ax.hist(all_n_tokens, bins = 200)\n",
    "ax.set_xlabel('# Tokens')\n",
    "ax.set_ylabel('# Seqs')"
   ]
  }
 ],
 "metadata": {
  "kernelspec": {
   "display_name": "Python 3",
   "language": "python",
   "name": "python3"
  },
  "language_info": {
   "codemirror_mode": {
    "name": "ipython",
    "version": 3
   },
   "file_extension": ".py",
   "mimetype": "text/x-python",
   "name": "python",
   "nbconvert_exporter": "python",
   "pygments_lexer": "ipython3",
   "version": "3.7.3"
  }
 },
 "nbformat": 4,
 "nbformat_minor": 2
}
